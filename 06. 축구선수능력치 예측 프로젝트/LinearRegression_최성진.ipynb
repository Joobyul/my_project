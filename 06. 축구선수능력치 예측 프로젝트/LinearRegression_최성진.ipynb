{
 "cells": [
  {
   "cell_type": "code",
   "execution_count": 285,
   "id": "23e280f4-1ca3-4ca8-8cd6-9baa78428624",
   "metadata": {},
   "outputs": [],
   "source": [
    "import pandas as pd \n",
    "import numpy as np \n",
    "import matplotlib.pyplot as plt \n",
    "import seaborn as sns\n",
    "from sklearn.model_selection import train_test_split\n",
    "from sklearn.linear_model import LinearRegression"
   ]
  },
  {
   "cell_type": "code",
   "execution_count": 286,
   "id": "8ba1ea61-fa9f-4147-9aa3-fbe23c1caa41",
   "metadata": {},
   "outputs": [],
   "source": [
    "# 1.1  파일 읽어오기\n",
    "filename='../data/player_real_final.csv'\n",
    "df=pd.read_csv(filename)"
   ]
  },
  {
   "cell_type": "markdown",
   "id": "73c3963e-33db-4130-af53-632a02617121",
   "metadata": {},
   "source": [
    "## 특성, 타겟 선정\n",
    "- 특성 : 능력치 7개\n",
    "- 타겟 : potential"
   ]
  },
  {
   "cell_type": "code",
   "execution_count": 287,
   "id": "7c63f976-3a63-4346-b876-bdfe6ab76470",
   "metadata": {},
   "outputs": [],
   "source": [
    "df.position = ['FW' if 'S' in i or 'W' in i else 'MID' if 'M' in i else 'DF' if 'B' in i else 'GK'  for i in df.position]"
   ]
  },
  {
   "cell_type": "code",
   "execution_count": 288,
   "id": "69b63f6b-8222-47b8-bca6-62fba4dc831b",
   "metadata": {},
   "outputs": [],
   "source": [
    "df = pd.concat([df,pd.get_dummies(df.position, columns=['FW','MID','CB','GK'])], axis=1)"
   ]
  },
  {
   "cell_type": "code",
   "execution_count": 289,
   "id": "b30b0db1-a986-4557-947b-3d233e986e4a",
   "metadata": {},
   "outputs": [
    {
     "data": {
      "text/html": [
       "<div>\n",
       "<style scoped>\n",
       "    .dataframe tbody tr th:only-of-type {\n",
       "        vertical-align: middle;\n",
       "    }\n",
       "\n",
       "    .dataframe tbody tr th {\n",
       "        vertical-align: top;\n",
       "    }\n",
       "\n",
       "    .dataframe thead th {\n",
       "        text-align: right;\n",
       "    }\n",
       "</style>\n",
       "<table border=\"1\" class=\"dataframe\">\n",
       "  <thead>\n",
       "    <tr style=\"text-align: right;\">\n",
       "      <th></th>\n",
       "      <th>name</th>\n",
       "      <th>overall</th>\n",
       "      <th>potential</th>\n",
       "      <th>value_euro</th>\n",
       "      <th>wage_eruo</th>\n",
       "      <th>player_url</th>\n",
       "      <th>player_face_url</th>\n",
       "      <th>age</th>\n",
       "      <th>height_cm</th>\n",
       "      <th>weight_kg</th>\n",
       "      <th>...</th>\n",
       "      <th>skill</th>\n",
       "      <th>movement</th>\n",
       "      <th>power</th>\n",
       "      <th>mentality</th>\n",
       "      <th>defending</th>\n",
       "      <th>goalkeeping</th>\n",
       "      <th>DF</th>\n",
       "      <th>FW</th>\n",
       "      <th>GK</th>\n",
       "      <th>MID</th>\n",
       "    </tr>\n",
       "  </thead>\n",
       "  <tbody>\n",
       "    <tr>\n",
       "      <th>0</th>\n",
       "      <td>L. Messi</td>\n",
       "      <td>93</td>\n",
       "      <td>93</td>\n",
       "      <td>78000000.0</td>\n",
       "      <td>320000.0</td>\n",
       "      <td>https://sofifa.com/player/158023/lionel-messi/...</td>\n",
       "      <td>https://cdn.sofifa.net/players/158/023/22_120.png</td>\n",
       "      <td>34</td>\n",
       "      <td>170</td>\n",
       "      <td>72</td>\n",
       "      <td>...</td>\n",
       "      <td>79.000000</td>\n",
       "      <td>90.2</td>\n",
       "      <td>77.8</td>\n",
       "      <td>73.833333</td>\n",
       "      <td>28.25</td>\n",
       "      <td>10.8</td>\n",
       "      <td>0</td>\n",
       "      <td>1</td>\n",
       "      <td>0</td>\n",
       "      <td>0</td>\n",
       "    </tr>\n",
       "    <tr>\n",
       "      <th>1</th>\n",
       "      <td>R. Lewandowski</td>\n",
       "      <td>92</td>\n",
       "      <td>92</td>\n",
       "      <td>119500000.0</td>\n",
       "      <td>270000.0</td>\n",
       "      <td>https://sofifa.com/player/188545/robert-lewand...</td>\n",
       "      <td>https://cdn.sofifa.net/players/188/545/22_120.png</td>\n",
       "      <td>32</td>\n",
       "      <td>185</td>\n",
       "      <td>81</td>\n",
       "      <td>...</td>\n",
       "      <td>68.500000</td>\n",
       "      <td>81.6</td>\n",
       "      <td>84.8</td>\n",
       "      <td>80.666667</td>\n",
       "      <td>35.00</td>\n",
       "      <td>10.2</td>\n",
       "      <td>0</td>\n",
       "      <td>1</td>\n",
       "      <td>0</td>\n",
       "      <td>0</td>\n",
       "    </tr>\n",
       "    <tr>\n",
       "      <th>2</th>\n",
       "      <td>Cristiano Ronaldo</td>\n",
       "      <td>91</td>\n",
       "      <td>91</td>\n",
       "      <td>45000000.0</td>\n",
       "      <td>270000.0</td>\n",
       "      <td>https://sofifa.com/player/20801/c-ronaldo-dos-...</td>\n",
       "      <td>https://cdn.sofifa.net/players/020/801/22_120.png</td>\n",
       "      <td>36</td>\n",
       "      <td>187</td>\n",
       "      <td>83</td>\n",
       "      <td>...</td>\n",
       "      <td>70.500000</td>\n",
       "      <td>85.4</td>\n",
       "      <td>87.2</td>\n",
       "      <td>74.333333</td>\n",
       "      <td>28.50</td>\n",
       "      <td>11.6</td>\n",
       "      <td>0</td>\n",
       "      <td>1</td>\n",
       "      <td>0</td>\n",
       "      <td>0</td>\n",
       "    </tr>\n",
       "    <tr>\n",
       "      <th>3</th>\n",
       "      <td>Neymar Jr</td>\n",
       "      <td>91</td>\n",
       "      <td>91</td>\n",
       "      <td>129000000.0</td>\n",
       "      <td>270000.0</td>\n",
       "      <td>https://sofifa.com/player/190871/neymar-da-sil...</td>\n",
       "      <td>https://cdn.sofifa.net/players/190/871/22_120.png</td>\n",
       "      <td>29</td>\n",
       "      <td>175</td>\n",
       "      <td>68</td>\n",
       "      <td>...</td>\n",
       "      <td>75.166667</td>\n",
       "      <td>90.2</td>\n",
       "      <td>71.8</td>\n",
       "      <td>77.000000</td>\n",
       "      <td>33.25</td>\n",
       "      <td>11.8</td>\n",
       "      <td>0</td>\n",
       "      <td>1</td>\n",
       "      <td>0</td>\n",
       "      <td>0</td>\n",
       "    </tr>\n",
       "    <tr>\n",
       "      <th>4</th>\n",
       "      <td>K. De Bruyne</td>\n",
       "      <td>91</td>\n",
       "      <td>91</td>\n",
       "      <td>125500000.0</td>\n",
       "      <td>350000.0</td>\n",
       "      <td>https://sofifa.com/player/192985/kevin-de-bruy...</td>\n",
       "      <td>https://cdn.sofifa.net/players/192/985/22_120.png</td>\n",
       "      <td>30</td>\n",
       "      <td>181</td>\n",
       "      <td>70</td>\n",
       "      <td>...</td>\n",
       "      <td>74.000000</td>\n",
       "      <td>80.0</td>\n",
       "      <td>81.6</td>\n",
       "      <td>82.666667</td>\n",
       "      <td>62.50</td>\n",
       "      <td>11.2</td>\n",
       "      <td>0</td>\n",
       "      <td>0</td>\n",
       "      <td>0</td>\n",
       "      <td>1</td>\n",
       "    </tr>\n",
       "    <tr>\n",
       "      <th>...</th>\n",
       "      <td>...</td>\n",
       "      <td>...</td>\n",
       "      <td>...</td>\n",
       "      <td>...</td>\n",
       "      <td>...</td>\n",
       "      <td>...</td>\n",
       "      <td>...</td>\n",
       "      <td>...</td>\n",
       "      <td>...</td>\n",
       "      <td>...</td>\n",
       "      <td>...</td>\n",
       "      <td>...</td>\n",
       "      <td>...</td>\n",
       "      <td>...</td>\n",
       "      <td>...</td>\n",
       "      <td>...</td>\n",
       "      <td>...</td>\n",
       "      <td>...</td>\n",
       "      <td>...</td>\n",
       "      <td>...</td>\n",
       "      <td>...</td>\n",
       "    </tr>\n",
       "    <tr>\n",
       "      <th>15081</th>\n",
       "      <td>D. Da Silva</td>\n",
       "      <td>47</td>\n",
       "      <td>55</td>\n",
       "      <td>90000.0</td>\n",
       "      <td>500.0</td>\n",
       "      <td>https://sofifa.com/player/259213/dylan-da-silv...</td>\n",
       "      <td>https://cdn.sofifa.net/players/259/213/22_120.png</td>\n",
       "      <td>21</td>\n",
       "      <td>175</td>\n",
       "      <td>77</td>\n",
       "      <td>...</td>\n",
       "      <td>11.666667</td>\n",
       "      <td>34.0</td>\n",
       "      <td>35.4</td>\n",
       "      <td>17.166667</td>\n",
       "      <td>10.00</td>\n",
       "      <td>46.2</td>\n",
       "      <td>0</td>\n",
       "      <td>1</td>\n",
       "      <td>0</td>\n",
       "      <td>0</td>\n",
       "    </tr>\n",
       "    <tr>\n",
       "      <th>15082</th>\n",
       "      <td>H. Singh</td>\n",
       "      <td>47</td>\n",
       "      <td>64</td>\n",
       "      <td>120000.0</td>\n",
       "      <td>500.0</td>\n",
       "      <td>https://sofifa.com/player/259737/haobam-singh/...</td>\n",
       "      <td>https://cdn.sofifa.net/players/259/737/22_120.png</td>\n",
       "      <td>18</td>\n",
       "      <td>170</td>\n",
       "      <td>62</td>\n",
       "      <td>...</td>\n",
       "      <td>33.500000</td>\n",
       "      <td>62.4</td>\n",
       "      <td>48.2</td>\n",
       "      <td>47.166667</td>\n",
       "      <td>41.50</td>\n",
       "      <td>12.2</td>\n",
       "      <td>0</td>\n",
       "      <td>1</td>\n",
       "      <td>0</td>\n",
       "      <td>0</td>\n",
       "    </tr>\n",
       "    <tr>\n",
       "      <th>15083</th>\n",
       "      <td>M. O'Brien</td>\n",
       "      <td>47</td>\n",
       "      <td>61</td>\n",
       "      <td>110000.0</td>\n",
       "      <td>500.0</td>\n",
       "      <td>https://sofifa.com/player/261667/matthew-obrie...</td>\n",
       "      <td>https://cdn.sofifa.net/players/261/667/22_120.png</td>\n",
       "      <td>18</td>\n",
       "      <td>176</td>\n",
       "      <td>71</td>\n",
       "      <td>...</td>\n",
       "      <td>34.500000</td>\n",
       "      <td>54.0</td>\n",
       "      <td>41.4</td>\n",
       "      <td>40.666667</td>\n",
       "      <td>25.25</td>\n",
       "      <td>10.8</td>\n",
       "      <td>0</td>\n",
       "      <td>1</td>\n",
       "      <td>0</td>\n",
       "      <td>0</td>\n",
       "    </tr>\n",
       "    <tr>\n",
       "      <th>15084</th>\n",
       "      <td>C. Porter</td>\n",
       "      <td>47</td>\n",
       "      <td>59</td>\n",
       "      <td>110000.0</td>\n",
       "      <td>500.0</td>\n",
       "      <td>https://sofifa.com/player/262040/caoimhin-port...</td>\n",
       "      <td>https://cdn.sofifa.net/players/262/040/22_120.png</td>\n",
       "      <td>19</td>\n",
       "      <td>175</td>\n",
       "      <td>70</td>\n",
       "      <td>...</td>\n",
       "      <td>36.500000</td>\n",
       "      <td>60.0</td>\n",
       "      <td>48.8</td>\n",
       "      <td>46.500000</td>\n",
       "      <td>42.25</td>\n",
       "      <td>9.4</td>\n",
       "      <td>0</td>\n",
       "      <td>1</td>\n",
       "      <td>0</td>\n",
       "      <td>0</td>\n",
       "    </tr>\n",
       "    <tr>\n",
       "      <th>15085</th>\n",
       "      <td>N. Logue</td>\n",
       "      <td>47</td>\n",
       "      <td>55</td>\n",
       "      <td>100000.0</td>\n",
       "      <td>500.0</td>\n",
       "      <td>https://sofifa.com/player/262760/nathan-logue/...</td>\n",
       "      <td>https://cdn.sofifa.net/players/262/760/22_120.png</td>\n",
       "      <td>21</td>\n",
       "      <td>178</td>\n",
       "      <td>72</td>\n",
       "      <td>...</td>\n",
       "      <td>36.833333</td>\n",
       "      <td>56.6</td>\n",
       "      <td>49.4</td>\n",
       "      <td>42.500000</td>\n",
       "      <td>42.75</td>\n",
       "      <td>7.4</td>\n",
       "      <td>0</td>\n",
       "      <td>1</td>\n",
       "      <td>0</td>\n",
       "      <td>0</td>\n",
       "    </tr>\n",
       "  </tbody>\n",
       "</table>\n",
       "<p>15086 rows × 24 columns</p>\n",
       "</div>"
      ],
      "text/plain": [
       "                    name  overall  potential   value_euro  wage_eruo  \\\n",
       "0               L. Messi       93         93   78000000.0   320000.0   \n",
       "1         R. Lewandowski       92         92  119500000.0   270000.0   \n",
       "2      Cristiano Ronaldo       91         91   45000000.0   270000.0   \n",
       "3              Neymar Jr       91         91  129000000.0   270000.0   \n",
       "4           K. De Bruyne       91         91  125500000.0   350000.0   \n",
       "...                  ...      ...        ...          ...        ...   \n",
       "15081        D. Da Silva       47         55      90000.0      500.0   \n",
       "15082           H. Singh       47         64     120000.0      500.0   \n",
       "15083         M. O'Brien       47         61     110000.0      500.0   \n",
       "15084          C. Porter       47         59     110000.0      500.0   \n",
       "15085           N. Logue       47         55     100000.0      500.0   \n",
       "\n",
       "                                              player_url  \\\n",
       "0      https://sofifa.com/player/158023/lionel-messi/...   \n",
       "1      https://sofifa.com/player/188545/robert-lewand...   \n",
       "2      https://sofifa.com/player/20801/c-ronaldo-dos-...   \n",
       "3      https://sofifa.com/player/190871/neymar-da-sil...   \n",
       "4      https://sofifa.com/player/192985/kevin-de-bruy...   \n",
       "...                                                  ...   \n",
       "15081  https://sofifa.com/player/259213/dylan-da-silv...   \n",
       "15082  https://sofifa.com/player/259737/haobam-singh/...   \n",
       "15083  https://sofifa.com/player/261667/matthew-obrie...   \n",
       "15084  https://sofifa.com/player/262040/caoimhin-port...   \n",
       "15085  https://sofifa.com/player/262760/nathan-logue/...   \n",
       "\n",
       "                                         player_face_url  age  height_cm  \\\n",
       "0      https://cdn.sofifa.net/players/158/023/22_120.png   34        170   \n",
       "1      https://cdn.sofifa.net/players/188/545/22_120.png   32        185   \n",
       "2      https://cdn.sofifa.net/players/020/801/22_120.png   36        187   \n",
       "3      https://cdn.sofifa.net/players/190/871/22_120.png   29        175   \n",
       "4      https://cdn.sofifa.net/players/192/985/22_120.png   30        181   \n",
       "...                                                  ...  ...        ...   \n",
       "15081  https://cdn.sofifa.net/players/259/213/22_120.png   21        175   \n",
       "15082  https://cdn.sofifa.net/players/259/737/22_120.png   18        170   \n",
       "15083  https://cdn.sofifa.net/players/261/667/22_120.png   18        176   \n",
       "15084  https://cdn.sofifa.net/players/262/040/22_120.png   19        175   \n",
       "15085  https://cdn.sofifa.net/players/262/760/22_120.png   21        178   \n",
       "\n",
       "       weight_kg  ...      skill movement power  mentality  defending  \\\n",
       "0             72  ...  79.000000     90.2  77.8  73.833333      28.25   \n",
       "1             81  ...  68.500000     81.6  84.8  80.666667      35.00   \n",
       "2             83  ...  70.500000     85.4  87.2  74.333333      28.50   \n",
       "3             68  ...  75.166667     90.2  71.8  77.000000      33.25   \n",
       "4             70  ...  74.000000     80.0  81.6  82.666667      62.50   \n",
       "...          ...  ...        ...      ...   ...        ...        ...   \n",
       "15081         77  ...  11.666667     34.0  35.4  17.166667      10.00   \n",
       "15082         62  ...  33.500000     62.4  48.2  47.166667      41.50   \n",
       "15083         71  ...  34.500000     54.0  41.4  40.666667      25.25   \n",
       "15084         70  ...  36.500000     60.0  48.8  46.500000      42.25   \n",
       "15085         72  ...  36.833333     56.6  49.4  42.500000      42.75   \n",
       "\n",
       "       goalkeeping  DF  FW  GK  MID  \n",
       "0             10.8   0   1   0    0  \n",
       "1             10.2   0   1   0    0  \n",
       "2             11.6   0   1   0    0  \n",
       "3             11.8   0   1   0    0  \n",
       "4             11.2   0   0   0    1  \n",
       "...            ...  ..  ..  ..  ...  \n",
       "15081         46.2   0   1   0    0  \n",
       "15082         12.2   0   1   0    0  \n",
       "15083         10.8   0   1   0    0  \n",
       "15084          9.4   0   1   0    0  \n",
       "15085          7.4   0   1   0    0  \n",
       "\n",
       "[15086 rows x 24 columns]"
      ]
     },
     "execution_count": 289,
     "metadata": {},
     "output_type": "execute_result"
    }
   ],
   "source": [
    "df"
   ]
  },
  {
   "cell_type": "code",
   "execution_count": 290,
   "id": "6e96d780-2321-441c-a028-487d0d0ce7b5",
   "metadata": {},
   "outputs": [],
   "source": [
    "ndf = df.iloc[:,-11:]"
   ]
  },
  {
   "cell_type": "code",
   "execution_count": 291,
   "id": "1b07cca1-d3b8-4a55-b3a8-0266d8098d82",
   "metadata": {},
   "outputs": [],
   "source": [
    "ndf = pd.concat([ndf,df.potential,df.overall], axis=1)"
   ]
  },
  {
   "cell_type": "code",
   "execution_count": 292,
   "id": "cc53d4ed-714b-46c9-83f1-edb4abdd38f2",
   "metadata": {},
   "outputs": [],
   "source": [
    "from sklearn.model_selection import train_test_split"
   ]
  },
  {
   "cell_type": "code",
   "execution_count": 293,
   "id": "cec72aba-8c92-47f3-8b8c-0f8d6c68a13c",
   "metadata": {},
   "outputs": [
    {
     "data": {
      "text/html": [
       "<div>\n",
       "<style scoped>\n",
       "    .dataframe tbody tr th:only-of-type {\n",
       "        vertical-align: middle;\n",
       "    }\n",
       "\n",
       "    .dataframe tbody tr th {\n",
       "        vertical-align: top;\n",
       "    }\n",
       "\n",
       "    .dataframe thead th {\n",
       "        text-align: right;\n",
       "    }\n",
       "</style>\n",
       "<table border=\"1\" class=\"dataframe\">\n",
       "  <thead>\n",
       "    <tr style=\"text-align: right;\">\n",
       "      <th></th>\n",
       "      <th>attacking</th>\n",
       "      <th>skill</th>\n",
       "      <th>movement</th>\n",
       "      <th>power</th>\n",
       "      <th>mentality</th>\n",
       "      <th>defending</th>\n",
       "      <th>goalkeeping</th>\n",
       "      <th>DF</th>\n",
       "      <th>FW</th>\n",
       "      <th>GK</th>\n",
       "      <th>MID</th>\n",
       "      <th>potential</th>\n",
       "      <th>overall</th>\n",
       "    </tr>\n",
       "  </thead>\n",
       "  <tbody>\n",
       "    <tr>\n",
       "      <th>0</th>\n",
       "      <td>85.8</td>\n",
       "      <td>79.000000</td>\n",
       "      <td>90.2</td>\n",
       "      <td>77.8</td>\n",
       "      <td>73.833333</td>\n",
       "      <td>28.25</td>\n",
       "      <td>10.8</td>\n",
       "      <td>0</td>\n",
       "      <td>1</td>\n",
       "      <td>0</td>\n",
       "      <td>0</td>\n",
       "      <td>93</td>\n",
       "      <td>93</td>\n",
       "    </tr>\n",
       "    <tr>\n",
       "      <th>1</th>\n",
       "      <td>86.0</td>\n",
       "      <td>68.500000</td>\n",
       "      <td>81.6</td>\n",
       "      <td>84.8</td>\n",
       "      <td>80.666667</td>\n",
       "      <td>35.00</td>\n",
       "      <td>10.2</td>\n",
       "      <td>0</td>\n",
       "      <td>1</td>\n",
       "      <td>0</td>\n",
       "      <td>0</td>\n",
       "      <td>92</td>\n",
       "      <td>92</td>\n",
       "    </tr>\n",
       "    <tr>\n",
       "      <th>2</th>\n",
       "      <td>87.6</td>\n",
       "      <td>70.500000</td>\n",
       "      <td>85.4</td>\n",
       "      <td>87.2</td>\n",
       "      <td>74.333333</td>\n",
       "      <td>28.50</td>\n",
       "      <td>11.6</td>\n",
       "      <td>0</td>\n",
       "      <td>1</td>\n",
       "      <td>0</td>\n",
       "      <td>0</td>\n",
       "      <td>91</td>\n",
       "      <td>91</td>\n",
       "    </tr>\n",
       "    <tr>\n",
       "      <th>3</th>\n",
       "      <td>80.6</td>\n",
       "      <td>75.166667</td>\n",
       "      <td>90.2</td>\n",
       "      <td>71.8</td>\n",
       "      <td>77.000000</td>\n",
       "      <td>33.25</td>\n",
       "      <td>11.8</td>\n",
       "      <td>0</td>\n",
       "      <td>1</td>\n",
       "      <td>0</td>\n",
       "      <td>0</td>\n",
       "      <td>91</td>\n",
       "      <td>91</td>\n",
       "    </tr>\n",
       "    <tr>\n",
       "      <th>4</th>\n",
       "      <td>81.4</td>\n",
       "      <td>74.000000</td>\n",
       "      <td>80.0</td>\n",
       "      <td>81.6</td>\n",
       "      <td>82.666667</td>\n",
       "      <td>62.50</td>\n",
       "      <td>11.2</td>\n",
       "      <td>0</td>\n",
       "      <td>0</td>\n",
       "      <td>0</td>\n",
       "      <td>1</td>\n",
       "      <td>91</td>\n",
       "      <td>91</td>\n",
       "    </tr>\n",
       "    <tr>\n",
       "      <th>...</th>\n",
       "      <td>...</td>\n",
       "      <td>...</td>\n",
       "      <td>...</td>\n",
       "      <td>...</td>\n",
       "      <td>...</td>\n",
       "      <td>...</td>\n",
       "      <td>...</td>\n",
       "      <td>...</td>\n",
       "      <td>...</td>\n",
       "      <td>...</td>\n",
       "      <td>...</td>\n",
       "      <td>...</td>\n",
       "      <td>...</td>\n",
       "    </tr>\n",
       "    <tr>\n",
       "      <th>15081</th>\n",
       "      <td>12.4</td>\n",
       "      <td>11.666667</td>\n",
       "      <td>34.0</td>\n",
       "      <td>35.4</td>\n",
       "      <td>17.166667</td>\n",
       "      <td>10.00</td>\n",
       "      <td>46.2</td>\n",
       "      <td>0</td>\n",
       "      <td>1</td>\n",
       "      <td>0</td>\n",
       "      <td>0</td>\n",
       "      <td>55</td>\n",
       "      <td>47</td>\n",
       "    </tr>\n",
       "    <tr>\n",
       "      <th>15082</th>\n",
       "      <td>39.2</td>\n",
       "      <td>33.500000</td>\n",
       "      <td>62.4</td>\n",
       "      <td>48.2</td>\n",
       "      <td>47.166667</td>\n",
       "      <td>41.50</td>\n",
       "      <td>12.2</td>\n",
       "      <td>0</td>\n",
       "      <td>1</td>\n",
       "      <td>0</td>\n",
       "      <td>0</td>\n",
       "      <td>64</td>\n",
       "      <td>47</td>\n",
       "    </tr>\n",
       "    <tr>\n",
       "      <th>15083</th>\n",
       "      <td>41.0</td>\n",
       "      <td>34.500000</td>\n",
       "      <td>54.0</td>\n",
       "      <td>41.4</td>\n",
       "      <td>40.666667</td>\n",
       "      <td>25.25</td>\n",
       "      <td>10.8</td>\n",
       "      <td>0</td>\n",
       "      <td>1</td>\n",
       "      <td>0</td>\n",
       "      <td>0</td>\n",
       "      <td>61</td>\n",
       "      <td>47</td>\n",
       "    </tr>\n",
       "    <tr>\n",
       "      <th>15084</th>\n",
       "      <td>43.2</td>\n",
       "      <td>36.500000</td>\n",
       "      <td>60.0</td>\n",
       "      <td>48.8</td>\n",
       "      <td>46.500000</td>\n",
       "      <td>42.25</td>\n",
       "      <td>9.4</td>\n",
       "      <td>0</td>\n",
       "      <td>1</td>\n",
       "      <td>0</td>\n",
       "      <td>0</td>\n",
       "      <td>59</td>\n",
       "      <td>47</td>\n",
       "    </tr>\n",
       "    <tr>\n",
       "      <th>15085</th>\n",
       "      <td>40.0</td>\n",
       "      <td>36.833333</td>\n",
       "      <td>56.6</td>\n",
       "      <td>49.4</td>\n",
       "      <td>42.500000</td>\n",
       "      <td>42.75</td>\n",
       "      <td>7.4</td>\n",
       "      <td>0</td>\n",
       "      <td>1</td>\n",
       "      <td>0</td>\n",
       "      <td>0</td>\n",
       "      <td>55</td>\n",
       "      <td>47</td>\n",
       "    </tr>\n",
       "  </tbody>\n",
       "</table>\n",
       "<p>15086 rows × 13 columns</p>\n",
       "</div>"
      ],
      "text/plain": [
       "       attacking      skill  movement  power  mentality  defending  \\\n",
       "0           85.8  79.000000      90.2   77.8  73.833333      28.25   \n",
       "1           86.0  68.500000      81.6   84.8  80.666667      35.00   \n",
       "2           87.6  70.500000      85.4   87.2  74.333333      28.50   \n",
       "3           80.6  75.166667      90.2   71.8  77.000000      33.25   \n",
       "4           81.4  74.000000      80.0   81.6  82.666667      62.50   \n",
       "...          ...        ...       ...    ...        ...        ...   \n",
       "15081       12.4  11.666667      34.0   35.4  17.166667      10.00   \n",
       "15082       39.2  33.500000      62.4   48.2  47.166667      41.50   \n",
       "15083       41.0  34.500000      54.0   41.4  40.666667      25.25   \n",
       "15084       43.2  36.500000      60.0   48.8  46.500000      42.25   \n",
       "15085       40.0  36.833333      56.6   49.4  42.500000      42.75   \n",
       "\n",
       "       goalkeeping  DF  FW  GK  MID  potential  overall  \n",
       "0             10.8   0   1   0    0         93       93  \n",
       "1             10.2   0   1   0    0         92       92  \n",
       "2             11.6   0   1   0    0         91       91  \n",
       "3             11.8   0   1   0    0         91       91  \n",
       "4             11.2   0   0   0    1         91       91  \n",
       "...            ...  ..  ..  ..  ...        ...      ...  \n",
       "15081         46.2   0   1   0    0         55       47  \n",
       "15082         12.2   0   1   0    0         64       47  \n",
       "15083         10.8   0   1   0    0         61       47  \n",
       "15084          9.4   0   1   0    0         59       47  \n",
       "15085          7.4   0   1   0    0         55       47  \n",
       "\n",
       "[15086 rows x 13 columns]"
      ]
     },
     "execution_count": 293,
     "metadata": {},
     "output_type": "execute_result"
    }
   ],
   "source": [
    "ndf"
   ]
  },
  {
   "cell_type": "code",
   "execution_count": 294,
   "id": "f4e0155d-88f4-495d-85cc-ae6ab573fcdc",
   "metadata": {},
   "outputs": [],
   "source": [
    "fw_DF=ndf[['overall', 'attacking', 'skill', 'movement','power' ,'mentality','defending', 'FW']]"
   ]
  },
  {
   "cell_type": "code",
   "execution_count": 295,
   "id": "65b79e01",
   "metadata": {},
   "outputs": [
    {
     "data": {
      "text/html": [
       "<div>\n",
       "<style scoped>\n",
       "    .dataframe tbody tr th:only-of-type {\n",
       "        vertical-align: middle;\n",
       "    }\n",
       "\n",
       "    .dataframe tbody tr th {\n",
       "        vertical-align: top;\n",
       "    }\n",
       "\n",
       "    .dataframe thead th {\n",
       "        text-align: right;\n",
       "    }\n",
       "</style>\n",
       "<table border=\"1\" class=\"dataframe\">\n",
       "  <thead>\n",
       "    <tr style=\"text-align: right;\">\n",
       "      <th></th>\n",
       "      <th>overall</th>\n",
       "      <th>attacking</th>\n",
       "      <th>skill</th>\n",
       "      <th>movement</th>\n",
       "      <th>power</th>\n",
       "      <th>mentality</th>\n",
       "      <th>defending</th>\n",
       "      <th>FW</th>\n",
       "    </tr>\n",
       "  </thead>\n",
       "  <tbody>\n",
       "    <tr>\n",
       "      <th>0</th>\n",
       "      <td>93</td>\n",
       "      <td>85.8</td>\n",
       "      <td>79.000000</td>\n",
       "      <td>90.2</td>\n",
       "      <td>77.8</td>\n",
       "      <td>73.833333</td>\n",
       "      <td>28.25</td>\n",
       "      <td>1</td>\n",
       "    </tr>\n",
       "    <tr>\n",
       "      <th>1</th>\n",
       "      <td>92</td>\n",
       "      <td>86.0</td>\n",
       "      <td>68.500000</td>\n",
       "      <td>81.6</td>\n",
       "      <td>84.8</td>\n",
       "      <td>80.666667</td>\n",
       "      <td>35.00</td>\n",
       "      <td>1</td>\n",
       "    </tr>\n",
       "    <tr>\n",
       "      <th>2</th>\n",
       "      <td>91</td>\n",
       "      <td>87.6</td>\n",
       "      <td>70.500000</td>\n",
       "      <td>85.4</td>\n",
       "      <td>87.2</td>\n",
       "      <td>74.333333</td>\n",
       "      <td>28.50</td>\n",
       "      <td>1</td>\n",
       "    </tr>\n",
       "    <tr>\n",
       "      <th>3</th>\n",
       "      <td>91</td>\n",
       "      <td>80.6</td>\n",
       "      <td>75.166667</td>\n",
       "      <td>90.2</td>\n",
       "      <td>71.8</td>\n",
       "      <td>77.000000</td>\n",
       "      <td>33.25</td>\n",
       "      <td>1</td>\n",
       "    </tr>\n",
       "    <tr>\n",
       "      <th>4</th>\n",
       "      <td>91</td>\n",
       "      <td>81.4</td>\n",
       "      <td>74.000000</td>\n",
       "      <td>80.0</td>\n",
       "      <td>81.6</td>\n",
       "      <td>82.666667</td>\n",
       "      <td>62.50</td>\n",
       "      <td>0</td>\n",
       "    </tr>\n",
       "    <tr>\n",
       "      <th>...</th>\n",
       "      <td>...</td>\n",
       "      <td>...</td>\n",
       "      <td>...</td>\n",
       "      <td>...</td>\n",
       "      <td>...</td>\n",
       "      <td>...</td>\n",
       "      <td>...</td>\n",
       "      <td>...</td>\n",
       "    </tr>\n",
       "    <tr>\n",
       "      <th>15081</th>\n",
       "      <td>47</td>\n",
       "      <td>12.4</td>\n",
       "      <td>11.666667</td>\n",
       "      <td>34.0</td>\n",
       "      <td>35.4</td>\n",
       "      <td>17.166667</td>\n",
       "      <td>10.00</td>\n",
       "      <td>1</td>\n",
       "    </tr>\n",
       "    <tr>\n",
       "      <th>15082</th>\n",
       "      <td>47</td>\n",
       "      <td>39.2</td>\n",
       "      <td>33.500000</td>\n",
       "      <td>62.4</td>\n",
       "      <td>48.2</td>\n",
       "      <td>47.166667</td>\n",
       "      <td>41.50</td>\n",
       "      <td>1</td>\n",
       "    </tr>\n",
       "    <tr>\n",
       "      <th>15083</th>\n",
       "      <td>47</td>\n",
       "      <td>41.0</td>\n",
       "      <td>34.500000</td>\n",
       "      <td>54.0</td>\n",
       "      <td>41.4</td>\n",
       "      <td>40.666667</td>\n",
       "      <td>25.25</td>\n",
       "      <td>1</td>\n",
       "    </tr>\n",
       "    <tr>\n",
       "      <th>15084</th>\n",
       "      <td>47</td>\n",
       "      <td>43.2</td>\n",
       "      <td>36.500000</td>\n",
       "      <td>60.0</td>\n",
       "      <td>48.8</td>\n",
       "      <td>46.500000</td>\n",
       "      <td>42.25</td>\n",
       "      <td>1</td>\n",
       "    </tr>\n",
       "    <tr>\n",
       "      <th>15085</th>\n",
       "      <td>47</td>\n",
       "      <td>40.0</td>\n",
       "      <td>36.833333</td>\n",
       "      <td>56.6</td>\n",
       "      <td>49.4</td>\n",
       "      <td>42.500000</td>\n",
       "      <td>42.75</td>\n",
       "      <td>1</td>\n",
       "    </tr>\n",
       "  </tbody>\n",
       "</table>\n",
       "<p>15086 rows × 8 columns</p>\n",
       "</div>"
      ],
      "text/plain": [
       "       overall  attacking      skill  movement  power  mentality  defending  \\\n",
       "0           93       85.8  79.000000      90.2   77.8  73.833333      28.25   \n",
       "1           92       86.0  68.500000      81.6   84.8  80.666667      35.00   \n",
       "2           91       87.6  70.500000      85.4   87.2  74.333333      28.50   \n",
       "3           91       80.6  75.166667      90.2   71.8  77.000000      33.25   \n",
       "4           91       81.4  74.000000      80.0   81.6  82.666667      62.50   \n",
       "...        ...        ...        ...       ...    ...        ...        ...   \n",
       "15081       47       12.4  11.666667      34.0   35.4  17.166667      10.00   \n",
       "15082       47       39.2  33.500000      62.4   48.2  47.166667      41.50   \n",
       "15083       47       41.0  34.500000      54.0   41.4  40.666667      25.25   \n",
       "15084       47       43.2  36.500000      60.0   48.8  46.500000      42.25   \n",
       "15085       47       40.0  36.833333      56.6   49.4  42.500000      42.75   \n",
       "\n",
       "       FW  \n",
       "0       1  \n",
       "1       1  \n",
       "2       1  \n",
       "3       1  \n",
       "4       0  \n",
       "...    ..  \n",
       "15081   1  \n",
       "15082   1  \n",
       "15083   1  \n",
       "15084   1  \n",
       "15085   1  \n",
       "\n",
       "[15086 rows x 8 columns]"
      ]
     },
     "execution_count": 295,
     "metadata": {},
     "output_type": "execute_result"
    }
   ],
   "source": [
    "fw_DF"
   ]
  },
  {
   "cell_type": "code",
   "execution_count": 296,
   "id": "0e9eb56a",
   "metadata": {},
   "outputs": [
    {
     "data": {
      "text/plain": [
       "0        1\n",
       "1        1\n",
       "2        1\n",
       "3        1\n",
       "4        0\n",
       "        ..\n",
       "15081    1\n",
       "15082    1\n",
       "15083    1\n",
       "15084    1\n",
       "15085    1\n",
       "Name: FW, Length: 15086, dtype: uint8"
      ]
     },
     "execution_count": 296,
     "metadata": {},
     "output_type": "execute_result"
    }
   ],
   "source": [
    "fw_DF['FW']"
   ]
  },
  {
   "cell_type": "code",
   "execution_count": 297,
   "id": "accdebcc",
   "metadata": {},
   "outputs": [],
   "source": [
    "onlyFW=fw_DF['FW'] == 1\n",
    "fw_DF=fw_DF[onlyFW]"
   ]
  },
  {
   "cell_type": "code",
   "execution_count": 298,
   "id": "a9d225f6",
   "metadata": {
    "scrolled": false
   },
   "outputs": [
    {
     "data": {
      "text/html": [
       "<div>\n",
       "<style scoped>\n",
       "    .dataframe tbody tr th:only-of-type {\n",
       "        vertical-align: middle;\n",
       "    }\n",
       "\n",
       "    .dataframe tbody tr th {\n",
       "        vertical-align: top;\n",
       "    }\n",
       "\n",
       "    .dataframe thead th {\n",
       "        text-align: right;\n",
       "    }\n",
       "</style>\n",
       "<table border=\"1\" class=\"dataframe\">\n",
       "  <thead>\n",
       "    <tr style=\"text-align: right;\">\n",
       "      <th></th>\n",
       "      <th>overall</th>\n",
       "      <th>attacking</th>\n",
       "      <th>skill</th>\n",
       "      <th>movement</th>\n",
       "      <th>power</th>\n",
       "      <th>mentality</th>\n",
       "      <th>defending</th>\n",
       "      <th>FW</th>\n",
       "    </tr>\n",
       "  </thead>\n",
       "  <tbody>\n",
       "    <tr>\n",
       "      <th>overall</th>\n",
       "      <td>1.000000</td>\n",
       "      <td>0.504556</td>\n",
       "      <td>0.496734</td>\n",
       "      <td>0.374036</td>\n",
       "      <td>0.584292</td>\n",
       "      <td>0.566228</td>\n",
       "      <td>0.204593</td>\n",
       "      <td>NaN</td>\n",
       "    </tr>\n",
       "    <tr>\n",
       "      <th>attacking</th>\n",
       "      <td>0.504556</td>\n",
       "      <td>1.000000</td>\n",
       "      <td>0.930174</td>\n",
       "      <td>0.739595</td>\n",
       "      <td>0.851113</td>\n",
       "      <td>0.903612</td>\n",
       "      <td>0.312208</td>\n",
       "      <td>NaN</td>\n",
       "    </tr>\n",
       "    <tr>\n",
       "      <th>skill</th>\n",
       "      <td>0.496734</td>\n",
       "      <td>0.930174</td>\n",
       "      <td>1.000000</td>\n",
       "      <td>0.772185</td>\n",
       "      <td>0.767519</td>\n",
       "      <td>0.905625</td>\n",
       "      <td>0.400873</td>\n",
       "      <td>NaN</td>\n",
       "    </tr>\n",
       "    <tr>\n",
       "      <th>movement</th>\n",
       "      <td>0.374036</td>\n",
       "      <td>0.739595</td>\n",
       "      <td>0.772185</td>\n",
       "      <td>1.000000</td>\n",
       "      <td>0.597337</td>\n",
       "      <td>0.675359</td>\n",
       "      <td>0.230135</td>\n",
       "      <td>NaN</td>\n",
       "    </tr>\n",
       "    <tr>\n",
       "      <th>power</th>\n",
       "      <td>0.584292</td>\n",
       "      <td>0.851113</td>\n",
       "      <td>0.767519</td>\n",
       "      <td>0.597337</td>\n",
       "      <td>1.000000</td>\n",
       "      <td>0.838211</td>\n",
       "      <td>0.318738</td>\n",
       "      <td>NaN</td>\n",
       "    </tr>\n",
       "    <tr>\n",
       "      <th>mentality</th>\n",
       "      <td>0.566228</td>\n",
       "      <td>0.903612</td>\n",
       "      <td>0.905625</td>\n",
       "      <td>0.675359</td>\n",
       "      <td>0.838211</td>\n",
       "      <td>1.000000</td>\n",
       "      <td>0.564935</td>\n",
       "      <td>NaN</td>\n",
       "    </tr>\n",
       "    <tr>\n",
       "      <th>defending</th>\n",
       "      <td>0.204593</td>\n",
       "      <td>0.312208</td>\n",
       "      <td>0.400873</td>\n",
       "      <td>0.230135</td>\n",
       "      <td>0.318738</td>\n",
       "      <td>0.564935</td>\n",
       "      <td>1.000000</td>\n",
       "      <td>NaN</td>\n",
       "    </tr>\n",
       "    <tr>\n",
       "      <th>FW</th>\n",
       "      <td>NaN</td>\n",
       "      <td>NaN</td>\n",
       "      <td>NaN</td>\n",
       "      <td>NaN</td>\n",
       "      <td>NaN</td>\n",
       "      <td>NaN</td>\n",
       "      <td>NaN</td>\n",
       "      <td>NaN</td>\n",
       "    </tr>\n",
       "  </tbody>\n",
       "</table>\n",
       "</div>"
      ],
      "text/plain": [
       "            overall  attacking     skill  movement     power  mentality  \\\n",
       "overall    1.000000   0.504556  0.496734  0.374036  0.584292   0.566228   \n",
       "attacking  0.504556   1.000000  0.930174  0.739595  0.851113   0.903612   \n",
       "skill      0.496734   0.930174  1.000000  0.772185  0.767519   0.905625   \n",
       "movement   0.374036   0.739595  0.772185  1.000000  0.597337   0.675359   \n",
       "power      0.584292   0.851113  0.767519  0.597337  1.000000   0.838211   \n",
       "mentality  0.566228   0.903612  0.905625  0.675359  0.838211   1.000000   \n",
       "defending  0.204593   0.312208  0.400873  0.230135  0.318738   0.564935   \n",
       "FW              NaN        NaN       NaN       NaN       NaN        NaN   \n",
       "\n",
       "           defending  FW  \n",
       "overall     0.204593 NaN  \n",
       "attacking   0.312208 NaN  \n",
       "skill       0.400873 NaN  \n",
       "movement    0.230135 NaN  \n",
       "power       0.318738 NaN  \n",
       "mentality   0.564935 NaN  \n",
       "defending   1.000000 NaN  \n",
       "FW               NaN NaN  "
      ]
     },
     "execution_count": 298,
     "metadata": {},
     "output_type": "execute_result"
    }
   ],
   "source": [
    "fw_DF.corr()"
   ]
  },
  {
   "cell_type": "code",
   "execution_count": 299,
   "id": "b73fd8bb",
   "metadata": {},
   "outputs": [],
   "source": [
    "fw_DF1=fw_DF.reset_index()"
   ]
  },
  {
   "cell_type": "code",
   "execution_count": 300,
   "id": "523d1bb5",
   "metadata": {},
   "outputs": [
    {
     "data": {
      "text/html": [
       "<div>\n",
       "<style scoped>\n",
       "    .dataframe tbody tr th:only-of-type {\n",
       "        vertical-align: middle;\n",
       "    }\n",
       "\n",
       "    .dataframe tbody tr th {\n",
       "        vertical-align: top;\n",
       "    }\n",
       "\n",
       "    .dataframe thead th {\n",
       "        text-align: right;\n",
       "    }\n",
       "</style>\n",
       "<table border=\"1\" class=\"dataframe\">\n",
       "  <thead>\n",
       "    <tr style=\"text-align: right;\">\n",
       "      <th></th>\n",
       "      <th>index</th>\n",
       "      <th>overall</th>\n",
       "    </tr>\n",
       "  </thead>\n",
       "  <tbody>\n",
       "    <tr>\n",
       "      <th>0</th>\n",
       "      <td>0</td>\n",
       "      <td>93</td>\n",
       "    </tr>\n",
       "    <tr>\n",
       "      <th>1</th>\n",
       "      <td>1</td>\n",
       "      <td>92</td>\n",
       "    </tr>\n",
       "    <tr>\n",
       "      <th>2</th>\n",
       "      <td>2</td>\n",
       "      <td>91</td>\n",
       "    </tr>\n",
       "    <tr>\n",
       "      <th>3</th>\n",
       "      <td>3</td>\n",
       "      <td>91</td>\n",
       "    </tr>\n",
       "    <tr>\n",
       "      <th>4</th>\n",
       "      <td>6</td>\n",
       "      <td>91</td>\n",
       "    </tr>\n",
       "    <tr>\n",
       "      <th>...</th>\n",
       "      <td>...</td>\n",
       "      <td>...</td>\n",
       "    </tr>\n",
       "    <tr>\n",
       "      <th>9585</th>\n",
       "      <td>15081</td>\n",
       "      <td>47</td>\n",
       "    </tr>\n",
       "    <tr>\n",
       "      <th>9586</th>\n",
       "      <td>15082</td>\n",
       "      <td>47</td>\n",
       "    </tr>\n",
       "    <tr>\n",
       "      <th>9587</th>\n",
       "      <td>15083</td>\n",
       "      <td>47</td>\n",
       "    </tr>\n",
       "    <tr>\n",
       "      <th>9588</th>\n",
       "      <td>15084</td>\n",
       "      <td>47</td>\n",
       "    </tr>\n",
       "    <tr>\n",
       "      <th>9589</th>\n",
       "      <td>15085</td>\n",
       "      <td>47</td>\n",
       "    </tr>\n",
       "  </tbody>\n",
       "</table>\n",
       "<p>9590 rows × 2 columns</p>\n",
       "</div>"
      ],
      "text/plain": [
       "      index  overall\n",
       "0         0       93\n",
       "1         1       92\n",
       "2         2       91\n",
       "3         3       91\n",
       "4         6       91\n",
       "...     ...      ...\n",
       "9585  15081       47\n",
       "9586  15082       47\n",
       "9587  15083       47\n",
       "9588  15084       47\n",
       "9589  15085       47\n",
       "\n",
       "[9590 rows x 2 columns]"
      ]
     },
     "execution_count": 300,
     "metadata": {},
     "output_type": "execute_result"
    }
   ],
   "source": [
    "for_fw=fw_DF1[['index', 'overall']]\n",
    "for_fw"
   ]
  },
  {
   "cell_type": "code",
   "execution_count": 301,
   "id": "6eba8150",
   "metadata": {},
   "outputs": [
    {
     "data": {
      "text/html": [
       "<div>\n",
       "<style scoped>\n",
       "    .dataframe tbody tr th:only-of-type {\n",
       "        vertical-align: middle;\n",
       "    }\n",
       "\n",
       "    .dataframe tbody tr th {\n",
       "        vertical-align: top;\n",
       "    }\n",
       "\n",
       "    .dataframe thead th {\n",
       "        text-align: right;\n",
       "    }\n",
       "</style>\n",
       "<table border=\"1\" class=\"dataframe\">\n",
       "  <thead>\n",
       "    <tr style=\"text-align: right;\">\n",
       "      <th></th>\n",
       "      <th>attacking</th>\n",
       "      <th>skill</th>\n",
       "      <th>movement</th>\n",
       "      <th>power</th>\n",
       "      <th>mentality</th>\n",
       "      <th>defending</th>\n",
       "      <th>goalkeeping</th>\n",
       "      <th>DF</th>\n",
       "      <th>FW</th>\n",
       "      <th>GK</th>\n",
       "      <th>MID</th>\n",
       "      <th>potential</th>\n",
       "      <th>overall</th>\n",
       "    </tr>\n",
       "  </thead>\n",
       "  <tbody>\n",
       "    <tr>\n",
       "      <th>0</th>\n",
       "      <td>85.8</td>\n",
       "      <td>79.000000</td>\n",
       "      <td>90.2</td>\n",
       "      <td>77.8</td>\n",
       "      <td>73.833333</td>\n",
       "      <td>28.25</td>\n",
       "      <td>10.8</td>\n",
       "      <td>0</td>\n",
       "      <td>1</td>\n",
       "      <td>0</td>\n",
       "      <td>0</td>\n",
       "      <td>93</td>\n",
       "      <td>93</td>\n",
       "    </tr>\n",
       "    <tr>\n",
       "      <th>1</th>\n",
       "      <td>86.0</td>\n",
       "      <td>68.500000</td>\n",
       "      <td>81.6</td>\n",
       "      <td>84.8</td>\n",
       "      <td>80.666667</td>\n",
       "      <td>35.00</td>\n",
       "      <td>10.2</td>\n",
       "      <td>0</td>\n",
       "      <td>1</td>\n",
       "      <td>0</td>\n",
       "      <td>0</td>\n",
       "      <td>92</td>\n",
       "      <td>92</td>\n",
       "    </tr>\n",
       "    <tr>\n",
       "      <th>2</th>\n",
       "      <td>87.6</td>\n",
       "      <td>70.500000</td>\n",
       "      <td>85.4</td>\n",
       "      <td>87.2</td>\n",
       "      <td>74.333333</td>\n",
       "      <td>28.50</td>\n",
       "      <td>11.6</td>\n",
       "      <td>0</td>\n",
       "      <td>1</td>\n",
       "      <td>0</td>\n",
       "      <td>0</td>\n",
       "      <td>91</td>\n",
       "      <td>91</td>\n",
       "    </tr>\n",
       "    <tr>\n",
       "      <th>3</th>\n",
       "      <td>80.6</td>\n",
       "      <td>75.166667</td>\n",
       "      <td>90.2</td>\n",
       "      <td>71.8</td>\n",
       "      <td>77.000000</td>\n",
       "      <td>33.25</td>\n",
       "      <td>11.8</td>\n",
       "      <td>0</td>\n",
       "      <td>1</td>\n",
       "      <td>0</td>\n",
       "      <td>0</td>\n",
       "      <td>91</td>\n",
       "      <td>91</td>\n",
       "    </tr>\n",
       "    <tr>\n",
       "      <th>4</th>\n",
       "      <td>81.4</td>\n",
       "      <td>74.000000</td>\n",
       "      <td>80.0</td>\n",
       "      <td>81.6</td>\n",
       "      <td>82.666667</td>\n",
       "      <td>62.50</td>\n",
       "      <td>11.2</td>\n",
       "      <td>0</td>\n",
       "      <td>0</td>\n",
       "      <td>0</td>\n",
       "      <td>1</td>\n",
       "      <td>91</td>\n",
       "      <td>91</td>\n",
       "    </tr>\n",
       "    <tr>\n",
       "      <th>...</th>\n",
       "      <td>...</td>\n",
       "      <td>...</td>\n",
       "      <td>...</td>\n",
       "      <td>...</td>\n",
       "      <td>...</td>\n",
       "      <td>...</td>\n",
       "      <td>...</td>\n",
       "      <td>...</td>\n",
       "      <td>...</td>\n",
       "      <td>...</td>\n",
       "      <td>...</td>\n",
       "      <td>...</td>\n",
       "      <td>...</td>\n",
       "    </tr>\n",
       "    <tr>\n",
       "      <th>15081</th>\n",
       "      <td>12.4</td>\n",
       "      <td>11.666667</td>\n",
       "      <td>34.0</td>\n",
       "      <td>35.4</td>\n",
       "      <td>17.166667</td>\n",
       "      <td>10.00</td>\n",
       "      <td>46.2</td>\n",
       "      <td>0</td>\n",
       "      <td>1</td>\n",
       "      <td>0</td>\n",
       "      <td>0</td>\n",
       "      <td>55</td>\n",
       "      <td>47</td>\n",
       "    </tr>\n",
       "    <tr>\n",
       "      <th>15082</th>\n",
       "      <td>39.2</td>\n",
       "      <td>33.500000</td>\n",
       "      <td>62.4</td>\n",
       "      <td>48.2</td>\n",
       "      <td>47.166667</td>\n",
       "      <td>41.50</td>\n",
       "      <td>12.2</td>\n",
       "      <td>0</td>\n",
       "      <td>1</td>\n",
       "      <td>0</td>\n",
       "      <td>0</td>\n",
       "      <td>64</td>\n",
       "      <td>47</td>\n",
       "    </tr>\n",
       "    <tr>\n",
       "      <th>15083</th>\n",
       "      <td>41.0</td>\n",
       "      <td>34.500000</td>\n",
       "      <td>54.0</td>\n",
       "      <td>41.4</td>\n",
       "      <td>40.666667</td>\n",
       "      <td>25.25</td>\n",
       "      <td>10.8</td>\n",
       "      <td>0</td>\n",
       "      <td>1</td>\n",
       "      <td>0</td>\n",
       "      <td>0</td>\n",
       "      <td>61</td>\n",
       "      <td>47</td>\n",
       "    </tr>\n",
       "    <tr>\n",
       "      <th>15084</th>\n",
       "      <td>43.2</td>\n",
       "      <td>36.500000</td>\n",
       "      <td>60.0</td>\n",
       "      <td>48.8</td>\n",
       "      <td>46.500000</td>\n",
       "      <td>42.25</td>\n",
       "      <td>9.4</td>\n",
       "      <td>0</td>\n",
       "      <td>1</td>\n",
       "      <td>0</td>\n",
       "      <td>0</td>\n",
       "      <td>59</td>\n",
       "      <td>47</td>\n",
       "    </tr>\n",
       "    <tr>\n",
       "      <th>15085</th>\n",
       "      <td>40.0</td>\n",
       "      <td>36.833333</td>\n",
       "      <td>56.6</td>\n",
       "      <td>49.4</td>\n",
       "      <td>42.500000</td>\n",
       "      <td>42.75</td>\n",
       "      <td>7.4</td>\n",
       "      <td>0</td>\n",
       "      <td>1</td>\n",
       "      <td>0</td>\n",
       "      <td>0</td>\n",
       "      <td>55</td>\n",
       "      <td>47</td>\n",
       "    </tr>\n",
       "  </tbody>\n",
       "</table>\n",
       "<p>15086 rows × 13 columns</p>\n",
       "</div>"
      ],
      "text/plain": [
       "       attacking      skill  movement  power  mentality  defending  \\\n",
       "0           85.8  79.000000      90.2   77.8  73.833333      28.25   \n",
       "1           86.0  68.500000      81.6   84.8  80.666667      35.00   \n",
       "2           87.6  70.500000      85.4   87.2  74.333333      28.50   \n",
       "3           80.6  75.166667      90.2   71.8  77.000000      33.25   \n",
       "4           81.4  74.000000      80.0   81.6  82.666667      62.50   \n",
       "...          ...        ...       ...    ...        ...        ...   \n",
       "15081       12.4  11.666667      34.0   35.4  17.166667      10.00   \n",
       "15082       39.2  33.500000      62.4   48.2  47.166667      41.50   \n",
       "15083       41.0  34.500000      54.0   41.4  40.666667      25.25   \n",
       "15084       43.2  36.500000      60.0   48.8  46.500000      42.25   \n",
       "15085       40.0  36.833333      56.6   49.4  42.500000      42.75   \n",
       "\n",
       "       goalkeeping  DF  FW  GK  MID  potential  overall  \n",
       "0             10.8   0   1   0    0         93       93  \n",
       "1             10.2   0   1   0    0         92       92  \n",
       "2             11.6   0   1   0    0         91       91  \n",
       "3             11.8   0   1   0    0         91       91  \n",
       "4             11.2   0   0   0    1         91       91  \n",
       "...            ...  ..  ..  ..  ...        ...      ...  \n",
       "15081         46.2   0   1   0    0         55       47  \n",
       "15082         12.2   0   1   0    0         64       47  \n",
       "15083         10.8   0   1   0    0         61       47  \n",
       "15084          9.4   0   1   0    0         59       47  \n",
       "15085          7.4   0   1   0    0         55       47  \n",
       "\n",
       "[15086 rows x 13 columns]"
      ]
     },
     "execution_count": 301,
     "metadata": {},
     "output_type": "execute_result"
    }
   ],
   "source": [
    "ndf"
   ]
  },
  {
   "cell_type": "code",
   "execution_count": 302,
   "id": "537a6b08",
   "metadata": {},
   "outputs": [],
   "source": [
    "mid_DF=ndf[['overall', 'attacking', 'skill', 'movement', 'mentality','defending','power', 'MID']]"
   ]
  },
  {
   "cell_type": "code",
   "execution_count": 303,
   "id": "5d11b6c9",
   "metadata": {},
   "outputs": [
    {
     "data": {
      "text/html": [
       "<div>\n",
       "<style scoped>\n",
       "    .dataframe tbody tr th:only-of-type {\n",
       "        vertical-align: middle;\n",
       "    }\n",
       "\n",
       "    .dataframe tbody tr th {\n",
       "        vertical-align: top;\n",
       "    }\n",
       "\n",
       "    .dataframe thead th {\n",
       "        text-align: right;\n",
       "    }\n",
       "</style>\n",
       "<table border=\"1\" class=\"dataframe\">\n",
       "  <thead>\n",
       "    <tr style=\"text-align: right;\">\n",
       "      <th></th>\n",
       "      <th>overall</th>\n",
       "      <th>attacking</th>\n",
       "      <th>skill</th>\n",
       "      <th>movement</th>\n",
       "      <th>mentality</th>\n",
       "      <th>defending</th>\n",
       "      <th>power</th>\n",
       "      <th>MID</th>\n",
       "    </tr>\n",
       "  </thead>\n",
       "  <tbody>\n",
       "    <tr>\n",
       "      <th>overall</th>\n",
       "      <td>1.000000</td>\n",
       "      <td>0.771180</td>\n",
       "      <td>0.758052</td>\n",
       "      <td>0.366547</td>\n",
       "      <td>0.756441</td>\n",
       "      <td>0.259445</td>\n",
       "      <td>0.590860</td>\n",
       "      <td>NaN</td>\n",
       "    </tr>\n",
       "    <tr>\n",
       "      <th>attacking</th>\n",
       "      <td>0.771180</td>\n",
       "      <td>1.000000</td>\n",
       "      <td>0.816958</td>\n",
       "      <td>0.342569</td>\n",
       "      <td>0.671884</td>\n",
       "      <td>0.011624</td>\n",
       "      <td>0.580268</td>\n",
       "      <td>NaN</td>\n",
       "    </tr>\n",
       "    <tr>\n",
       "      <th>skill</th>\n",
       "      <td>0.758052</td>\n",
       "      <td>0.816958</td>\n",
       "      <td>1.000000</td>\n",
       "      <td>0.361251</td>\n",
       "      <td>0.684596</td>\n",
       "      <td>0.047423</td>\n",
       "      <td>0.455451</td>\n",
       "      <td>NaN</td>\n",
       "    </tr>\n",
       "    <tr>\n",
       "      <th>movement</th>\n",
       "      <td>0.366547</td>\n",
       "      <td>0.342569</td>\n",
       "      <td>0.361251</td>\n",
       "      <td>1.000000</td>\n",
       "      <td>0.059750</td>\n",
       "      <td>-0.338817</td>\n",
       "      <td>0.089093</td>\n",
       "      <td>NaN</td>\n",
       "    </tr>\n",
       "    <tr>\n",
       "      <th>mentality</th>\n",
       "      <td>0.756441</td>\n",
       "      <td>0.671884</td>\n",
       "      <td>0.684596</td>\n",
       "      <td>0.059750</td>\n",
       "      <td>1.000000</td>\n",
       "      <td>0.577832</td>\n",
       "      <td>0.682275</td>\n",
       "      <td>NaN</td>\n",
       "    </tr>\n",
       "    <tr>\n",
       "      <th>defending</th>\n",
       "      <td>0.259445</td>\n",
       "      <td>0.011624</td>\n",
       "      <td>0.047423</td>\n",
       "      <td>-0.338817</td>\n",
       "      <td>0.577832</td>\n",
       "      <td>1.000000</td>\n",
       "      <td>0.382275</td>\n",
       "      <td>NaN</td>\n",
       "    </tr>\n",
       "    <tr>\n",
       "      <th>power</th>\n",
       "      <td>0.590860</td>\n",
       "      <td>0.580268</td>\n",
       "      <td>0.455451</td>\n",
       "      <td>0.089093</td>\n",
       "      <td>0.682275</td>\n",
       "      <td>0.382275</td>\n",
       "      <td>1.000000</td>\n",
       "      <td>NaN</td>\n",
       "    </tr>\n",
       "    <tr>\n",
       "      <th>MID</th>\n",
       "      <td>NaN</td>\n",
       "      <td>NaN</td>\n",
       "      <td>NaN</td>\n",
       "      <td>NaN</td>\n",
       "      <td>NaN</td>\n",
       "      <td>NaN</td>\n",
       "      <td>NaN</td>\n",
       "      <td>NaN</td>\n",
       "    </tr>\n",
       "  </tbody>\n",
       "</table>\n",
       "</div>"
      ],
      "text/plain": [
       "            overall  attacking     skill  movement  mentality  defending  \\\n",
       "overall    1.000000   0.771180  0.758052  0.366547   0.756441   0.259445   \n",
       "attacking  0.771180   1.000000  0.816958  0.342569   0.671884   0.011624   \n",
       "skill      0.758052   0.816958  1.000000  0.361251   0.684596   0.047423   \n",
       "movement   0.366547   0.342569  0.361251  1.000000   0.059750  -0.338817   \n",
       "mentality  0.756441   0.671884  0.684596  0.059750   1.000000   0.577832   \n",
       "defending  0.259445   0.011624  0.047423 -0.338817   0.577832   1.000000   \n",
       "power      0.590860   0.580268  0.455451  0.089093   0.682275   0.382275   \n",
       "MID             NaN        NaN       NaN       NaN        NaN        NaN   \n",
       "\n",
       "              power  MID  \n",
       "overall    0.590860  NaN  \n",
       "attacking  0.580268  NaN  \n",
       "skill      0.455451  NaN  \n",
       "movement   0.089093  NaN  \n",
       "mentality  0.682275  NaN  \n",
       "defending  0.382275  NaN  \n",
       "power      1.000000  NaN  \n",
       "MID             NaN  NaN  "
      ]
     },
     "execution_count": 303,
     "metadata": {},
     "output_type": "execute_result"
    }
   ],
   "source": [
    "onlyMID=mid_DF['MID'] == 1\n",
    "mid_DF=mid_DF[onlyMID]\n",
    "mid_DF.corr()"
   ]
  },
  {
   "cell_type": "code",
   "execution_count": 304,
   "id": "c969580e",
   "metadata": {},
   "outputs": [],
   "source": [
    "mid_DF1=mid_DF.reset_index()"
   ]
  },
  {
   "cell_type": "code",
   "execution_count": 305,
   "id": "60baf6c1",
   "metadata": {},
   "outputs": [
    {
     "data": {
      "text/html": [
       "<div>\n",
       "<style scoped>\n",
       "    .dataframe tbody tr th:only-of-type {\n",
       "        vertical-align: middle;\n",
       "    }\n",
       "\n",
       "    .dataframe tbody tr th {\n",
       "        vertical-align: top;\n",
       "    }\n",
       "\n",
       "    .dataframe thead th {\n",
       "        text-align: right;\n",
       "    }\n",
       "</style>\n",
       "<table border=\"1\" class=\"dataframe\">\n",
       "  <thead>\n",
       "    <tr style=\"text-align: right;\">\n",
       "      <th></th>\n",
       "      <th>index</th>\n",
       "      <th>overall</th>\n",
       "    </tr>\n",
       "  </thead>\n",
       "  <tbody>\n",
       "    <tr>\n",
       "      <th>0</th>\n",
       "      <td>4</td>\n",
       "      <td>91</td>\n",
       "    </tr>\n",
       "    <tr>\n",
       "      <th>1</th>\n",
       "      <td>10</td>\n",
       "      <td>90</td>\n",
       "    </tr>\n",
       "    <tr>\n",
       "      <th>2</th>\n",
       "      <td>14</td>\n",
       "      <td>89</td>\n",
       "    </tr>\n",
       "    <tr>\n",
       "      <th>3</th>\n",
       "      <td>19</td>\n",
       "      <td>89</td>\n",
       "    </tr>\n",
       "    <tr>\n",
       "      <th>4</th>\n",
       "      <td>24</td>\n",
       "      <td>88</td>\n",
       "    </tr>\n",
       "    <tr>\n",
       "      <th>...</th>\n",
       "      <td>...</td>\n",
       "      <td>...</td>\n",
       "    </tr>\n",
       "    <tr>\n",
       "      <th>2471</th>\n",
       "      <td>14718</td>\n",
       "      <td>54</td>\n",
       "    </tr>\n",
       "    <tr>\n",
       "      <th>2472</th>\n",
       "      <td>14723</td>\n",
       "      <td>54</td>\n",
       "    </tr>\n",
       "    <tr>\n",
       "      <th>2473</th>\n",
       "      <td>14836</td>\n",
       "      <td>53</td>\n",
       "    </tr>\n",
       "    <tr>\n",
       "      <th>2474</th>\n",
       "      <td>14912</td>\n",
       "      <td>53</td>\n",
       "    </tr>\n",
       "    <tr>\n",
       "      <th>2475</th>\n",
       "      <td>14960</td>\n",
       "      <td>52</td>\n",
       "    </tr>\n",
       "  </tbody>\n",
       "</table>\n",
       "<p>2476 rows × 2 columns</p>\n",
       "</div>"
      ],
      "text/plain": [
       "      index  overall\n",
       "0         4       91\n",
       "1        10       90\n",
       "2        14       89\n",
       "3        19       89\n",
       "4        24       88\n",
       "...     ...      ...\n",
       "2471  14718       54\n",
       "2472  14723       54\n",
       "2473  14836       53\n",
       "2474  14912       53\n",
       "2475  14960       52\n",
       "\n",
       "[2476 rows x 2 columns]"
      ]
     },
     "execution_count": 305,
     "metadata": {},
     "output_type": "execute_result"
    }
   ],
   "source": [
    "for_mid=mid_DF1[['index', 'overall']]\n",
    "for_mid"
   ]
  },
  {
   "cell_type": "code",
   "execution_count": null,
   "id": "c3838fe3",
   "metadata": {},
   "outputs": [],
   "source": []
  },
  {
   "cell_type": "code",
   "execution_count": 306,
   "id": "cd10407e",
   "metadata": {},
   "outputs": [],
   "source": [
    "df_DF=ndf[['overall', 'skill', 'movement', 'mentality','defending','power', 'DF']]"
   ]
  },
  {
   "cell_type": "code",
   "execution_count": 307,
   "id": "3a6cd3bb",
   "metadata": {},
   "outputs": [
    {
     "data": {
      "text/html": [
       "<div>\n",
       "<style scoped>\n",
       "    .dataframe tbody tr th:only-of-type {\n",
       "        vertical-align: middle;\n",
       "    }\n",
       "\n",
       "    .dataframe tbody tr th {\n",
       "        vertical-align: top;\n",
       "    }\n",
       "\n",
       "    .dataframe thead th {\n",
       "        text-align: right;\n",
       "    }\n",
       "</style>\n",
       "<table border=\"1\" class=\"dataframe\">\n",
       "  <thead>\n",
       "    <tr style=\"text-align: right;\">\n",
       "      <th></th>\n",
       "      <th>overall</th>\n",
       "      <th>skill</th>\n",
       "      <th>movement</th>\n",
       "      <th>mentality</th>\n",
       "      <th>defending</th>\n",
       "      <th>power</th>\n",
       "      <th>DF</th>\n",
       "    </tr>\n",
       "  </thead>\n",
       "  <tbody>\n",
       "    <tr>\n",
       "      <th>0</th>\n",
       "      <td>93</td>\n",
       "      <td>79.000000</td>\n",
       "      <td>90.2</td>\n",
       "      <td>73.833333</td>\n",
       "      <td>28.25</td>\n",
       "      <td>77.8</td>\n",
       "      <td>0</td>\n",
       "    </tr>\n",
       "    <tr>\n",
       "      <th>1</th>\n",
       "      <td>92</td>\n",
       "      <td>68.500000</td>\n",
       "      <td>81.6</td>\n",
       "      <td>80.666667</td>\n",
       "      <td>35.00</td>\n",
       "      <td>84.8</td>\n",
       "      <td>0</td>\n",
       "    </tr>\n",
       "    <tr>\n",
       "      <th>2</th>\n",
       "      <td>91</td>\n",
       "      <td>70.500000</td>\n",
       "      <td>85.4</td>\n",
       "      <td>74.333333</td>\n",
       "      <td>28.50</td>\n",
       "      <td>87.2</td>\n",
       "      <td>0</td>\n",
       "    </tr>\n",
       "    <tr>\n",
       "      <th>3</th>\n",
       "      <td>91</td>\n",
       "      <td>75.166667</td>\n",
       "      <td>90.2</td>\n",
       "      <td>77.000000</td>\n",
       "      <td>33.25</td>\n",
       "      <td>71.8</td>\n",
       "      <td>0</td>\n",
       "    </tr>\n",
       "    <tr>\n",
       "      <th>4</th>\n",
       "      <td>91</td>\n",
       "      <td>74.000000</td>\n",
       "      <td>80.0</td>\n",
       "      <td>82.666667</td>\n",
       "      <td>62.50</td>\n",
       "      <td>81.6</td>\n",
       "      <td>0</td>\n",
       "    </tr>\n",
       "    <tr>\n",
       "      <th>...</th>\n",
       "      <td>...</td>\n",
       "      <td>...</td>\n",
       "      <td>...</td>\n",
       "      <td>...</td>\n",
       "      <td>...</td>\n",
       "      <td>...</td>\n",
       "      <td>...</td>\n",
       "    </tr>\n",
       "    <tr>\n",
       "      <th>15081</th>\n",
       "      <td>47</td>\n",
       "      <td>11.666667</td>\n",
       "      <td>34.0</td>\n",
       "      <td>17.166667</td>\n",
       "      <td>10.00</td>\n",
       "      <td>35.4</td>\n",
       "      <td>0</td>\n",
       "    </tr>\n",
       "    <tr>\n",
       "      <th>15082</th>\n",
       "      <td>47</td>\n",
       "      <td>33.500000</td>\n",
       "      <td>62.4</td>\n",
       "      <td>47.166667</td>\n",
       "      <td>41.50</td>\n",
       "      <td>48.2</td>\n",
       "      <td>0</td>\n",
       "    </tr>\n",
       "    <tr>\n",
       "      <th>15083</th>\n",
       "      <td>47</td>\n",
       "      <td>34.500000</td>\n",
       "      <td>54.0</td>\n",
       "      <td>40.666667</td>\n",
       "      <td>25.25</td>\n",
       "      <td>41.4</td>\n",
       "      <td>0</td>\n",
       "    </tr>\n",
       "    <tr>\n",
       "      <th>15084</th>\n",
       "      <td>47</td>\n",
       "      <td>36.500000</td>\n",
       "      <td>60.0</td>\n",
       "      <td>46.500000</td>\n",
       "      <td>42.25</td>\n",
       "      <td>48.8</td>\n",
       "      <td>0</td>\n",
       "    </tr>\n",
       "    <tr>\n",
       "      <th>15085</th>\n",
       "      <td>47</td>\n",
       "      <td>36.833333</td>\n",
       "      <td>56.6</td>\n",
       "      <td>42.500000</td>\n",
       "      <td>42.75</td>\n",
       "      <td>49.4</td>\n",
       "      <td>0</td>\n",
       "    </tr>\n",
       "  </tbody>\n",
       "</table>\n",
       "<p>15086 rows × 7 columns</p>\n",
       "</div>"
      ],
      "text/plain": [
       "       overall      skill  movement  mentality  defending  power  DF\n",
       "0           93  79.000000      90.2  73.833333      28.25   77.8   0\n",
       "1           92  68.500000      81.6  80.666667      35.00   84.8   0\n",
       "2           91  70.500000      85.4  74.333333      28.50   87.2   0\n",
       "3           91  75.166667      90.2  77.000000      33.25   71.8   0\n",
       "4           91  74.000000      80.0  82.666667      62.50   81.6   0\n",
       "...        ...        ...       ...        ...        ...    ...  ..\n",
       "15081       47  11.666667      34.0  17.166667      10.00   35.4   0\n",
       "15082       47  33.500000      62.4  47.166667      41.50   48.2   0\n",
       "15083       47  34.500000      54.0  40.666667      25.25   41.4   0\n",
       "15084       47  36.500000      60.0  46.500000      42.25   48.8   0\n",
       "15085       47  36.833333      56.6  42.500000      42.75   49.4   0\n",
       "\n",
       "[15086 rows x 7 columns]"
      ]
     },
     "execution_count": 307,
     "metadata": {},
     "output_type": "execute_result"
    }
   ],
   "source": [
    "df_DF"
   ]
  },
  {
   "cell_type": "code",
   "execution_count": 308,
   "id": "536ede1e",
   "metadata": {},
   "outputs": [
    {
     "data": {
      "text/html": [
       "<div>\n",
       "<style scoped>\n",
       "    .dataframe tbody tr th:only-of-type {\n",
       "        vertical-align: middle;\n",
       "    }\n",
       "\n",
       "    .dataframe tbody tr th {\n",
       "        vertical-align: top;\n",
       "    }\n",
       "\n",
       "    .dataframe thead th {\n",
       "        text-align: right;\n",
       "    }\n",
       "</style>\n",
       "<table border=\"1\" class=\"dataframe\">\n",
       "  <thead>\n",
       "    <tr style=\"text-align: right;\">\n",
       "      <th></th>\n",
       "      <th>overall</th>\n",
       "      <th>skill</th>\n",
       "      <th>movement</th>\n",
       "      <th>mentality</th>\n",
       "      <th>defending</th>\n",
       "      <th>power</th>\n",
       "      <th>DF</th>\n",
       "    </tr>\n",
       "  </thead>\n",
       "  <tbody>\n",
       "    <tr>\n",
       "      <th>overall</th>\n",
       "      <td>1.000000</td>\n",
       "      <td>0.532595</td>\n",
       "      <td>0.277973</td>\n",
       "      <td>0.718338</td>\n",
       "      <td>0.889962</td>\n",
       "      <td>0.537170</td>\n",
       "      <td>NaN</td>\n",
       "    </tr>\n",
       "    <tr>\n",
       "      <th>skill</th>\n",
       "      <td>0.532595</td>\n",
       "      <td>1.000000</td>\n",
       "      <td>0.586962</td>\n",
       "      <td>0.820235</td>\n",
       "      <td>0.278705</td>\n",
       "      <td>0.631930</td>\n",
       "      <td>NaN</td>\n",
       "    </tr>\n",
       "    <tr>\n",
       "      <th>movement</th>\n",
       "      <td>0.277973</td>\n",
       "      <td>0.586962</td>\n",
       "      <td>1.000000</td>\n",
       "      <td>0.450857</td>\n",
       "      <td>0.009895</td>\n",
       "      <td>0.299866</td>\n",
       "      <td>NaN</td>\n",
       "    </tr>\n",
       "    <tr>\n",
       "      <th>mentality</th>\n",
       "      <td>0.718338</td>\n",
       "      <td>0.820235</td>\n",
       "      <td>0.450857</td>\n",
       "      <td>1.000000</td>\n",
       "      <td>0.523768</td>\n",
       "      <td>0.681629</td>\n",
       "      <td>NaN</td>\n",
       "    </tr>\n",
       "    <tr>\n",
       "      <th>defending</th>\n",
       "      <td>0.889962</td>\n",
       "      <td>0.278705</td>\n",
       "      <td>0.009895</td>\n",
       "      <td>0.523768</td>\n",
       "      <td>1.000000</td>\n",
       "      <td>0.356212</td>\n",
       "      <td>NaN</td>\n",
       "    </tr>\n",
       "    <tr>\n",
       "      <th>power</th>\n",
       "      <td>0.537170</td>\n",
       "      <td>0.631930</td>\n",
       "      <td>0.299866</td>\n",
       "      <td>0.681629</td>\n",
       "      <td>0.356212</td>\n",
       "      <td>1.000000</td>\n",
       "      <td>NaN</td>\n",
       "    </tr>\n",
       "    <tr>\n",
       "      <th>DF</th>\n",
       "      <td>NaN</td>\n",
       "      <td>NaN</td>\n",
       "      <td>NaN</td>\n",
       "      <td>NaN</td>\n",
       "      <td>NaN</td>\n",
       "      <td>NaN</td>\n",
       "      <td>NaN</td>\n",
       "    </tr>\n",
       "  </tbody>\n",
       "</table>\n",
       "</div>"
      ],
      "text/plain": [
       "            overall     skill  movement  mentality  defending     power  DF\n",
       "overall    1.000000  0.532595  0.277973   0.718338   0.889962  0.537170 NaN\n",
       "skill      0.532595  1.000000  0.586962   0.820235   0.278705  0.631930 NaN\n",
       "movement   0.277973  0.586962  1.000000   0.450857   0.009895  0.299866 NaN\n",
       "mentality  0.718338  0.820235  0.450857   1.000000   0.523768  0.681629 NaN\n",
       "defending  0.889962  0.278705  0.009895   0.523768   1.000000  0.356212 NaN\n",
       "power      0.537170  0.631930  0.299866   0.681629   0.356212  1.000000 NaN\n",
       "DF              NaN       NaN       NaN        NaN        NaN       NaN NaN"
      ]
     },
     "execution_count": 308,
     "metadata": {},
     "output_type": "execute_result"
    }
   ],
   "source": [
    "onlyDF=df_DF['DF'] == 1\n",
    "df_DF=df_DF[onlyDF]\n",
    "df_DF.corr()"
   ]
  },
  {
   "cell_type": "code",
   "execution_count": 309,
   "id": "7e09eb83",
   "metadata": {},
   "outputs": [],
   "source": [
    "df_DF=df_DF.reset_index()"
   ]
  },
  {
   "cell_type": "code",
   "execution_count": 310,
   "id": "9b6e6cf2",
   "metadata": {},
   "outputs": [
    {
     "data": {
      "text/html": [
       "<div>\n",
       "<style scoped>\n",
       "    .dataframe tbody tr th:only-of-type {\n",
       "        vertical-align: middle;\n",
       "    }\n",
       "\n",
       "    .dataframe tbody tr th {\n",
       "        vertical-align: top;\n",
       "    }\n",
       "\n",
       "    .dataframe thead th {\n",
       "        text-align: right;\n",
       "    }\n",
       "</style>\n",
       "<table border=\"1\" class=\"dataframe\">\n",
       "  <thead>\n",
       "    <tr style=\"text-align: right;\">\n",
       "      <th></th>\n",
       "      <th>index</th>\n",
       "      <th>overall</th>\n",
       "    </tr>\n",
       "  </thead>\n",
       "  <tbody>\n",
       "    <tr>\n",
       "      <th>0</th>\n",
       "      <td>15</td>\n",
       "      <td>89</td>\n",
       "    </tr>\n",
       "    <tr>\n",
       "      <th>1</th>\n",
       "      <td>22</td>\n",
       "      <td>88</td>\n",
       "    </tr>\n",
       "    <tr>\n",
       "      <th>2</th>\n",
       "      <td>39</td>\n",
       "      <td>87</td>\n",
       "    </tr>\n",
       "    <tr>\n",
       "      <th>3</th>\n",
       "      <td>42</td>\n",
       "      <td>87</td>\n",
       "    </tr>\n",
       "    <tr>\n",
       "      <th>4</th>\n",
       "      <td>44</td>\n",
       "      <td>87</td>\n",
       "    </tr>\n",
       "    <tr>\n",
       "      <th>...</th>\n",
       "      <td>...</td>\n",
       "      <td>...</td>\n",
       "    </tr>\n",
       "    <tr>\n",
       "      <th>2317</th>\n",
       "      <td>14755</td>\n",
       "      <td>54</td>\n",
       "    </tr>\n",
       "    <tr>\n",
       "      <th>2318</th>\n",
       "      <td>14764</td>\n",
       "      <td>54</td>\n",
       "    </tr>\n",
       "    <tr>\n",
       "      <th>2319</th>\n",
       "      <td>14843</td>\n",
       "      <td>53</td>\n",
       "    </tr>\n",
       "    <tr>\n",
       "      <th>2320</th>\n",
       "      <td>14943</td>\n",
       "      <td>52</td>\n",
       "    </tr>\n",
       "    <tr>\n",
       "      <th>2321</th>\n",
       "      <td>15037</td>\n",
       "      <td>50</td>\n",
       "    </tr>\n",
       "  </tbody>\n",
       "</table>\n",
       "<p>2322 rows × 2 columns</p>\n",
       "</div>"
      ],
      "text/plain": [
       "      index  overall\n",
       "0        15       89\n",
       "1        22       88\n",
       "2        39       87\n",
       "3        42       87\n",
       "4        44       87\n",
       "...     ...      ...\n",
       "2317  14755       54\n",
       "2318  14764       54\n",
       "2319  14843       53\n",
       "2320  14943       52\n",
       "2321  15037       50\n",
       "\n",
       "[2322 rows x 2 columns]"
      ]
     },
     "execution_count": 310,
     "metadata": {},
     "output_type": "execute_result"
    }
   ],
   "source": [
    "for_DF=df_DF[['index', 'overall']]\n",
    "for_DF"
   ]
  },
  {
   "cell_type": "code",
   "execution_count": 311,
   "id": "9733d39e",
   "metadata": {},
   "outputs": [],
   "source": [
    "gk_DF=ndf[['overall', 'skill', 'movement', 'mentality','defending','power','goalkeeping', 'GK']]"
   ]
  },
  {
   "cell_type": "code",
   "execution_count": 312,
   "id": "3beebbf6",
   "metadata": {},
   "outputs": [
    {
     "data": {
      "text/html": [
       "<div>\n",
       "<style scoped>\n",
       "    .dataframe tbody tr th:only-of-type {\n",
       "        vertical-align: middle;\n",
       "    }\n",
       "\n",
       "    .dataframe tbody tr th {\n",
       "        vertical-align: top;\n",
       "    }\n",
       "\n",
       "    .dataframe thead th {\n",
       "        text-align: right;\n",
       "    }\n",
       "</style>\n",
       "<table border=\"1\" class=\"dataframe\">\n",
       "  <thead>\n",
       "    <tr style=\"text-align: right;\">\n",
       "      <th></th>\n",
       "      <th>overall</th>\n",
       "      <th>skill</th>\n",
       "      <th>movement</th>\n",
       "      <th>mentality</th>\n",
       "      <th>defending</th>\n",
       "      <th>power</th>\n",
       "      <th>goalkeeping</th>\n",
       "      <th>GK</th>\n",
       "    </tr>\n",
       "  </thead>\n",
       "  <tbody>\n",
       "    <tr>\n",
       "      <th>overall</th>\n",
       "      <td>1.000000</td>\n",
       "      <td>0.172325</td>\n",
       "      <td>0.348496</td>\n",
       "      <td>0.313807</td>\n",
       "      <td>0.131495</td>\n",
       "      <td>0.390995</td>\n",
       "      <td>0.244695</td>\n",
       "      <td>NaN</td>\n",
       "    </tr>\n",
       "    <tr>\n",
       "      <th>skill</th>\n",
       "      <td>0.172325</td>\n",
       "      <td>1.000000</td>\n",
       "      <td>0.792889</td>\n",
       "      <td>0.912892</td>\n",
       "      <td>0.827259</td>\n",
       "      <td>0.838678</td>\n",
       "      <td>-0.871954</td>\n",
       "      <td>NaN</td>\n",
       "    </tr>\n",
       "    <tr>\n",
       "      <th>movement</th>\n",
       "      <td>0.348496</td>\n",
       "      <td>0.792889</td>\n",
       "      <td>1.000000</td>\n",
       "      <td>0.807923</td>\n",
       "      <td>0.646227</td>\n",
       "      <td>0.829077</td>\n",
       "      <td>-0.615176</td>\n",
       "      <td>NaN</td>\n",
       "    </tr>\n",
       "    <tr>\n",
       "      <th>mentality</th>\n",
       "      <td>0.313807</td>\n",
       "      <td>0.912892</td>\n",
       "      <td>0.807923</td>\n",
       "      <td>1.000000</td>\n",
       "      <td>0.822644</td>\n",
       "      <td>0.878328</td>\n",
       "      <td>-0.752393</td>\n",
       "      <td>NaN</td>\n",
       "    </tr>\n",
       "    <tr>\n",
       "      <th>defending</th>\n",
       "      <td>0.131495</td>\n",
       "      <td>0.827259</td>\n",
       "      <td>0.646227</td>\n",
       "      <td>0.822644</td>\n",
       "      <td>1.000000</td>\n",
       "      <td>0.744210</td>\n",
       "      <td>-0.750840</td>\n",
       "      <td>NaN</td>\n",
       "    </tr>\n",
       "    <tr>\n",
       "      <th>power</th>\n",
       "      <td>0.390995</td>\n",
       "      <td>0.838678</td>\n",
       "      <td>0.829077</td>\n",
       "      <td>0.878328</td>\n",
       "      <td>0.744210</td>\n",
       "      <td>1.000000</td>\n",
       "      <td>-0.654733</td>\n",
       "      <td>NaN</td>\n",
       "    </tr>\n",
       "    <tr>\n",
       "      <th>goalkeeping</th>\n",
       "      <td>0.244695</td>\n",
       "      <td>-0.871954</td>\n",
       "      <td>-0.615176</td>\n",
       "      <td>-0.752393</td>\n",
       "      <td>-0.750840</td>\n",
       "      <td>-0.654733</td>\n",
       "      <td>1.000000</td>\n",
       "      <td>NaN</td>\n",
       "    </tr>\n",
       "    <tr>\n",
       "      <th>GK</th>\n",
       "      <td>NaN</td>\n",
       "      <td>NaN</td>\n",
       "      <td>NaN</td>\n",
       "      <td>NaN</td>\n",
       "      <td>NaN</td>\n",
       "      <td>NaN</td>\n",
       "      <td>NaN</td>\n",
       "      <td>NaN</td>\n",
       "    </tr>\n",
       "  </tbody>\n",
       "</table>\n",
       "</div>"
      ],
      "text/plain": [
       "              overall     skill  movement  mentality  defending     power  \\\n",
       "overall      1.000000  0.172325  0.348496   0.313807   0.131495  0.390995   \n",
       "skill        0.172325  1.000000  0.792889   0.912892   0.827259  0.838678   \n",
       "movement     0.348496  0.792889  1.000000   0.807923   0.646227  0.829077   \n",
       "mentality    0.313807  0.912892  0.807923   1.000000   0.822644  0.878328   \n",
       "defending    0.131495  0.827259  0.646227   0.822644   1.000000  0.744210   \n",
       "power        0.390995  0.838678  0.829077   0.878328   0.744210  1.000000   \n",
       "goalkeeping  0.244695 -0.871954 -0.615176  -0.752393  -0.750840 -0.654733   \n",
       "GK                NaN       NaN       NaN        NaN        NaN       NaN   \n",
       "\n",
       "             goalkeeping  GK  \n",
       "overall         0.244695 NaN  \n",
       "skill          -0.871954 NaN  \n",
       "movement       -0.615176 NaN  \n",
       "mentality      -0.752393 NaN  \n",
       "defending      -0.750840 NaN  \n",
       "power          -0.654733 NaN  \n",
       "goalkeeping     1.000000 NaN  \n",
       "GK                   NaN NaN  "
      ]
     },
     "execution_count": 312,
     "metadata": {},
     "output_type": "execute_result"
    }
   ],
   "source": [
    "onlyGK=gk_DF['GK'] == 1\n",
    "gk_DF=gk_DF[onlyGK]\n",
    "gk_DF.corr()"
   ]
  },
  {
   "cell_type": "code",
   "execution_count": 313,
   "id": "03c5271d",
   "metadata": {},
   "outputs": [
    {
     "data": {
      "text/html": [
       "<div>\n",
       "<style scoped>\n",
       "    .dataframe tbody tr th:only-of-type {\n",
       "        vertical-align: middle;\n",
       "    }\n",
       "\n",
       "    .dataframe tbody tr th {\n",
       "        vertical-align: top;\n",
       "    }\n",
       "\n",
       "    .dataframe thead th {\n",
       "        text-align: right;\n",
       "    }\n",
       "</style>\n",
       "<table border=\"1\" class=\"dataframe\">\n",
       "  <thead>\n",
       "    <tr style=\"text-align: right;\">\n",
       "      <th></th>\n",
       "      <th>index</th>\n",
       "      <th>overall</th>\n",
       "    </tr>\n",
       "  </thead>\n",
       "  <tbody>\n",
       "    <tr>\n",
       "      <th>0</th>\n",
       "      <td>5</td>\n",
       "      <td>91</td>\n",
       "    </tr>\n",
       "    <tr>\n",
       "      <th>1</th>\n",
       "      <td>7</td>\n",
       "      <td>90</td>\n",
       "    </tr>\n",
       "    <tr>\n",
       "      <th>2</th>\n",
       "      <td>8</td>\n",
       "      <td>90</td>\n",
       "    </tr>\n",
       "    <tr>\n",
       "      <th>3</th>\n",
       "      <td>11</td>\n",
       "      <td>89</td>\n",
       "    </tr>\n",
       "    <tr>\n",
       "      <th>4</th>\n",
       "      <td>12</td>\n",
       "      <td>89</td>\n",
       "    </tr>\n",
       "    <tr>\n",
       "      <th>...</th>\n",
       "      <td>...</td>\n",
       "      <td>...</td>\n",
       "    </tr>\n",
       "    <tr>\n",
       "      <th>693</th>\n",
       "      <td>14508</td>\n",
       "      <td>56</td>\n",
       "    </tr>\n",
       "    <tr>\n",
       "      <th>694</th>\n",
       "      <td>14635</td>\n",
       "      <td>55</td>\n",
       "    </tr>\n",
       "    <tr>\n",
       "      <th>695</th>\n",
       "      <td>14822</td>\n",
       "      <td>54</td>\n",
       "    </tr>\n",
       "    <tr>\n",
       "      <th>696</th>\n",
       "      <td>14845</td>\n",
       "      <td>53</td>\n",
       "    </tr>\n",
       "    <tr>\n",
       "      <th>697</th>\n",
       "      <td>14875</td>\n",
       "      <td>53</td>\n",
       "    </tr>\n",
       "  </tbody>\n",
       "</table>\n",
       "<p>698 rows × 2 columns</p>\n",
       "</div>"
      ],
      "text/plain": [
       "     index  overall\n",
       "0        5       91\n",
       "1        7       90\n",
       "2        8       90\n",
       "3       11       89\n",
       "4       12       89\n",
       "..     ...      ...\n",
       "693  14508       56\n",
       "694  14635       55\n",
       "695  14822       54\n",
       "696  14845       53\n",
       "697  14875       53\n",
       "\n",
       "[698 rows x 2 columns]"
      ]
     },
     "execution_count": 313,
     "metadata": {},
     "output_type": "execute_result"
    }
   ],
   "source": [
    "gk_DF1=gk_DF.reset_index()\n",
    "for_gk=gk_DF1[['index', 'overall']]\n",
    "for_gk"
   ]
  },
  {
   "cell_type": "markdown",
   "id": "3a0b4d99",
   "metadata": {},
   "source": [
    "## [수비수 선형모델 예측]"
   ]
  },
  {
   "cell_type": "code",
   "execution_count": 314,
   "id": "4dcfe39d",
   "metadata": {},
   "outputs": [
    {
     "data": {
      "text/html": [
       "<div>\n",
       "<style scoped>\n",
       "    .dataframe tbody tr th:only-of-type {\n",
       "        vertical-align: middle;\n",
       "    }\n",
       "\n",
       "    .dataframe tbody tr th {\n",
       "        vertical-align: top;\n",
       "    }\n",
       "\n",
       "    .dataframe thead th {\n",
       "        text-align: right;\n",
       "    }\n",
       "</style>\n",
       "<table border=\"1\" class=\"dataframe\">\n",
       "  <thead>\n",
       "    <tr style=\"text-align: right;\">\n",
       "      <th></th>\n",
       "      <th>mentality</th>\n",
       "      <th>defending</th>\n",
       "    </tr>\n",
       "  </thead>\n",
       "  <tbody>\n",
       "    <tr>\n",
       "      <th>0</th>\n",
       "      <td>72.833333</td>\n",
       "      <td>90.25</td>\n",
       "    </tr>\n",
       "    <tr>\n",
       "      <th>1</th>\n",
       "      <td>83.500000</td>\n",
       "      <td>88.00</td>\n",
       "    </tr>\n",
       "    <tr>\n",
       "      <th>2</th>\n",
       "      <td>74.833333</td>\n",
       "      <td>89.00</td>\n",
       "    </tr>\n",
       "    <tr>\n",
       "      <th>3</th>\n",
       "      <td>77.166667</td>\n",
       "      <td>82.50</td>\n",
       "    </tr>\n",
       "    <tr>\n",
       "      <th>4</th>\n",
       "      <td>76.000000</td>\n",
       "      <td>80.50</td>\n",
       "    </tr>\n",
       "    <tr>\n",
       "      <th>...</th>\n",
       "      <td>...</td>\n",
       "      <td>...</td>\n",
       "    </tr>\n",
       "    <tr>\n",
       "      <th>2317</th>\n",
       "      <td>37.833333</td>\n",
       "      <td>54.00</td>\n",
       "    </tr>\n",
       "    <tr>\n",
       "      <th>2318</th>\n",
       "      <td>39.166667</td>\n",
       "      <td>14.75</td>\n",
       "    </tr>\n",
       "    <tr>\n",
       "      <th>2319</th>\n",
       "      <td>51.166667</td>\n",
       "      <td>48.50</td>\n",
       "    </tr>\n",
       "    <tr>\n",
       "      <th>2320</th>\n",
       "      <td>45.166667</td>\n",
       "      <td>52.00</td>\n",
       "    </tr>\n",
       "    <tr>\n",
       "      <th>2321</th>\n",
       "      <td>40.166667</td>\n",
       "      <td>51.75</td>\n",
       "    </tr>\n",
       "  </tbody>\n",
       "</table>\n",
       "<p>2322 rows × 2 columns</p>\n",
       "</div>"
      ],
      "text/plain": [
       "      mentality  defending\n",
       "0     72.833333      90.25\n",
       "1     83.500000      88.00\n",
       "2     74.833333      89.00\n",
       "3     77.166667      82.50\n",
       "4     76.000000      80.50\n",
       "...         ...        ...\n",
       "2317  37.833333      54.00\n",
       "2318  39.166667      14.75\n",
       "2319  51.166667      48.50\n",
       "2320  45.166667      52.00\n",
       "2321  40.166667      51.75\n",
       "\n",
       "[2322 rows x 2 columns]"
      ]
     },
     "execution_count": 314,
     "metadata": {},
     "output_type": "execute_result"
    }
   ],
   "source": [
    "feature_df=df_DF[['mentality', 'defending']]\n",
    "feature_df"
   ]
  },
  {
   "cell_type": "code",
   "execution_count": 315,
   "id": "1c4b285c",
   "metadata": {},
   "outputs": [],
   "source": [
    "target_df=df_DF.overall"
   ]
  },
  {
   "cell_type": "code",
   "execution_count": 316,
   "id": "7b73d406",
   "metadata": {},
   "outputs": [],
   "source": [
    "X_train, X_test, y_train, y_test = train_test_split(feature_df, target_df, test_size=0.2, random_state=10)"
   ]
  },
  {
   "cell_type": "code",
   "execution_count": null,
   "id": "9dd88e9a",
   "metadata": {},
   "outputs": [],
   "source": []
  },
  {
   "cell_type": "code",
   "execution_count": 317,
   "id": "d485b864",
   "metadata": {},
   "outputs": [],
   "source": [
    "reg=LinearRegression()"
   ]
  },
  {
   "cell_type": "code",
   "execution_count": 318,
   "id": "ec9fb456",
   "metadata": {},
   "outputs": [
    {
     "data": {
      "text/html": [
       "<style>#sk-container-id-15 {color: black;}#sk-container-id-15 pre{padding: 0;}#sk-container-id-15 div.sk-toggleable {background-color: white;}#sk-container-id-15 label.sk-toggleable__label {cursor: pointer;display: block;width: 100%;margin-bottom: 0;padding: 0.3em;box-sizing: border-box;text-align: center;}#sk-container-id-15 label.sk-toggleable__label-arrow:before {content: \"▸\";float: left;margin-right: 0.25em;color: #696969;}#sk-container-id-15 label.sk-toggleable__label-arrow:hover:before {color: black;}#sk-container-id-15 div.sk-estimator:hover label.sk-toggleable__label-arrow:before {color: black;}#sk-container-id-15 div.sk-toggleable__content {max-height: 0;max-width: 0;overflow: hidden;text-align: left;background-color: #f0f8ff;}#sk-container-id-15 div.sk-toggleable__content pre {margin: 0.2em;color: black;border-radius: 0.25em;background-color: #f0f8ff;}#sk-container-id-15 input.sk-toggleable__control:checked~div.sk-toggleable__content {max-height: 200px;max-width: 100%;overflow: auto;}#sk-container-id-15 input.sk-toggleable__control:checked~label.sk-toggleable__label-arrow:before {content: \"▾\";}#sk-container-id-15 div.sk-estimator input.sk-toggleable__control:checked~label.sk-toggleable__label {background-color: #d4ebff;}#sk-container-id-15 div.sk-label input.sk-toggleable__control:checked~label.sk-toggleable__label {background-color: #d4ebff;}#sk-container-id-15 input.sk-hidden--visually {border: 0;clip: rect(1px 1px 1px 1px);clip: rect(1px, 1px, 1px, 1px);height: 1px;margin: -1px;overflow: hidden;padding: 0;position: absolute;width: 1px;}#sk-container-id-15 div.sk-estimator {font-family: monospace;background-color: #f0f8ff;border: 1px dotted black;border-radius: 0.25em;box-sizing: border-box;margin-bottom: 0.5em;}#sk-container-id-15 div.sk-estimator:hover {background-color: #d4ebff;}#sk-container-id-15 div.sk-parallel-item::after {content: \"\";width: 100%;border-bottom: 1px solid gray;flex-grow: 1;}#sk-container-id-15 div.sk-label:hover label.sk-toggleable__label {background-color: #d4ebff;}#sk-container-id-15 div.sk-serial::before {content: \"\";position: absolute;border-left: 1px solid gray;box-sizing: border-box;top: 0;bottom: 0;left: 50%;z-index: 0;}#sk-container-id-15 div.sk-serial {display: flex;flex-direction: column;align-items: center;background-color: white;padding-right: 0.2em;padding-left: 0.2em;position: relative;}#sk-container-id-15 div.sk-item {position: relative;z-index: 1;}#sk-container-id-15 div.sk-parallel {display: flex;align-items: stretch;justify-content: center;background-color: white;position: relative;}#sk-container-id-15 div.sk-item::before, #sk-container-id-15 div.sk-parallel-item::before {content: \"\";position: absolute;border-left: 1px solid gray;box-sizing: border-box;top: 0;bottom: 0;left: 50%;z-index: -1;}#sk-container-id-15 div.sk-parallel-item {display: flex;flex-direction: column;z-index: 1;position: relative;background-color: white;}#sk-container-id-15 div.sk-parallel-item:first-child::after {align-self: flex-end;width: 50%;}#sk-container-id-15 div.sk-parallel-item:last-child::after {align-self: flex-start;width: 50%;}#sk-container-id-15 div.sk-parallel-item:only-child::after {width: 0;}#sk-container-id-15 div.sk-dashed-wrapped {border: 1px dashed gray;margin: 0 0.4em 0.5em 0.4em;box-sizing: border-box;padding-bottom: 0.4em;background-color: white;}#sk-container-id-15 div.sk-label label {font-family: monospace;font-weight: bold;display: inline-block;line-height: 1.2em;}#sk-container-id-15 div.sk-label-container {text-align: center;}#sk-container-id-15 div.sk-container {/* jupyter's `normalize.less` sets `[hidden] { display: none; }` but bootstrap.min.css set `[hidden] { display: none !important; }` so we also need the `!important` here to be able to override the default hidden behavior on the sphinx rendered scikit-learn.org. See: https://github.com/scikit-learn/scikit-learn/issues/21755 */display: inline-block !important;position: relative;}#sk-container-id-15 div.sk-text-repr-fallback {display: none;}</style><div id=\"sk-container-id-15\" class=\"sk-top-container\"><div class=\"sk-text-repr-fallback\"><pre>LinearRegression()</pre><b>In a Jupyter environment, please rerun this cell to show the HTML representation or trust the notebook. <br />On GitHub, the HTML representation is unable to render, please try loading this page with nbviewer.org.</b></div><div class=\"sk-container\" hidden><div class=\"sk-item\"><div class=\"sk-estimator sk-toggleable\"><input class=\"sk-toggleable__control sk-hidden--visually\" id=\"sk-estimator-id-15\" type=\"checkbox\" checked><label for=\"sk-estimator-id-15\" class=\"sk-toggleable__label sk-toggleable__label-arrow\">LinearRegression</label><div class=\"sk-toggleable__content\"><pre>LinearRegression()</pre></div></div></div></div></div>"
      ],
      "text/plain": [
       "LinearRegression()"
      ]
     },
     "execution_count": 318,
     "metadata": {},
     "output_type": "execute_result"
    }
   ],
   "source": [
    "reg.fit(feature_df, target_df)"
   ]
  },
  {
   "cell_type": "code",
   "execution_count": 319,
   "id": "07b7c486",
   "metadata": {},
   "outputs": [
    {
     "data": {
      "text/plain": [
       "array([0.26784718, 0.58744106])"
      ]
     },
     "execution_count": 319,
     "metadata": {},
     "output_type": "execute_result"
    }
   ],
   "source": [
    "reg.coef_"
   ]
  },
  {
   "cell_type": "code",
   "execution_count": 320,
   "id": "808b28bf",
   "metadata": {},
   "outputs": [
    {
     "data": {
      "text/plain": [
       "14.399734009020897"
      ]
     },
     "execution_count": 320,
     "metadata": {},
     "output_type": "execute_result"
    }
   ],
   "source": [
    "reg.intercept_"
   ]
  },
  {
   "cell_type": "code",
   "execution_count": 321,
   "id": "a22de3b0",
   "metadata": {},
   "outputs": [],
   "source": [
    "train_score = reg.score(X_train, y_train)\n",
    "test_score = reg.score(X_test, y_test)"
   ]
  },
  {
   "cell_type": "code",
   "execution_count": null,
   "id": "1991472e",
   "metadata": {},
   "outputs": [],
   "source": []
  },
  {
   "cell_type": "code",
   "execution_count": 322,
   "id": "b3bd79ad",
   "metadata": {},
   "outputs": [
    {
     "data": {
      "text/plain": [
       "' 훈련 결과 점수 : 0.8821876176101887, 테스트 결과 점수 : 0.8708008526837572'"
      ]
     },
     "execution_count": 322,
     "metadata": {},
     "output_type": "execute_result"
    }
   ],
   "source": [
    "f' 훈련 결과 점수 : {train_score}, 테스트 결과 점수 : {test_score}'"
   ]
  },
  {
   "cell_type": "code",
   "execution_count": 323,
   "id": "5109df52",
   "metadata": {},
   "outputs": [],
   "source": [
    "new_data=feature_df"
   ]
  },
  {
   "cell_type": "code",
   "execution_count": 324,
   "id": "a4948b4c",
   "metadata": {
    "scrolled": true
   },
   "outputs": [],
   "source": [
    "# new_data = new_data.reshape(-1,2)"
   ]
  },
  {
   "cell_type": "code",
   "execution_count": 325,
   "id": "1da8e62d",
   "metadata": {},
   "outputs": [],
   "source": [
    "X_train_flattened = X_train.values.ravel()"
   ]
  },
  {
   "cell_type": "code",
   "execution_count": 326,
   "id": "c74cf067",
   "metadata": {},
   "outputs": [
    {
     "data": {
      "text/plain": [
       "(3714,)"
      ]
     },
     "execution_count": 326,
     "metadata": {},
     "output_type": "execute_result"
    }
   ],
   "source": [
    "X_train_flattened.shape"
   ]
  },
  {
   "cell_type": "code",
   "execution_count": 327,
   "id": "2504e936",
   "metadata": {},
   "outputs": [
    {
     "data": {
      "text/plain": [
       "(1857, 2)"
      ]
     },
     "execution_count": 327,
     "metadata": {},
     "output_type": "execute_result"
    }
   ],
   "source": [
    "X_train.shape"
   ]
  },
  {
   "cell_type": "code",
   "execution_count": 328,
   "id": "63b9b958",
   "metadata": {},
   "outputs": [
    {
     "data": {
      "text/plain": [
       "(1857,)"
      ]
     },
     "execution_count": 328,
     "metadata": {},
     "output_type": "execute_result"
    }
   ],
   "source": [
    "y_train.shape"
   ]
  },
  {
   "cell_type": "code",
   "execution_count": 329,
   "id": "3d1845d8",
   "metadata": {},
   "outputs": [],
   "source": [
    "pre_y=reg.predict(new_data)"
   ]
  },
  {
   "cell_type": "code",
   "execution_count": 330,
   "id": "8e97437c",
   "metadata": {},
   "outputs": [],
   "source": [
    "pre_y1=pre_y.reshape(-1,1)"
   ]
  },
  {
   "cell_type": "code",
   "execution_count": 331,
   "id": "414ac858",
   "metadata": {},
   "outputs": [],
   "source": [
    "pre_y2=pd.DataFrame(pre_y1)"
   ]
  },
  {
   "cell_type": "code",
   "execution_count": 332,
   "id": "422db7e8",
   "metadata": {},
   "outputs": [
    {
     "data": {
      "text/html": [
       "<div>\n",
       "<style scoped>\n",
       "    .dataframe tbody tr th:only-of-type {\n",
       "        vertical-align: middle;\n",
       "    }\n",
       "\n",
       "    .dataframe tbody tr th {\n",
       "        vertical-align: top;\n",
       "    }\n",
       "\n",
       "    .dataframe thead th {\n",
       "        text-align: right;\n",
       "    }\n",
       "</style>\n",
       "<table border=\"1\" class=\"dataframe\">\n",
       "  <thead>\n",
       "    <tr style=\"text-align: right;\">\n",
       "      <th></th>\n",
       "      <th>0</th>\n",
       "    </tr>\n",
       "  </thead>\n",
       "  <tbody>\n",
       "    <tr>\n",
       "      <th>0</th>\n",
       "      <td>86.924492</td>\n",
       "    </tr>\n",
       "    <tr>\n",
       "      <th>1</th>\n",
       "      <td>88.459787</td>\n",
       "    </tr>\n",
       "    <tr>\n",
       "      <th>2</th>\n",
       "      <td>86.725885</td>\n",
       "    </tr>\n",
       "    <tr>\n",
       "      <th>3</th>\n",
       "      <td>83.532495</td>\n",
       "    </tr>\n",
       "    <tr>\n",
       "      <th>4</th>\n",
       "      <td>82.045125</td>\n",
       "    </tr>\n",
       "    <tr>\n",
       "      <th>...</th>\n",
       "      <td>...</td>\n",
       "    </tr>\n",
       "    <tr>\n",
       "      <th>2317</th>\n",
       "      <td>56.255103</td>\n",
       "    </tr>\n",
       "    <tr>\n",
       "      <th>2318</th>\n",
       "      <td>33.555171</td>\n",
       "    </tr>\n",
       "    <tr>\n",
       "      <th>2319</th>\n",
       "      <td>56.595473</td>\n",
       "    </tr>\n",
       "    <tr>\n",
       "      <th>2320</th>\n",
       "      <td>57.044433</td>\n",
       "    </tr>\n",
       "    <tr>\n",
       "      <th>2321</th>\n",
       "      <td>55.558337</td>\n",
       "    </tr>\n",
       "  </tbody>\n",
       "</table>\n",
       "<p>2322 rows × 1 columns</p>\n",
       "</div>"
      ],
      "text/plain": [
       "              0\n",
       "0     86.924492\n",
       "1     88.459787\n",
       "2     86.725885\n",
       "3     83.532495\n",
       "4     82.045125\n",
       "...         ...\n",
       "2317  56.255103\n",
       "2318  33.555171\n",
       "2319  56.595473\n",
       "2320  57.044433\n",
       "2321  55.558337\n",
       "\n",
       "[2322 rows x 1 columns]"
      ]
     },
     "execution_count": 332,
     "metadata": {},
     "output_type": "execute_result"
    }
   ],
   "source": [
    "pre_y2"
   ]
  },
  {
   "cell_type": "code",
   "execution_count": 333,
   "id": "ff06e508",
   "metadata": {},
   "outputs": [],
   "source": [
    "for_prey=pd.concat([for_DF, pre_y2], axis=1)"
   ]
  },
  {
   "cell_type": "code",
   "execution_count": 334,
   "id": "56c22231",
   "metadata": {},
   "outputs": [],
   "source": [
    "for_prey=for_prey.set_index('index')"
   ]
  },
  {
   "cell_type": "code",
   "execution_count": 335,
   "id": "e0d8020a",
   "metadata": {},
   "outputs": [
    {
     "data": {
      "text/html": [
       "<div>\n",
       "<style scoped>\n",
       "    .dataframe tbody tr th:only-of-type {\n",
       "        vertical-align: middle;\n",
       "    }\n",
       "\n",
       "    .dataframe tbody tr th {\n",
       "        vertical-align: top;\n",
       "    }\n",
       "\n",
       "    .dataframe thead th {\n",
       "        text-align: right;\n",
       "    }\n",
       "</style>\n",
       "<table border=\"1\" class=\"dataframe\">\n",
       "  <thead>\n",
       "    <tr style=\"text-align: right;\">\n",
       "      <th></th>\n",
       "      <th>overall</th>\n",
       "      <th>pre_overall</th>\n",
       "    </tr>\n",
       "    <tr>\n",
       "      <th>index</th>\n",
       "      <th></th>\n",
       "      <th></th>\n",
       "    </tr>\n",
       "  </thead>\n",
       "  <tbody>\n",
       "    <tr>\n",
       "      <th>15</th>\n",
       "      <td>89</td>\n",
       "      <td>86.924492</td>\n",
       "    </tr>\n",
       "    <tr>\n",
       "      <th>22</th>\n",
       "      <td>88</td>\n",
       "      <td>88.459787</td>\n",
       "    </tr>\n",
       "    <tr>\n",
       "      <th>39</th>\n",
       "      <td>87</td>\n",
       "      <td>86.725885</td>\n",
       "    </tr>\n",
       "    <tr>\n",
       "      <th>42</th>\n",
       "      <td>87</td>\n",
       "      <td>83.532495</td>\n",
       "    </tr>\n",
       "    <tr>\n",
       "      <th>44</th>\n",
       "      <td>87</td>\n",
       "      <td>82.045125</td>\n",
       "    </tr>\n",
       "    <tr>\n",
       "      <th>...</th>\n",
       "      <td>...</td>\n",
       "      <td>...</td>\n",
       "    </tr>\n",
       "    <tr>\n",
       "      <th>14755</th>\n",
       "      <td>54</td>\n",
       "      <td>56.255103</td>\n",
       "    </tr>\n",
       "    <tr>\n",
       "      <th>14764</th>\n",
       "      <td>54</td>\n",
       "      <td>33.555171</td>\n",
       "    </tr>\n",
       "    <tr>\n",
       "      <th>14843</th>\n",
       "      <td>53</td>\n",
       "      <td>56.595473</td>\n",
       "    </tr>\n",
       "    <tr>\n",
       "      <th>14943</th>\n",
       "      <td>52</td>\n",
       "      <td>57.044433</td>\n",
       "    </tr>\n",
       "    <tr>\n",
       "      <th>15037</th>\n",
       "      <td>50</td>\n",
       "      <td>55.558337</td>\n",
       "    </tr>\n",
       "  </tbody>\n",
       "</table>\n",
       "<p>2322 rows × 2 columns</p>\n",
       "</div>"
      ],
      "text/plain": [
       "       overall  pre_overall\n",
       "index                      \n",
       "15          89    86.924492\n",
       "22          88    88.459787\n",
       "39          87    86.725885\n",
       "42          87    83.532495\n",
       "44          87    82.045125\n",
       "...        ...          ...\n",
       "14755       54    56.255103\n",
       "14764       54    33.555171\n",
       "14843       53    56.595473\n",
       "14943       52    57.044433\n",
       "15037       50    55.558337\n",
       "\n",
       "[2322 rows x 2 columns]"
      ]
     },
     "execution_count": 335,
     "metadata": {},
     "output_type": "execute_result"
    }
   ],
   "source": [
    "for_prey=for_prey.rename(columns={0:'pre_overall'})\n",
    "for_prey"
   ]
  },
  {
   "cell_type": "code",
   "execution_count": 336,
   "id": "d56461c4",
   "metadata": {
    "scrolled": false
   },
   "outputs": [
    {
     "data": {
      "text/plain": [
       "<matplotlib.legend.Legend at 0x225e2fc7850>"
      ]
     },
     "execution_count": 336,
     "metadata": {},
     "output_type": "execute_result"
    },
    {
     "data": {
      "image/png": "[encoded data removed]",
      "text/plain": [
       "<Figure size 640x480 with 1 Axes>"
      ]
     },
     "metadata": {},
     "output_type": "display_data"
    }
   ],
   "source": [
    "plt.scatter(X_train['mentality'], y_train, label='mentality')\n",
    "plt.scatter(X_train['defending'], y_train, label='defending')\n",
    "# plt.plot(new_data, pre_y, color='r', label='reg line')\n",
    "plt.xlabel('mentality&defending')\n",
    "plt.ylabel('overall')\n",
    "plt.legend()"
   ]
  },
  {
   "cell_type": "markdown",
   "id": "b31db93c",
   "metadata": {},
   "source": [
    "## [미드필더 선형모형 예측]"
   ]
  },
  {
   "cell_type": "code",
   "execution_count": 337,
   "id": "80f4e1d7",
   "metadata": {},
   "outputs": [
    {
     "data": {
      "text/html": [
       "<div>\n",
       "<style scoped>\n",
       "    .dataframe tbody tr th:only-of-type {\n",
       "        vertical-align: middle;\n",
       "    }\n",
       "\n",
       "    .dataframe tbody tr th {\n",
       "        vertical-align: top;\n",
       "    }\n",
       "\n",
       "    .dataframe thead th {\n",
       "        text-align: right;\n",
       "    }\n",
       "</style>\n",
       "<table border=\"1\" class=\"dataframe\">\n",
       "  <thead>\n",
       "    <tr style=\"text-align: right;\">\n",
       "      <th></th>\n",
       "      <th>overall</th>\n",
       "      <th>attacking</th>\n",
       "      <th>skill</th>\n",
       "      <th>movement</th>\n",
       "      <th>mentality</th>\n",
       "      <th>defending</th>\n",
       "      <th>power</th>\n",
       "      <th>MID</th>\n",
       "    </tr>\n",
       "  </thead>\n",
       "  <tbody>\n",
       "    <tr>\n",
       "      <th>overall</th>\n",
       "      <td>1.000000</td>\n",
       "      <td>0.771180</td>\n",
       "      <td>0.758052</td>\n",
       "      <td>0.366547</td>\n",
       "      <td>0.756441</td>\n",
       "      <td>0.259445</td>\n",
       "      <td>0.590860</td>\n",
       "      <td>NaN</td>\n",
       "    </tr>\n",
       "    <tr>\n",
       "      <th>attacking</th>\n",
       "      <td>0.771180</td>\n",
       "      <td>1.000000</td>\n",
       "      <td>0.816958</td>\n",
       "      <td>0.342569</td>\n",
       "      <td>0.671884</td>\n",
       "      <td>0.011624</td>\n",
       "      <td>0.580268</td>\n",
       "      <td>NaN</td>\n",
       "    </tr>\n",
       "    <tr>\n",
       "      <th>skill</th>\n",
       "      <td>0.758052</td>\n",
       "      <td>0.816958</td>\n",
       "      <td>1.000000</td>\n",
       "      <td>0.361251</td>\n",
       "      <td>0.684596</td>\n",
       "      <td>0.047423</td>\n",
       "      <td>0.455451</td>\n",
       "      <td>NaN</td>\n",
       "    </tr>\n",
       "    <tr>\n",
       "      <th>movement</th>\n",
       "      <td>0.366547</td>\n",
       "      <td>0.342569</td>\n",
       "      <td>0.361251</td>\n",
       "      <td>1.000000</td>\n",
       "      <td>0.059750</td>\n",
       "      <td>-0.338817</td>\n",
       "      <td>0.089093</td>\n",
       "      <td>NaN</td>\n",
       "    </tr>\n",
       "    <tr>\n",
       "      <th>mentality</th>\n",
       "      <td>0.756441</td>\n",
       "      <td>0.671884</td>\n",
       "      <td>0.684596</td>\n",
       "      <td>0.059750</td>\n",
       "      <td>1.000000</td>\n",
       "      <td>0.577832</td>\n",
       "      <td>0.682275</td>\n",
       "      <td>NaN</td>\n",
       "    </tr>\n",
       "    <tr>\n",
       "      <th>defending</th>\n",
       "      <td>0.259445</td>\n",
       "      <td>0.011624</td>\n",
       "      <td>0.047423</td>\n",
       "      <td>-0.338817</td>\n",
       "      <td>0.577832</td>\n",
       "      <td>1.000000</td>\n",
       "      <td>0.382275</td>\n",
       "      <td>NaN</td>\n",
       "    </tr>\n",
       "    <tr>\n",
       "      <th>power</th>\n",
       "      <td>0.590860</td>\n",
       "      <td>0.580268</td>\n",
       "      <td>0.455451</td>\n",
       "      <td>0.089093</td>\n",
       "      <td>0.682275</td>\n",
       "      <td>0.382275</td>\n",
       "      <td>1.000000</td>\n",
       "      <td>NaN</td>\n",
       "    </tr>\n",
       "    <tr>\n",
       "      <th>MID</th>\n",
       "      <td>NaN</td>\n",
       "      <td>NaN</td>\n",
       "      <td>NaN</td>\n",
       "      <td>NaN</td>\n",
       "      <td>NaN</td>\n",
       "      <td>NaN</td>\n",
       "      <td>NaN</td>\n",
       "      <td>NaN</td>\n",
       "    </tr>\n",
       "  </tbody>\n",
       "</table>\n",
       "</div>"
      ],
      "text/plain": [
       "            overall  attacking     skill  movement  mentality  defending  \\\n",
       "overall    1.000000   0.771180  0.758052  0.366547   0.756441   0.259445   \n",
       "attacking  0.771180   1.000000  0.816958  0.342569   0.671884   0.011624   \n",
       "skill      0.758052   0.816958  1.000000  0.361251   0.684596   0.047423   \n",
       "movement   0.366547   0.342569  0.361251  1.000000   0.059750  -0.338817   \n",
       "mentality  0.756441   0.671884  0.684596  0.059750   1.000000   0.577832   \n",
       "defending  0.259445   0.011624  0.047423 -0.338817   0.577832   1.000000   \n",
       "power      0.590860   0.580268  0.455451  0.089093   0.682275   0.382275   \n",
       "MID             NaN        NaN       NaN       NaN        NaN        NaN   \n",
       "\n",
       "              power  MID  \n",
       "overall    0.590860  NaN  \n",
       "attacking  0.580268  NaN  \n",
       "skill      0.455451  NaN  \n",
       "movement   0.089093  NaN  \n",
       "mentality  0.682275  NaN  \n",
       "defending  0.382275  NaN  \n",
       "power      1.000000  NaN  \n",
       "MID             NaN  NaN  "
      ]
     },
     "execution_count": 337,
     "metadata": {},
     "output_type": "execute_result"
    }
   ],
   "source": [
    "mid_DF.corr()"
   ]
  },
  {
   "cell_type": "code",
   "execution_count": 338,
   "id": "e94fad28",
   "metadata": {},
   "outputs": [
    {
     "data": {
      "text/html": [
       "<div>\n",
       "<style scoped>\n",
       "    .dataframe tbody tr th:only-of-type {\n",
       "        vertical-align: middle;\n",
       "    }\n",
       "\n",
       "    .dataframe tbody tr th {\n",
       "        vertical-align: top;\n",
       "    }\n",
       "\n",
       "    .dataframe thead th {\n",
       "        text-align: right;\n",
       "    }\n",
       "</style>\n",
       "<table border=\"1\" class=\"dataframe\">\n",
       "  <thead>\n",
       "    <tr style=\"text-align: right;\">\n",
       "      <th></th>\n",
       "      <th>attacking</th>\n",
       "      <th>skill</th>\n",
       "      <th>mentality</th>\n",
       "    </tr>\n",
       "  </thead>\n",
       "  <tbody>\n",
       "    <tr>\n",
       "      <th>4</th>\n",
       "      <td>81.4</td>\n",
       "      <td>74.000000</td>\n",
       "      <td>82.666667</td>\n",
       "    </tr>\n",
       "    <tr>\n",
       "      <th>10</th>\n",
       "      <td>65.0</td>\n",
       "      <td>56.500000</td>\n",
       "      <td>78.666667</td>\n",
       "    </tr>\n",
       "    <tr>\n",
       "      <th>14</th>\n",
       "      <td>69.4</td>\n",
       "      <td>61.666667</td>\n",
       "      <td>80.500000</td>\n",
       "    </tr>\n",
       "    <tr>\n",
       "      <th>19</th>\n",
       "      <td>77.4</td>\n",
       "      <td>67.833333</td>\n",
       "      <td>77.833333</td>\n",
       "    </tr>\n",
       "    <tr>\n",
       "      <th>24</th>\n",
       "      <td>79.6</td>\n",
       "      <td>72.333333</td>\n",
       "      <td>77.833333</td>\n",
       "    </tr>\n",
       "    <tr>\n",
       "      <th>...</th>\n",
       "      <td>...</td>\n",
       "      <td>...</td>\n",
       "      <td>...</td>\n",
       "    </tr>\n",
       "    <tr>\n",
       "      <th>14718</th>\n",
       "      <td>45.0</td>\n",
       "      <td>39.833333</td>\n",
       "      <td>49.333333</td>\n",
       "    </tr>\n",
       "    <tr>\n",
       "      <th>14723</th>\n",
       "      <td>41.2</td>\n",
       "      <td>37.166667</td>\n",
       "      <td>52.166667</td>\n",
       "    </tr>\n",
       "    <tr>\n",
       "      <th>14836</th>\n",
       "      <td>44.2</td>\n",
       "      <td>39.166667</td>\n",
       "      <td>40.833333</td>\n",
       "    </tr>\n",
       "    <tr>\n",
       "      <th>14912</th>\n",
       "      <td>45.4</td>\n",
       "      <td>42.166667</td>\n",
       "      <td>47.833333</td>\n",
       "    </tr>\n",
       "    <tr>\n",
       "      <th>14960</th>\n",
       "      <td>43.6</td>\n",
       "      <td>42.166667</td>\n",
       "      <td>45.666667</td>\n",
       "    </tr>\n",
       "  </tbody>\n",
       "</table>\n",
       "<p>2476 rows × 3 columns</p>\n",
       "</div>"
      ],
      "text/plain": [
       "       attacking      skill  mentality\n",
       "4           81.4  74.000000  82.666667\n",
       "10          65.0  56.500000  78.666667\n",
       "14          69.4  61.666667  80.500000\n",
       "19          77.4  67.833333  77.833333\n",
       "24          79.6  72.333333  77.833333\n",
       "...          ...        ...        ...\n",
       "14718       45.0  39.833333  49.333333\n",
       "14723       41.2  37.166667  52.166667\n",
       "14836       44.2  39.166667  40.833333\n",
       "14912       45.4  42.166667  47.833333\n",
       "14960       43.6  42.166667  45.666667\n",
       "\n",
       "[2476 rows x 3 columns]"
      ]
     },
     "execution_count": 338,
     "metadata": {},
     "output_type": "execute_result"
    }
   ],
   "source": [
    "feature_mid=mid_DF[['attacking', 'skill', 'mentality']]\n",
    "feature_mid"
   ]
  },
  {
   "cell_type": "code",
   "execution_count": 339,
   "id": "4e679b92",
   "metadata": {},
   "outputs": [],
   "source": [
    "target_mid=mid_DF.overall"
   ]
  },
  {
   "cell_type": "code",
   "execution_count": 340,
   "id": "ee52f83e",
   "metadata": {},
   "outputs": [
    {
     "data": {
      "text/plain": [
       "4        91\n",
       "10       90\n",
       "14       89\n",
       "19       89\n",
       "24       88\n",
       "         ..\n",
       "14718    54\n",
       "14723    54\n",
       "14836    53\n",
       "14912    53\n",
       "14960    52\n",
       "Name: overall, Length: 2476, dtype: int64"
      ]
     },
     "execution_count": 340,
     "metadata": {},
     "output_type": "execute_result"
    }
   ],
   "source": [
    "target_mid"
   ]
  },
  {
   "cell_type": "code",
   "execution_count": 341,
   "id": "4114bb62",
   "metadata": {},
   "outputs": [],
   "source": [
    "X_train, X_test, y_train, y_test = train_test_split(feature_mid, target_mid, test_size=0.2, random_state=10)"
   ]
  },
  {
   "cell_type": "code",
   "execution_count": null,
   "id": "8abac641",
   "metadata": {},
   "outputs": [],
   "source": []
  },
  {
   "cell_type": "code",
   "execution_count": 342,
   "id": "40670c75",
   "metadata": {},
   "outputs": [],
   "source": [
    "reg=LinearRegression()"
   ]
  },
  {
   "cell_type": "code",
   "execution_count": 343,
   "id": "4ca72c8e",
   "metadata": {},
   "outputs": [
    {
     "data": {
      "text/html": [
       "<style>#sk-container-id-16 {color: black;}#sk-container-id-16 pre{padding: 0;}#sk-container-id-16 div.sk-toggleable {background-color: white;}#sk-container-id-16 label.sk-toggleable__label {cursor: pointer;display: block;width: 100%;margin-bottom: 0;padding: 0.3em;box-sizing: border-box;text-align: center;}#sk-container-id-16 label.sk-toggleable__label-arrow:before {content: \"▸\";float: left;margin-right: 0.25em;color: #696969;}#sk-container-id-16 label.sk-toggleable__label-arrow:hover:before {color: black;}#sk-container-id-16 div.sk-estimator:hover label.sk-toggleable__label-arrow:before {color: black;}#sk-container-id-16 div.sk-toggleable__content {max-height: 0;max-width: 0;overflow: hidden;text-align: left;background-color: #f0f8ff;}#sk-container-id-16 div.sk-toggleable__content pre {margin: 0.2em;color: black;border-radius: 0.25em;background-color: #f0f8ff;}#sk-container-id-16 input.sk-toggleable__control:checked~div.sk-toggleable__content {max-height: 200px;max-width: 100%;overflow: auto;}#sk-container-id-16 input.sk-toggleable__control:checked~label.sk-toggleable__label-arrow:before {content: \"▾\";}#sk-container-id-16 div.sk-estimator input.sk-toggleable__control:checked~label.sk-toggleable__label {background-color: #d4ebff;}#sk-container-id-16 div.sk-label input.sk-toggleable__control:checked~label.sk-toggleable__label {background-color: #d4ebff;}#sk-container-id-16 input.sk-hidden--visually {border: 0;clip: rect(1px 1px 1px 1px);clip: rect(1px, 1px, 1px, 1px);height: 1px;margin: -1px;overflow: hidden;padding: 0;position: absolute;width: 1px;}#sk-container-id-16 div.sk-estimator {font-family: monospace;background-color: #f0f8ff;border: 1px dotted black;border-radius: 0.25em;box-sizing: border-box;margin-bottom: 0.5em;}#sk-container-id-16 div.sk-estimator:hover {background-color: #d4ebff;}#sk-container-id-16 div.sk-parallel-item::after {content: \"\";width: 100%;border-bottom: 1px solid gray;flex-grow: 1;}#sk-container-id-16 div.sk-label:hover label.sk-toggleable__label {background-color: #d4ebff;}#sk-container-id-16 div.sk-serial::before {content: \"\";position: absolute;border-left: 1px solid gray;box-sizing: border-box;top: 0;bottom: 0;left: 50%;z-index: 0;}#sk-container-id-16 div.sk-serial {display: flex;flex-direction: column;align-items: center;background-color: white;padding-right: 0.2em;padding-left: 0.2em;position: relative;}#sk-container-id-16 div.sk-item {position: relative;z-index: 1;}#sk-container-id-16 div.sk-parallel {display: flex;align-items: stretch;justify-content: center;background-color: white;position: relative;}#sk-container-id-16 div.sk-item::before, #sk-container-id-16 div.sk-parallel-item::before {content: \"\";position: absolute;border-left: 1px solid gray;box-sizing: border-box;top: 0;bottom: 0;left: 50%;z-index: -1;}#sk-container-id-16 div.sk-parallel-item {display: flex;flex-direction: column;z-index: 1;position: relative;background-color: white;}#sk-container-id-16 div.sk-parallel-item:first-child::after {align-self: flex-end;width: 50%;}#sk-container-id-16 div.sk-parallel-item:last-child::after {align-self: flex-start;width: 50%;}#sk-container-id-16 div.sk-parallel-item:only-child::after {width: 0;}#sk-container-id-16 div.sk-dashed-wrapped {border: 1px dashed gray;margin: 0 0.4em 0.5em 0.4em;box-sizing: border-box;padding-bottom: 0.4em;background-color: white;}#sk-container-id-16 div.sk-label label {font-family: monospace;font-weight: bold;display: inline-block;line-height: 1.2em;}#sk-container-id-16 div.sk-label-container {text-align: center;}#sk-container-id-16 div.sk-container {/* jupyter's `normalize.less` sets `[hidden] { display: none; }` but bootstrap.min.css set `[hidden] { display: none !important; }` so we also need the `!important` here to be able to override the default hidden behavior on the sphinx rendered scikit-learn.org. See: https://github.com/scikit-learn/scikit-learn/issues/21755 */display: inline-block !important;position: relative;}#sk-container-id-16 div.sk-text-repr-fallback {display: none;}</style><div id=\"sk-container-id-16\" class=\"sk-top-container\"><div class=\"sk-text-repr-fallback\"><pre>LinearRegression()</pre><b>In a Jupyter environment, please rerun this cell to show the HTML representation or trust the notebook. <br />On GitHub, the HTML representation is unable to render, please try loading this page with nbviewer.org.</b></div><div class=\"sk-container\" hidden><div class=\"sk-item\"><div class=\"sk-estimator sk-toggleable\"><input class=\"sk-toggleable__control sk-hidden--visually\" id=\"sk-estimator-id-16\" type=\"checkbox\" checked><label for=\"sk-estimator-id-16\" class=\"sk-toggleable__label sk-toggleable__label-arrow\">LinearRegression</label><div class=\"sk-toggleable__content\"><pre>LinearRegression()</pre></div></div></div></div></div>"
      ],
      "text/plain": [
       "LinearRegression()"
      ]
     },
     "execution_count": 343,
     "metadata": {},
     "output_type": "execute_result"
    }
   ],
   "source": [
    "reg.fit(feature_mid, target_mid)"
   ]
  },
  {
   "cell_type": "code",
   "execution_count": 344,
   "id": "3734e82a",
   "metadata": {},
   "outputs": [
    {
     "data": {
      "text/plain": [
       "array([0.262692  , 0.19272117, 0.30157948])"
      ]
     },
     "execution_count": 344,
     "metadata": {},
     "output_type": "execute_result"
    }
   ],
   "source": [
    "reg.coef_"
   ]
  },
  {
   "cell_type": "code",
   "execution_count": 345,
   "id": "f2f49012",
   "metadata": {},
   "outputs": [
    {
     "data": {
      "text/plain": [
       "24.908226622104934"
      ]
     },
     "execution_count": 345,
     "metadata": {},
     "output_type": "execute_result"
    }
   ],
   "source": [
    "reg.intercept_"
   ]
  },
  {
   "cell_type": "code",
   "execution_count": 346,
   "id": "0e89ca38",
   "metadata": {},
   "outputs": [],
   "source": [
    "train_score = reg.score(X_train, y_train)\n",
    "test_score = reg.score(X_test, y_test)"
   ]
  },
  {
   "cell_type": "code",
   "execution_count": null,
   "id": "018b9ed6",
   "metadata": {},
   "outputs": [],
   "source": []
  },
  {
   "cell_type": "code",
   "execution_count": 347,
   "id": "a09a1ebd",
   "metadata": {},
   "outputs": [
    {
     "data": {
      "text/plain": [
       "' 훈련 결과 점수 : 0.7083187242393651, 테스트 결과 점수 : 0.735956881836989'"
      ]
     },
     "execution_count": 347,
     "metadata": {},
     "output_type": "execute_result"
    }
   ],
   "source": [
    "f' 훈련 결과 점수 : {train_score}, 테스트 결과 점수 : {test_score}'"
   ]
  },
  {
   "cell_type": "code",
   "execution_count": 348,
   "id": "1ba859ef",
   "metadata": {},
   "outputs": [],
   "source": [
    "new_data=feature_mid"
   ]
  },
  {
   "cell_type": "code",
   "execution_count": 349,
   "id": "f75563e5",
   "metadata": {
    "scrolled": true
   },
   "outputs": [],
   "source": [
    "# new_data = new_data.reshape(-1,2)"
   ]
  },
  {
   "cell_type": "code",
   "execution_count": 350,
   "id": "10a91b09",
   "metadata": {},
   "outputs": [],
   "source": [
    "X_train_flattened = X_train.values.ravel()"
   ]
  },
  {
   "cell_type": "code",
   "execution_count": 351,
   "id": "0aee42f7",
   "metadata": {},
   "outputs": [
    {
     "data": {
      "text/plain": [
       "(5940,)"
      ]
     },
     "execution_count": 351,
     "metadata": {},
     "output_type": "execute_result"
    }
   ],
   "source": [
    "X_train_flattened.shape"
   ]
  },
  {
   "cell_type": "code",
   "execution_count": 352,
   "id": "fde40e35",
   "metadata": {},
   "outputs": [
    {
     "data": {
      "text/plain": [
       "(1980, 3)"
      ]
     },
     "execution_count": 352,
     "metadata": {},
     "output_type": "execute_result"
    }
   ],
   "source": [
    "X_train.shape"
   ]
  },
  {
   "cell_type": "code",
   "execution_count": 353,
   "id": "dbfc265b",
   "metadata": {},
   "outputs": [
    {
     "data": {
      "text/plain": [
       "(2476, 3)"
      ]
     },
     "execution_count": 353,
     "metadata": {},
     "output_type": "execute_result"
    }
   ],
   "source": [
    "new_data.shape"
   ]
  },
  {
   "cell_type": "code",
   "execution_count": 354,
   "id": "76d07702",
   "metadata": {
    "scrolled": true
   },
   "outputs": [
    {
     "data": {
      "text/plain": [
       "(1980,)"
      ]
     },
     "execution_count": 354,
     "metadata": {},
     "output_type": "execute_result"
    }
   ],
   "source": [
    "y_train.shape"
   ]
  },
  {
   "cell_type": "code",
   "execution_count": 355,
   "id": "db9da898",
   "metadata": {},
   "outputs": [],
   "source": [
    "pre_y=reg.predict(new_data)"
   ]
  },
  {
   "cell_type": "code",
   "execution_count": null,
   "id": "1dc26bdc",
   "metadata": {},
   "outputs": [],
   "source": []
  },
  {
   "cell_type": "code",
   "execution_count": 356,
   "id": "1944e223",
   "metadata": {},
   "outputs": [],
   "source": [
    "pre_y1=pre_y.reshape(-1,1)"
   ]
  },
  {
   "cell_type": "code",
   "execution_count": 357,
   "id": "6e56482a",
   "metadata": {},
   "outputs": [],
   "source": [
    "pre_y2=pd.DataFrame(pre_y1)"
   ]
  },
  {
   "cell_type": "code",
   "execution_count": 358,
   "id": "a4060e55",
   "metadata": {},
   "outputs": [
    {
     "data": {
      "text/html": [
       "<div>\n",
       "<style scoped>\n",
       "    .dataframe tbody tr th:only-of-type {\n",
       "        vertical-align: middle;\n",
       "    }\n",
       "\n",
       "    .dataframe tbody tr th {\n",
       "        vertical-align: top;\n",
       "    }\n",
       "\n",
       "    .dataframe thead th {\n",
       "        text-align: right;\n",
       "    }\n",
       "</style>\n",
       "<table border=\"1\" class=\"dataframe\">\n",
       "  <thead>\n",
       "    <tr style=\"text-align: right;\">\n",
       "      <th></th>\n",
       "      <th>0</th>\n",
       "    </tr>\n",
       "  </thead>\n",
       "  <tbody>\n",
       "    <tr>\n",
       "      <th>0</th>\n",
       "      <td>85.483292</td>\n",
       "    </tr>\n",
       "    <tr>\n",
       "      <th>1</th>\n",
       "      <td>76.596205</td>\n",
       "    </tr>\n",
       "    <tr>\n",
       "      <th>2</th>\n",
       "      <td>79.300672</td>\n",
       "    </tr>\n",
       "    <tr>\n",
       "      <th>3</th>\n",
       "      <td>81.786443</td>\n",
       "    </tr>\n",
       "    <tr>\n",
       "      <th>4</th>\n",
       "      <td>83.231611</td>\n",
       "    </tr>\n",
       "    <tr>\n",
       "      <th>...</th>\n",
       "      <td>...</td>\n",
       "    </tr>\n",
       "    <tr>\n",
       "      <th>2471</th>\n",
       "      <td>59.284014</td>\n",
       "    </tr>\n",
       "    <tr>\n",
       "      <th>2472</th>\n",
       "      <td>58.626337</td>\n",
       "    </tr>\n",
       "    <tr>\n",
       "      <th>2473</th>\n",
       "      <td>56.381954</td>\n",
       "    </tr>\n",
       "    <tr>\n",
       "      <th>2474</th>\n",
       "      <td>59.386405</td>\n",
       "    </tr>\n",
       "    <tr>\n",
       "      <th>2475</th>\n",
       "      <td>58.260137</td>\n",
       "    </tr>\n",
       "  </tbody>\n",
       "</table>\n",
       "<p>2476 rows × 1 columns</p>\n",
       "</div>"
      ],
      "text/plain": [
       "              0\n",
       "0     85.483292\n",
       "1     76.596205\n",
       "2     79.300672\n",
       "3     81.786443\n",
       "4     83.231611\n",
       "...         ...\n",
       "2471  59.284014\n",
       "2472  58.626337\n",
       "2473  56.381954\n",
       "2474  59.386405\n",
       "2475  58.260137\n",
       "\n",
       "[2476 rows x 1 columns]"
      ]
     },
     "execution_count": 358,
     "metadata": {},
     "output_type": "execute_result"
    }
   ],
   "source": [
    "pre_y2"
   ]
  },
  {
   "cell_type": "code",
   "execution_count": 359,
   "id": "a3762b00",
   "metadata": {},
   "outputs": [],
   "source": [
    "for_prey1=pd.concat([for_mid, pre_y2], axis=1)"
   ]
  },
  {
   "cell_type": "code",
   "execution_count": 360,
   "id": "a78dc152",
   "metadata": {},
   "outputs": [],
   "source": [
    "for_prey1=for_prey1.set_index('index')"
   ]
  },
  {
   "cell_type": "code",
   "execution_count": 361,
   "id": "60a39592",
   "metadata": {
    "scrolled": true
   },
   "outputs": [
    {
     "data": {
      "text/html": [
       "<div>\n",
       "<style scoped>\n",
       "    .dataframe tbody tr th:only-of-type {\n",
       "        vertical-align: middle;\n",
       "    }\n",
       "\n",
       "    .dataframe tbody tr th {\n",
       "        vertical-align: top;\n",
       "    }\n",
       "\n",
       "    .dataframe thead th {\n",
       "        text-align: right;\n",
       "    }\n",
       "</style>\n",
       "<table border=\"1\" class=\"dataframe\">\n",
       "  <thead>\n",
       "    <tr style=\"text-align: right;\">\n",
       "      <th></th>\n",
       "      <th>overall</th>\n",
       "      <th>pre_overall</th>\n",
       "    </tr>\n",
       "    <tr>\n",
       "      <th>index</th>\n",
       "      <th></th>\n",
       "      <th></th>\n",
       "    </tr>\n",
       "  </thead>\n",
       "  <tbody>\n",
       "    <tr>\n",
       "      <th>4</th>\n",
       "      <td>91</td>\n",
       "      <td>85.483292</td>\n",
       "    </tr>\n",
       "    <tr>\n",
       "      <th>10</th>\n",
       "      <td>90</td>\n",
       "      <td>76.596205</td>\n",
       "    </tr>\n",
       "    <tr>\n",
       "      <th>14</th>\n",
       "      <td>89</td>\n",
       "      <td>79.300672</td>\n",
       "    </tr>\n",
       "    <tr>\n",
       "      <th>19</th>\n",
       "      <td>89</td>\n",
       "      <td>81.786443</td>\n",
       "    </tr>\n",
       "    <tr>\n",
       "      <th>24</th>\n",
       "      <td>88</td>\n",
       "      <td>83.231611</td>\n",
       "    </tr>\n",
       "    <tr>\n",
       "      <th>...</th>\n",
       "      <td>...</td>\n",
       "      <td>...</td>\n",
       "    </tr>\n",
       "    <tr>\n",
       "      <th>14718</th>\n",
       "      <td>54</td>\n",
       "      <td>59.284014</td>\n",
       "    </tr>\n",
       "    <tr>\n",
       "      <th>14723</th>\n",
       "      <td>54</td>\n",
       "      <td>58.626337</td>\n",
       "    </tr>\n",
       "    <tr>\n",
       "      <th>14836</th>\n",
       "      <td>53</td>\n",
       "      <td>56.381954</td>\n",
       "    </tr>\n",
       "    <tr>\n",
       "      <th>14912</th>\n",
       "      <td>53</td>\n",
       "      <td>59.386405</td>\n",
       "    </tr>\n",
       "    <tr>\n",
       "      <th>14960</th>\n",
       "      <td>52</td>\n",
       "      <td>58.260137</td>\n",
       "    </tr>\n",
       "  </tbody>\n",
       "</table>\n",
       "<p>2476 rows × 2 columns</p>\n",
       "</div>"
      ],
      "text/plain": [
       "       overall  pre_overall\n",
       "index                      \n",
       "4           91    85.483292\n",
       "10          90    76.596205\n",
       "14          89    79.300672\n",
       "19          89    81.786443\n",
       "24          88    83.231611\n",
       "...        ...          ...\n",
       "14718       54    59.284014\n",
       "14723       54    58.626337\n",
       "14836       53    56.381954\n",
       "14912       53    59.386405\n",
       "14960       52    58.260137\n",
       "\n",
       "[2476 rows x 2 columns]"
      ]
     },
     "execution_count": 361,
     "metadata": {},
     "output_type": "execute_result"
    }
   ],
   "source": [
    "for_prey1=for_prey1.rename(columns={0:'pre_overall'})\n",
    "for_prey1"
   ]
  },
  {
   "cell_type": "code",
   "execution_count": 362,
   "id": "c3012061",
   "metadata": {
    "scrolled": false
   },
   "outputs": [
    {
     "data": {
      "text/plain": [
       "<matplotlib.legend.Legend at 0x225e4109610>"
      ]
     },
     "execution_count": 362,
     "metadata": {},
     "output_type": "execute_result"
    },
    {
     "data": {
      "image/png": "[encoded data removed]",
      "text/plain": [
       "<Figure size 640x480 with 1 Axes>"
      ]
     },
     "metadata": {},
     "output_type": "display_data"
    }
   ],
   "source": [
    "plt.scatter(X_train['attacking'], y_train, label='attacking',s=2)\n",
    "plt.scatter(X_train['skill'], y_train, label= 'skill',s=2)\n",
    "plt.scatter(X_train['mentality'], y_train, label='mentality',s=2)\n",
    "# plt.plot(X_train, pre_y, color='r', label='reg line')\n",
    "plt.xlabel('attacking&skill&mentality')\n",
    "plt.ylabel('overall')\n",
    "plt.legend()"
   ]
  },
  {
   "cell_type": "code",
   "execution_count": 363,
   "id": "72c09254",
   "metadata": {},
   "outputs": [],
   "source": [
    "from sklearn.preprocessing import PolynomialFeatures"
   ]
  },
  {
   "cell_type": "code",
   "execution_count": 364,
   "id": "112f5061",
   "metadata": {},
   "outputs": [],
   "source": [
    "# 차수 변수\n",
    "n_degree = 3"
   ]
  },
  {
   "cell_type": "code",
   "execution_count": 365,
   "id": "d33f43fd",
   "metadata": {},
   "outputs": [],
   "source": [
    "# (1) 객체 생성\n",
    "poly=PolynomialFeatures(degree=n_degree)"
   ]
  },
  {
   "cell_type": "code",
   "execution_count": 366,
   "id": "a21a5013",
   "metadata": {},
   "outputs": [
    {
     "data": {
      "text/html": [
       "<style>#sk-container-id-17 {color: black;}#sk-container-id-17 pre{padding: 0;}#sk-container-id-17 div.sk-toggleable {background-color: white;}#sk-container-id-17 label.sk-toggleable__label {cursor: pointer;display: block;width: 100%;margin-bottom: 0;padding: 0.3em;box-sizing: border-box;text-align: center;}#sk-container-id-17 label.sk-toggleable__label-arrow:before {content: \"▸\";float: left;margin-right: 0.25em;color: #696969;}#sk-container-id-17 label.sk-toggleable__label-arrow:hover:before {color: black;}#sk-container-id-17 div.sk-estimator:hover label.sk-toggleable__label-arrow:before {color: black;}#sk-container-id-17 div.sk-toggleable__content {max-height: 0;max-width: 0;overflow: hidden;text-align: left;background-color: #f0f8ff;}#sk-container-id-17 div.sk-toggleable__content pre {margin: 0.2em;color: black;border-radius: 0.25em;background-color: #f0f8ff;}#sk-container-id-17 input.sk-toggleable__control:checked~div.sk-toggleable__content {max-height: 200px;max-width: 100%;overflow: auto;}#sk-container-id-17 input.sk-toggleable__control:checked~label.sk-toggleable__label-arrow:before {content: \"▾\";}#sk-container-id-17 div.sk-estimator input.sk-toggleable__control:checked~label.sk-toggleable__label {background-color: #d4ebff;}#sk-container-id-17 div.sk-label input.sk-toggleable__control:checked~label.sk-toggleable__label {background-color: #d4ebff;}#sk-container-id-17 input.sk-hidden--visually {border: 0;clip: rect(1px 1px 1px 1px);clip: rect(1px, 1px, 1px, 1px);height: 1px;margin: -1px;overflow: hidden;padding: 0;position: absolute;width: 1px;}#sk-container-id-17 div.sk-estimator {font-family: monospace;background-color: #f0f8ff;border: 1px dotted black;border-radius: 0.25em;box-sizing: border-box;margin-bottom: 0.5em;}#sk-container-id-17 div.sk-estimator:hover {background-color: #d4ebff;}#sk-container-id-17 div.sk-parallel-item::after {content: \"\";width: 100%;border-bottom: 1px solid gray;flex-grow: 1;}#sk-container-id-17 div.sk-label:hover label.sk-toggleable__label {background-color: #d4ebff;}#sk-container-id-17 div.sk-serial::before {content: \"\";position: absolute;border-left: 1px solid gray;box-sizing: border-box;top: 0;bottom: 0;left: 50%;z-index: 0;}#sk-container-id-17 div.sk-serial {display: flex;flex-direction: column;align-items: center;background-color: white;padding-right: 0.2em;padding-left: 0.2em;position: relative;}#sk-container-id-17 div.sk-item {position: relative;z-index: 1;}#sk-container-id-17 div.sk-parallel {display: flex;align-items: stretch;justify-content: center;background-color: white;position: relative;}#sk-container-id-17 div.sk-item::before, #sk-container-id-17 div.sk-parallel-item::before {content: \"\";position: absolute;border-left: 1px solid gray;box-sizing: border-box;top: 0;bottom: 0;left: 50%;z-index: -1;}#sk-container-id-17 div.sk-parallel-item {display: flex;flex-direction: column;z-index: 1;position: relative;background-color: white;}#sk-container-id-17 div.sk-parallel-item:first-child::after {align-self: flex-end;width: 50%;}#sk-container-id-17 div.sk-parallel-item:last-child::after {align-self: flex-start;width: 50%;}#sk-container-id-17 div.sk-parallel-item:only-child::after {width: 0;}#sk-container-id-17 div.sk-dashed-wrapped {border: 1px dashed gray;margin: 0 0.4em 0.5em 0.4em;box-sizing: border-box;padding-bottom: 0.4em;background-color: white;}#sk-container-id-17 div.sk-label label {font-family: monospace;font-weight: bold;display: inline-block;line-height: 1.2em;}#sk-container-id-17 div.sk-label-container {text-align: center;}#sk-container-id-17 div.sk-container {/* jupyter's `normalize.less` sets `[hidden] { display: none; }` but bootstrap.min.css set `[hidden] { display: none !important; }` so we also need the `!important` here to be able to override the default hidden behavior on the sphinx rendered scikit-learn.org. See: https://github.com/scikit-learn/scikit-learn/issues/21755 */display: inline-block !important;position: relative;}#sk-container-id-17 div.sk-text-repr-fallback {display: none;}</style><div id=\"sk-container-id-17\" class=\"sk-top-container\"><div class=\"sk-text-repr-fallback\"><pre>PolynomialFeatures(degree=3)</pre><b>In a Jupyter environment, please rerun this cell to show the HTML representation or trust the notebook. <br />On GitHub, the HTML representation is unable to render, please try loading this page with nbviewer.org.</b></div><div class=\"sk-container\" hidden><div class=\"sk-item\"><div class=\"sk-estimator sk-toggleable\"><input class=\"sk-toggleable__control sk-hidden--visually\" id=\"sk-estimator-id-17\" type=\"checkbox\" checked><label for=\"sk-estimator-id-17\" class=\"sk-toggleable__label sk-toggleable__label-arrow\">PolynomialFeatures</label><div class=\"sk-toggleable__content\"><pre>PolynomialFeatures(degree=3)</pre></div></div></div></div></div>"
      ],
      "text/plain": [
       "PolynomialFeatures(degree=3)"
      ]
     },
     "execution_count": 366,
     "metadata": {},
     "output_type": "execute_result"
    }
   ],
   "source": [
    "# (2) 생성된 다항특성객체에 학습 진행 ===> 주어진 데이터의 피쳐를 2차원 변형\n",
    "# => x, x^2 , 1\n",
    "poly.fit(X_train, X_test)"
   ]
  },
  {
   "cell_type": "code",
   "execution_count": 367,
   "id": "3b03d5f4",
   "metadata": {},
   "outputs": [],
   "source": [
    "# (3) 변형하기\n",
    "poly_train=poly.transform(X_train)\n",
    "poly_test=poly.transform(X_test)"
   ]
  },
  {
   "cell_type": "code",
   "execution_count": 368,
   "id": "72203236",
   "metadata": {},
   "outputs": [
    {
     "name": "stdout",
     "output_type": "stream",
     "text": [
      "3\n",
      "20\n"
     ]
    }
   ],
   "source": [
    "# 입력한 피쳐 확인\n",
    "print(poly.n_features_in_)\n",
    "\n",
    "# 생성된 피쳐 확인\n",
    "print(poly.n_output_features_)"
   ]
  },
  {
   "cell_type": "code",
   "execution_count": 369,
   "id": "a6787f59",
   "metadata": {},
   "outputs": [
    {
     "name": "stdout",
     "output_type": "stream",
     "text": [
      "전 (1980, 3) => 후 (1980, 20)\n"
     ]
    }
   ],
   "source": [
    "# 변형 전후 형태(shape) 확인\n",
    "print(f'전 {X_train.shape} => 후 {poly_train.shape}')"
   ]
  },
  {
   "cell_type": "code",
   "execution_count": 370,
   "id": "dcec4e8c",
   "metadata": {},
   "outputs": [
    {
     "data": {
      "text/plain": [
       "(1980, 3)"
      ]
     },
     "execution_count": 370,
     "metadata": {},
     "output_type": "execute_result"
    }
   ],
   "source": [
    "X_train.shape"
   ]
  },
  {
   "cell_type": "code",
   "execution_count": 371,
   "id": "d0b87502",
   "metadata": {
    "scrolled": true
   },
   "outputs": [
    {
     "data": {
      "text/plain": [
       "array([[1.00000000e+00, 6.80000000e+01, 6.43333333e+01, 7.13333333e+01,\n",
       "        4.62400000e+03, 4.37466667e+03, 4.85066667e+03, 4.13877778e+03,\n",
       "        4.58911111e+03, 5.08844444e+03, 3.14432000e+05, 2.97477333e+05,\n",
       "        3.29845333e+05, 2.81436889e+05, 3.12059556e+05, 3.46014222e+05,\n",
       "        2.66261370e+05, 2.95232815e+05, 3.27356593e+05, 3.62975704e+05]])"
      ]
     },
     "execution_count": 371,
     "metadata": {},
     "output_type": "execute_result"
    }
   ],
   "source": [
    "poly_train[:1]"
   ]
  },
  {
   "cell_type": "code",
   "execution_count": 372,
   "id": "433c7355",
   "metadata": {},
   "outputs": [],
   "source": [
    "reg=LinearRegression()"
   ]
  },
  {
   "cell_type": "code",
   "execution_count": 373,
   "id": "29f41ae5",
   "metadata": {},
   "outputs": [
    {
     "data": {
      "text/html": [
       "<style>#sk-container-id-18 {color: black;}#sk-container-id-18 pre{padding: 0;}#sk-container-id-18 div.sk-toggleable {background-color: white;}#sk-container-id-18 label.sk-toggleable__label {cursor: pointer;display: block;width: 100%;margin-bottom: 0;padding: 0.3em;box-sizing: border-box;text-align: center;}#sk-container-id-18 label.sk-toggleable__label-arrow:before {content: \"▸\";float: left;margin-right: 0.25em;color: #696969;}#sk-container-id-18 label.sk-toggleable__label-arrow:hover:before {color: black;}#sk-container-id-18 div.sk-estimator:hover label.sk-toggleable__label-arrow:before {color: black;}#sk-container-id-18 div.sk-toggleable__content {max-height: 0;max-width: 0;overflow: hidden;text-align: left;background-color: #f0f8ff;}#sk-container-id-18 div.sk-toggleable__content pre {margin: 0.2em;color: black;border-radius: 0.25em;background-color: #f0f8ff;}#sk-container-id-18 input.sk-toggleable__control:checked~div.sk-toggleable__content {max-height: 200px;max-width: 100%;overflow: auto;}#sk-container-id-18 input.sk-toggleable__control:checked~label.sk-toggleable__label-arrow:before {content: \"▾\";}#sk-container-id-18 div.sk-estimator input.sk-toggleable__control:checked~label.sk-toggleable__label {background-color: #d4ebff;}#sk-container-id-18 div.sk-label input.sk-toggleable__control:checked~label.sk-toggleable__label {background-color: #d4ebff;}#sk-container-id-18 input.sk-hidden--visually {border: 0;clip: rect(1px 1px 1px 1px);clip: rect(1px, 1px, 1px, 1px);height: 1px;margin: -1px;overflow: hidden;padding: 0;position: absolute;width: 1px;}#sk-container-id-18 div.sk-estimator {font-family: monospace;background-color: #f0f8ff;border: 1px dotted black;border-radius: 0.25em;box-sizing: border-box;margin-bottom: 0.5em;}#sk-container-id-18 div.sk-estimator:hover {background-color: #d4ebff;}#sk-container-id-18 div.sk-parallel-item::after {content: \"\";width: 100%;border-bottom: 1px solid gray;flex-grow: 1;}#sk-container-id-18 div.sk-label:hover label.sk-toggleable__label {background-color: #d4ebff;}#sk-container-id-18 div.sk-serial::before {content: \"\";position: absolute;border-left: 1px solid gray;box-sizing: border-box;top: 0;bottom: 0;left: 50%;z-index: 0;}#sk-container-id-18 div.sk-serial {display: flex;flex-direction: column;align-items: center;background-color: white;padding-right: 0.2em;padding-left: 0.2em;position: relative;}#sk-container-id-18 div.sk-item {position: relative;z-index: 1;}#sk-container-id-18 div.sk-parallel {display: flex;align-items: stretch;justify-content: center;background-color: white;position: relative;}#sk-container-id-18 div.sk-item::before, #sk-container-id-18 div.sk-parallel-item::before {content: \"\";position: absolute;border-left: 1px solid gray;box-sizing: border-box;top: 0;bottom: 0;left: 50%;z-index: -1;}#sk-container-id-18 div.sk-parallel-item {display: flex;flex-direction: column;z-index: 1;position: relative;background-color: white;}#sk-container-id-18 div.sk-parallel-item:first-child::after {align-self: flex-end;width: 50%;}#sk-container-id-18 div.sk-parallel-item:last-child::after {align-self: flex-start;width: 50%;}#sk-container-id-18 div.sk-parallel-item:only-child::after {width: 0;}#sk-container-id-18 div.sk-dashed-wrapped {border: 1px dashed gray;margin: 0 0.4em 0.5em 0.4em;box-sizing: border-box;padding-bottom: 0.4em;background-color: white;}#sk-container-id-18 div.sk-label label {font-family: monospace;font-weight: bold;display: inline-block;line-height: 1.2em;}#sk-container-id-18 div.sk-label-container {text-align: center;}#sk-container-id-18 div.sk-container {/* jupyter's `normalize.less` sets `[hidden] { display: none; }` but bootstrap.min.css set `[hidden] { display: none !important; }` so we also need the `!important` here to be able to override the default hidden behavior on the sphinx rendered scikit-learn.org. See: https://github.com/scikit-learn/scikit-learn/issues/21755 */display: inline-block !important;position: relative;}#sk-container-id-18 div.sk-text-repr-fallback {display: none;}</style><div id=\"sk-container-id-18\" class=\"sk-top-container\"><div class=\"sk-text-repr-fallback\"><pre>LinearRegression()</pre><b>In a Jupyter environment, please rerun this cell to show the HTML representation or trust the notebook. <br />On GitHub, the HTML representation is unable to render, please try loading this page with nbviewer.org.</b></div><div class=\"sk-container\" hidden><div class=\"sk-item\"><div class=\"sk-estimator sk-toggleable\"><input class=\"sk-toggleable__control sk-hidden--visually\" id=\"sk-estimator-id-18\" type=\"checkbox\" checked><label for=\"sk-estimator-id-18\" class=\"sk-toggleable__label sk-toggleable__label-arrow\">LinearRegression</label><div class=\"sk-toggleable__content\"><pre>LinearRegression()</pre></div></div></div></div></div>"
      ],
      "text/plain": [
       "LinearRegression()"
      ]
     },
     "execution_count": 373,
     "metadata": {},
     "output_type": "execute_result"
    }
   ],
   "source": [
    "reg.fit(feature_mid, target_mid)"
   ]
  },
  {
   "cell_type": "code",
   "execution_count": 374,
   "id": "673ed765",
   "metadata": {},
   "outputs": [
    {
     "data": {
      "text/plain": [
       "array([0.262692  , 0.19272117, 0.30157948])"
      ]
     },
     "execution_count": 374,
     "metadata": {},
     "output_type": "execute_result"
    }
   ],
   "source": [
    "reg.coef_"
   ]
  },
  {
   "cell_type": "code",
   "execution_count": 375,
   "id": "a3b0701f",
   "metadata": {},
   "outputs": [
    {
     "data": {
      "text/plain": [
       "24.908226622104934"
      ]
     },
     "execution_count": 375,
     "metadata": {},
     "output_type": "execute_result"
    }
   ],
   "source": [
    "reg.intercept_"
   ]
  },
  {
   "cell_type": "code",
   "execution_count": 376,
   "id": "f1c1e395",
   "metadata": {},
   "outputs": [],
   "source": [
    "train_score = reg.score(X_train, y_train)\n",
    "test_score = reg.score(X_test, y_test)"
   ]
  },
  {
   "cell_type": "code",
   "execution_count": null,
   "id": "f8bdb940",
   "metadata": {},
   "outputs": [],
   "source": []
  },
  {
   "cell_type": "code",
   "execution_count": 377,
   "id": "0f8227f7",
   "metadata": {
    "scrolled": true
   },
   "outputs": [
    {
     "data": {
      "text/plain": [
       "' 훈련 결과 점수 : 0.7083187242393651, 테스트 결과 점수 : 0.735956881836989'"
      ]
     },
     "execution_count": 377,
     "metadata": {},
     "output_type": "execute_result"
    }
   ],
   "source": [
    "f' 훈련 결과 점수 : {train_score}, 테스트 결과 점수 : {test_score}'"
   ]
  },
  {
   "cell_type": "code",
   "execution_count": null,
   "id": "2b56447c",
   "metadata": {},
   "outputs": [],
   "source": []
  },
  {
   "cell_type": "code",
   "execution_count": null,
   "id": "0d377026",
   "metadata": {},
   "outputs": [],
   "source": []
  },
  {
   "cell_type": "code",
   "execution_count": 378,
   "id": "c0357af4",
   "metadata": {},
   "outputs": [],
   "source": [
    "from sklearn.linear_model import Ridge, Lasso"
   ]
  },
  {
   "cell_type": "code",
   "execution_count": 379,
   "id": "28b10a27",
   "metadata": {},
   "outputs": [],
   "source": [
    "# 규제 강도 변수\n",
    "alpha_ = 10000"
   ]
  },
  {
   "cell_type": "code",
   "execution_count": 380,
   "id": "e81010ae",
   "metadata": {},
   "outputs": [],
   "source": [
    "# Ridge 학습 모델 객체 생성\n",
    "rgModel = Ridge(alpha=alpha_)"
   ]
  },
  {
   "cell_type": "code",
   "execution_count": 381,
   "id": "d25e6e71",
   "metadata": {},
   "outputs": [
    {
     "data": {
      "text/html": [
       "<style>#sk-container-id-19 {color: black;}#sk-container-id-19 pre{padding: 0;}#sk-container-id-19 div.sk-toggleable {background-color: white;}#sk-container-id-19 label.sk-toggleable__label {cursor: pointer;display: block;width: 100%;margin-bottom: 0;padding: 0.3em;box-sizing: border-box;text-align: center;}#sk-container-id-19 label.sk-toggleable__label-arrow:before {content: \"▸\";float: left;margin-right: 0.25em;color: #696969;}#sk-container-id-19 label.sk-toggleable__label-arrow:hover:before {color: black;}#sk-container-id-19 div.sk-estimator:hover label.sk-toggleable__label-arrow:before {color: black;}#sk-container-id-19 div.sk-toggleable__content {max-height: 0;max-width: 0;overflow: hidden;text-align: left;background-color: #f0f8ff;}#sk-container-id-19 div.sk-toggleable__content pre {margin: 0.2em;color: black;border-radius: 0.25em;background-color: #f0f8ff;}#sk-container-id-19 input.sk-toggleable__control:checked~div.sk-toggleable__content {max-height: 200px;max-width: 100%;overflow: auto;}#sk-container-id-19 input.sk-toggleable__control:checked~label.sk-toggleable__label-arrow:before {content: \"▾\";}#sk-container-id-19 div.sk-estimator input.sk-toggleable__control:checked~label.sk-toggleable__label {background-color: #d4ebff;}#sk-container-id-19 div.sk-label input.sk-toggleable__control:checked~label.sk-toggleable__label {background-color: #d4ebff;}#sk-container-id-19 input.sk-hidden--visually {border: 0;clip: rect(1px 1px 1px 1px);clip: rect(1px, 1px, 1px, 1px);height: 1px;margin: -1px;overflow: hidden;padding: 0;position: absolute;width: 1px;}#sk-container-id-19 div.sk-estimator {font-family: monospace;background-color: #f0f8ff;border: 1px dotted black;border-radius: 0.25em;box-sizing: border-box;margin-bottom: 0.5em;}#sk-container-id-19 div.sk-estimator:hover {background-color: #d4ebff;}#sk-container-id-19 div.sk-parallel-item::after {content: \"\";width: 100%;border-bottom: 1px solid gray;flex-grow: 1;}#sk-container-id-19 div.sk-label:hover label.sk-toggleable__label {background-color: #d4ebff;}#sk-container-id-19 div.sk-serial::before {content: \"\";position: absolute;border-left: 1px solid gray;box-sizing: border-box;top: 0;bottom: 0;left: 50%;z-index: 0;}#sk-container-id-19 div.sk-serial {display: flex;flex-direction: column;align-items: center;background-color: white;padding-right: 0.2em;padding-left: 0.2em;position: relative;}#sk-container-id-19 div.sk-item {position: relative;z-index: 1;}#sk-container-id-19 div.sk-parallel {display: flex;align-items: stretch;justify-content: center;background-color: white;position: relative;}#sk-container-id-19 div.sk-item::before, #sk-container-id-19 div.sk-parallel-item::before {content: \"\";position: absolute;border-left: 1px solid gray;box-sizing: border-box;top: 0;bottom: 0;left: 50%;z-index: -1;}#sk-container-id-19 div.sk-parallel-item {display: flex;flex-direction: column;z-index: 1;position: relative;background-color: white;}#sk-container-id-19 div.sk-parallel-item:first-child::after {align-self: flex-end;width: 50%;}#sk-container-id-19 div.sk-parallel-item:last-child::after {align-self: flex-start;width: 50%;}#sk-container-id-19 div.sk-parallel-item:only-child::after {width: 0;}#sk-container-id-19 div.sk-dashed-wrapped {border: 1px dashed gray;margin: 0 0.4em 0.5em 0.4em;box-sizing: border-box;padding-bottom: 0.4em;background-color: white;}#sk-container-id-19 div.sk-label label {font-family: monospace;font-weight: bold;display: inline-block;line-height: 1.2em;}#sk-container-id-19 div.sk-label-container {text-align: center;}#sk-container-id-19 div.sk-container {/* jupyter's `normalize.less` sets `[hidden] { display: none; }` but bootstrap.min.css set `[hidden] { display: none !important; }` so we also need the `!important` here to be able to override the default hidden behavior on the sphinx rendered scikit-learn.org. See: https://github.com/scikit-learn/scikit-learn/issues/21755 */display: inline-block !important;position: relative;}#sk-container-id-19 div.sk-text-repr-fallback {display: none;}</style><div id=\"sk-container-id-19\" class=\"sk-top-container\"><div class=\"sk-text-repr-fallback\"><pre>Ridge(alpha=10000)</pre><b>In a Jupyter environment, please rerun this cell to show the HTML representation or trust the notebook. <br />On GitHub, the HTML representation is unable to render, please try loading this page with nbviewer.org.</b></div><div class=\"sk-container\" hidden><div class=\"sk-item\"><div class=\"sk-estimator sk-toggleable\"><input class=\"sk-toggleable__control sk-hidden--visually\" id=\"sk-estimator-id-19\" type=\"checkbox\" checked><label for=\"sk-estimator-id-19\" class=\"sk-toggleable__label sk-toggleable__label-arrow\">Ridge</label><div class=\"sk-toggleable__content\"><pre>Ridge(alpha=10000)</pre></div></div></div></div></div>"
      ],
      "text/plain": [
       "Ridge(alpha=10000)"
      ]
     },
     "execution_count": 381,
     "metadata": {},
     "output_type": "execute_result"
    }
   ],
   "source": [
    "# 학습 진행 => Loss/Cost func() 에서 나온 오차 + (알파*W**2)\n",
    "rgModel.fit(poly_train, y_train)"
   ]
  },
  {
   "cell_type": "code",
   "execution_count": 382,
   "id": "7fa8df18",
   "metadata": {},
   "outputs": [
    {
     "data": {
      "text/plain": [
       "0.7876410394955393"
      ]
     },
     "execution_count": 382,
     "metadata": {},
     "output_type": "execute_result"
    }
   ],
   "source": [
    "# 평가 진행\n",
    "rgModel.score(poly_train, y_train)\n",
    "rgModel.score(poly_test, y_test)"
   ]
  },
  {
   "cell_type": "code",
   "execution_count": 383,
   "id": "d74d92d9",
   "metadata": {},
   "outputs": [
    {
     "data": {
      "text/plain": [
       "(0.7083187242393651, 0.735956881836989)"
      ]
     },
     "execution_count": 383,
     "metadata": {},
     "output_type": "execute_result"
    }
   ],
   "source": [
    "train_score, test_score"
   ]
  },
  {
   "cell_type": "markdown",
   "id": "cc6848c0",
   "metadata": {},
   "source": [
    "## [공격수 선형회귀 예측]"
   ]
  },
  {
   "cell_type": "code",
   "execution_count": 384,
   "id": "fa981176",
   "metadata": {},
   "outputs": [
    {
     "data": {
      "text/html": [
       "<div>\n",
       "<style scoped>\n",
       "    .dataframe tbody tr th:only-of-type {\n",
       "        vertical-align: middle;\n",
       "    }\n",
       "\n",
       "    .dataframe tbody tr th {\n",
       "        vertical-align: top;\n",
       "    }\n",
       "\n",
       "    .dataframe thead th {\n",
       "        text-align: right;\n",
       "    }\n",
       "</style>\n",
       "<table border=\"1\" class=\"dataframe\">\n",
       "  <thead>\n",
       "    <tr style=\"text-align: right;\">\n",
       "      <th></th>\n",
       "      <th>overall</th>\n",
       "      <th>attacking</th>\n",
       "      <th>skill</th>\n",
       "      <th>movement</th>\n",
       "      <th>power</th>\n",
       "      <th>mentality</th>\n",
       "      <th>defending</th>\n",
       "      <th>FW</th>\n",
       "    </tr>\n",
       "  </thead>\n",
       "  <tbody>\n",
       "    <tr>\n",
       "      <th>overall</th>\n",
       "      <td>1.000000</td>\n",
       "      <td>0.504556</td>\n",
       "      <td>0.496734</td>\n",
       "      <td>0.374036</td>\n",
       "      <td>0.584292</td>\n",
       "      <td>0.566228</td>\n",
       "      <td>0.204593</td>\n",
       "      <td>NaN</td>\n",
       "    </tr>\n",
       "    <tr>\n",
       "      <th>attacking</th>\n",
       "      <td>0.504556</td>\n",
       "      <td>1.000000</td>\n",
       "      <td>0.930174</td>\n",
       "      <td>0.739595</td>\n",
       "      <td>0.851113</td>\n",
       "      <td>0.903612</td>\n",
       "      <td>0.312208</td>\n",
       "      <td>NaN</td>\n",
       "    </tr>\n",
       "    <tr>\n",
       "      <th>skill</th>\n",
       "      <td>0.496734</td>\n",
       "      <td>0.930174</td>\n",
       "      <td>1.000000</td>\n",
       "      <td>0.772185</td>\n",
       "      <td>0.767519</td>\n",
       "      <td>0.905625</td>\n",
       "      <td>0.400873</td>\n",
       "      <td>NaN</td>\n",
       "    </tr>\n",
       "    <tr>\n",
       "      <th>movement</th>\n",
       "      <td>0.374036</td>\n",
       "      <td>0.739595</td>\n",
       "      <td>0.772185</td>\n",
       "      <td>1.000000</td>\n",
       "      <td>0.597337</td>\n",
       "      <td>0.675359</td>\n",
       "      <td>0.230135</td>\n",
       "      <td>NaN</td>\n",
       "    </tr>\n",
       "    <tr>\n",
       "      <th>power</th>\n",
       "      <td>0.584292</td>\n",
       "      <td>0.851113</td>\n",
       "      <td>0.767519</td>\n",
       "      <td>0.597337</td>\n",
       "      <td>1.000000</td>\n",
       "      <td>0.838211</td>\n",
       "      <td>0.318738</td>\n",
       "      <td>NaN</td>\n",
       "    </tr>\n",
       "    <tr>\n",
       "      <th>mentality</th>\n",
       "      <td>0.566228</td>\n",
       "      <td>0.903612</td>\n",
       "      <td>0.905625</td>\n",
       "      <td>0.675359</td>\n",
       "      <td>0.838211</td>\n",
       "      <td>1.000000</td>\n",
       "      <td>0.564935</td>\n",
       "      <td>NaN</td>\n",
       "    </tr>\n",
       "    <tr>\n",
       "      <th>defending</th>\n",
       "      <td>0.204593</td>\n",
       "      <td>0.312208</td>\n",
       "      <td>0.400873</td>\n",
       "      <td>0.230135</td>\n",
       "      <td>0.318738</td>\n",
       "      <td>0.564935</td>\n",
       "      <td>1.000000</td>\n",
       "      <td>NaN</td>\n",
       "    </tr>\n",
       "    <tr>\n",
       "      <th>FW</th>\n",
       "      <td>NaN</td>\n",
       "      <td>NaN</td>\n",
       "      <td>NaN</td>\n",
       "      <td>NaN</td>\n",
       "      <td>NaN</td>\n",
       "      <td>NaN</td>\n",
       "      <td>NaN</td>\n",
       "      <td>NaN</td>\n",
       "    </tr>\n",
       "  </tbody>\n",
       "</table>\n",
       "</div>"
      ],
      "text/plain": [
       "            overall  attacking     skill  movement     power  mentality  \\\n",
       "overall    1.000000   0.504556  0.496734  0.374036  0.584292   0.566228   \n",
       "attacking  0.504556   1.000000  0.930174  0.739595  0.851113   0.903612   \n",
       "skill      0.496734   0.930174  1.000000  0.772185  0.767519   0.905625   \n",
       "movement   0.374036   0.739595  0.772185  1.000000  0.597337   0.675359   \n",
       "power      0.584292   0.851113  0.767519  0.597337  1.000000   0.838211   \n",
       "mentality  0.566228   0.903612  0.905625  0.675359  0.838211   1.000000   \n",
       "defending  0.204593   0.312208  0.400873  0.230135  0.318738   0.564935   \n",
       "FW              NaN        NaN       NaN       NaN       NaN        NaN   \n",
       "\n",
       "           defending  FW  \n",
       "overall     0.204593 NaN  \n",
       "attacking   0.312208 NaN  \n",
       "skill       0.400873 NaN  \n",
       "movement    0.230135 NaN  \n",
       "power       0.318738 NaN  \n",
       "mentality   0.564935 NaN  \n",
       "defending   1.000000 NaN  \n",
       "FW               NaN NaN  "
      ]
     },
     "execution_count": 384,
     "metadata": {},
     "output_type": "execute_result"
    }
   ],
   "source": [
    "fw_DF.corr()"
   ]
  },
  {
   "cell_type": "code",
   "execution_count": 385,
   "id": "c9a7a64b",
   "metadata": {},
   "outputs": [
    {
     "data": {
      "text/html": [
       "<div>\n",
       "<style scoped>\n",
       "    .dataframe tbody tr th:only-of-type {\n",
       "        vertical-align: middle;\n",
       "    }\n",
       "\n",
       "    .dataframe tbody tr th {\n",
       "        vertical-align: top;\n",
       "    }\n",
       "\n",
       "    .dataframe thead th {\n",
       "        text-align: right;\n",
       "    }\n",
       "</style>\n",
       "<table border=\"1\" class=\"dataframe\">\n",
       "  <thead>\n",
       "    <tr style=\"text-align: right;\">\n",
       "      <th></th>\n",
       "      <th>overall</th>\n",
       "      <th>attacking</th>\n",
       "      <th>skill</th>\n",
       "      <th>movement</th>\n",
       "      <th>power</th>\n",
       "      <th>mentality</th>\n",
       "      <th>defending</th>\n",
       "      <th>FW</th>\n",
       "    </tr>\n",
       "  </thead>\n",
       "  <tbody>\n",
       "    <tr>\n",
       "      <th>0</th>\n",
       "      <td>93</td>\n",
       "      <td>85.8</td>\n",
       "      <td>79.000000</td>\n",
       "      <td>90.2</td>\n",
       "      <td>77.8</td>\n",
       "      <td>73.833333</td>\n",
       "      <td>28.25</td>\n",
       "      <td>1</td>\n",
       "    </tr>\n",
       "    <tr>\n",
       "      <th>1</th>\n",
       "      <td>92</td>\n",
       "      <td>86.0</td>\n",
       "      <td>68.500000</td>\n",
       "      <td>81.6</td>\n",
       "      <td>84.8</td>\n",
       "      <td>80.666667</td>\n",
       "      <td>35.00</td>\n",
       "      <td>1</td>\n",
       "    </tr>\n",
       "    <tr>\n",
       "      <th>2</th>\n",
       "      <td>91</td>\n",
       "      <td>87.6</td>\n",
       "      <td>70.500000</td>\n",
       "      <td>85.4</td>\n",
       "      <td>87.2</td>\n",
       "      <td>74.333333</td>\n",
       "      <td>28.50</td>\n",
       "      <td>1</td>\n",
       "    </tr>\n",
       "    <tr>\n",
       "      <th>3</th>\n",
       "      <td>91</td>\n",
       "      <td>80.6</td>\n",
       "      <td>75.166667</td>\n",
       "      <td>90.2</td>\n",
       "      <td>71.8</td>\n",
       "      <td>77.000000</td>\n",
       "      <td>33.25</td>\n",
       "      <td>1</td>\n",
       "    </tr>\n",
       "    <tr>\n",
       "      <th>6</th>\n",
       "      <td>91</td>\n",
       "      <td>82.2</td>\n",
       "      <td>68.166667</td>\n",
       "      <td>92.4</td>\n",
       "      <td>82.2</td>\n",
       "      <td>73.500000</td>\n",
       "      <td>32.00</td>\n",
       "      <td>1</td>\n",
       "    </tr>\n",
       "    <tr>\n",
       "      <th>...</th>\n",
       "      <td>...</td>\n",
       "      <td>...</td>\n",
       "      <td>...</td>\n",
       "      <td>...</td>\n",
       "      <td>...</td>\n",
       "      <td>...</td>\n",
       "      <td>...</td>\n",
       "      <td>...</td>\n",
       "    </tr>\n",
       "    <tr>\n",
       "      <th>15081</th>\n",
       "      <td>47</td>\n",
       "      <td>12.4</td>\n",
       "      <td>11.666667</td>\n",
       "      <td>34.0</td>\n",
       "      <td>35.4</td>\n",
       "      <td>17.166667</td>\n",
       "      <td>10.00</td>\n",
       "      <td>1</td>\n",
       "    </tr>\n",
       "    <tr>\n",
       "      <th>15082</th>\n",
       "      <td>47</td>\n",
       "      <td>39.2</td>\n",
       "      <td>33.500000</td>\n",
       "      <td>62.4</td>\n",
       "      <td>48.2</td>\n",
       "      <td>47.166667</td>\n",
       "      <td>41.50</td>\n",
       "      <td>1</td>\n",
       "    </tr>\n",
       "    <tr>\n",
       "      <th>15083</th>\n",
       "      <td>47</td>\n",
       "      <td>41.0</td>\n",
       "      <td>34.500000</td>\n",
       "      <td>54.0</td>\n",
       "      <td>41.4</td>\n",
       "      <td>40.666667</td>\n",
       "      <td>25.25</td>\n",
       "      <td>1</td>\n",
       "    </tr>\n",
       "    <tr>\n",
       "      <th>15084</th>\n",
       "      <td>47</td>\n",
       "      <td>43.2</td>\n",
       "      <td>36.500000</td>\n",
       "      <td>60.0</td>\n",
       "      <td>48.8</td>\n",
       "      <td>46.500000</td>\n",
       "      <td>42.25</td>\n",
       "      <td>1</td>\n",
       "    </tr>\n",
       "    <tr>\n",
       "      <th>15085</th>\n",
       "      <td>47</td>\n",
       "      <td>40.0</td>\n",
       "      <td>36.833333</td>\n",
       "      <td>56.6</td>\n",
       "      <td>49.4</td>\n",
       "      <td>42.500000</td>\n",
       "      <td>42.75</td>\n",
       "      <td>1</td>\n",
       "    </tr>\n",
       "  </tbody>\n",
       "</table>\n",
       "<p>9590 rows × 8 columns</p>\n",
       "</div>"
      ],
      "text/plain": [
       "       overall  attacking      skill  movement  power  mentality  defending  \\\n",
       "0           93       85.8  79.000000      90.2   77.8  73.833333      28.25   \n",
       "1           92       86.0  68.500000      81.6   84.8  80.666667      35.00   \n",
       "2           91       87.6  70.500000      85.4   87.2  74.333333      28.50   \n",
       "3           91       80.6  75.166667      90.2   71.8  77.000000      33.25   \n",
       "6           91       82.2  68.166667      92.4   82.2  73.500000      32.00   \n",
       "...        ...        ...        ...       ...    ...        ...        ...   \n",
       "15081       47       12.4  11.666667      34.0   35.4  17.166667      10.00   \n",
       "15082       47       39.2  33.500000      62.4   48.2  47.166667      41.50   \n",
       "15083       47       41.0  34.500000      54.0   41.4  40.666667      25.25   \n",
       "15084       47       43.2  36.500000      60.0   48.8  46.500000      42.25   \n",
       "15085       47       40.0  36.833333      56.6   49.4  42.500000      42.75   \n",
       "\n",
       "       FW  \n",
       "0       1  \n",
       "1       1  \n",
       "2       1  \n",
       "3       1  \n",
       "6       1  \n",
       "...    ..  \n",
       "15081   1  \n",
       "15082   1  \n",
       "15083   1  \n",
       "15084   1  \n",
       "15085   1  \n",
       "\n",
       "[9590 rows x 8 columns]"
      ]
     },
     "execution_count": 385,
     "metadata": {},
     "output_type": "execute_result"
    }
   ],
   "source": [
    "fw_DF"
   ]
  },
  {
   "cell_type": "code",
   "execution_count": 386,
   "id": "e4112f0c",
   "metadata": {},
   "outputs": [
    {
     "data": {
      "text/plain": [
       "('attacking', 'skill', 'movement', 'power', 'mentality', 'defending')"
      ]
     },
     "execution_count": 386,
     "metadata": {},
     "output_type": "execute_result"
    }
   ],
   "source": [
    "'attacking', 'skill', 'movement','power' ,'mentality','defending'"
   ]
  },
  {
   "cell_type": "code",
   "execution_count": 387,
   "id": "88218307",
   "metadata": {},
   "outputs": [
    {
     "data": {
      "text/html": [
       "<div>\n",
       "<style scoped>\n",
       "    .dataframe tbody tr th:only-of-type {\n",
       "        vertical-align: middle;\n",
       "    }\n",
       "\n",
       "    .dataframe tbody tr th {\n",
       "        vertical-align: top;\n",
       "    }\n",
       "\n",
       "    .dataframe thead th {\n",
       "        text-align: right;\n",
       "    }\n",
       "</style>\n",
       "<table border=\"1\" class=\"dataframe\">\n",
       "  <thead>\n",
       "    <tr style=\"text-align: right;\">\n",
       "      <th></th>\n",
       "      <th>attacking</th>\n",
       "      <th>skill</th>\n",
       "      <th>movement</th>\n",
       "      <th>power</th>\n",
       "      <th>mentality</th>\n",
       "      <th>defending</th>\n",
       "    </tr>\n",
       "  </thead>\n",
       "  <tbody>\n",
       "    <tr>\n",
       "      <th>0</th>\n",
       "      <td>85.8</td>\n",
       "      <td>79.000000</td>\n",
       "      <td>90.2</td>\n",
       "      <td>77.8</td>\n",
       "      <td>73.833333</td>\n",
       "      <td>28.25</td>\n",
       "    </tr>\n",
       "    <tr>\n",
       "      <th>1</th>\n",
       "      <td>86.0</td>\n",
       "      <td>68.500000</td>\n",
       "      <td>81.6</td>\n",
       "      <td>84.8</td>\n",
       "      <td>80.666667</td>\n",
       "      <td>35.00</td>\n",
       "    </tr>\n",
       "    <tr>\n",
       "      <th>2</th>\n",
       "      <td>87.6</td>\n",
       "      <td>70.500000</td>\n",
       "      <td>85.4</td>\n",
       "      <td>87.2</td>\n",
       "      <td>74.333333</td>\n",
       "      <td>28.50</td>\n",
       "    </tr>\n",
       "    <tr>\n",
       "      <th>3</th>\n",
       "      <td>80.6</td>\n",
       "      <td>75.166667</td>\n",
       "      <td>90.2</td>\n",
       "      <td>71.8</td>\n",
       "      <td>77.000000</td>\n",
       "      <td>33.25</td>\n",
       "    </tr>\n",
       "    <tr>\n",
       "      <th>6</th>\n",
       "      <td>82.2</td>\n",
       "      <td>68.166667</td>\n",
       "      <td>92.4</td>\n",
       "      <td>82.2</td>\n",
       "      <td>73.500000</td>\n",
       "      <td>32.00</td>\n",
       "    </tr>\n",
       "    <tr>\n",
       "      <th>...</th>\n",
       "      <td>...</td>\n",
       "      <td>...</td>\n",
       "      <td>...</td>\n",
       "      <td>...</td>\n",
       "      <td>...</td>\n",
       "      <td>...</td>\n",
       "    </tr>\n",
       "    <tr>\n",
       "      <th>15081</th>\n",
       "      <td>12.4</td>\n",
       "      <td>11.666667</td>\n",
       "      <td>34.0</td>\n",
       "      <td>35.4</td>\n",
       "      <td>17.166667</td>\n",
       "      <td>10.00</td>\n",
       "    </tr>\n",
       "    <tr>\n",
       "      <th>15082</th>\n",
       "      <td>39.2</td>\n",
       "      <td>33.500000</td>\n",
       "      <td>62.4</td>\n",
       "      <td>48.2</td>\n",
       "      <td>47.166667</td>\n",
       "      <td>41.50</td>\n",
       "    </tr>\n",
       "    <tr>\n",
       "      <th>15083</th>\n",
       "      <td>41.0</td>\n",
       "      <td>34.500000</td>\n",
       "      <td>54.0</td>\n",
       "      <td>41.4</td>\n",
       "      <td>40.666667</td>\n",
       "      <td>25.25</td>\n",
       "    </tr>\n",
       "    <tr>\n",
       "      <th>15084</th>\n",
       "      <td>43.2</td>\n",
       "      <td>36.500000</td>\n",
       "      <td>60.0</td>\n",
       "      <td>48.8</td>\n",
       "      <td>46.500000</td>\n",
       "      <td>42.25</td>\n",
       "    </tr>\n",
       "    <tr>\n",
       "      <th>15085</th>\n",
       "      <td>40.0</td>\n",
       "      <td>36.833333</td>\n",
       "      <td>56.6</td>\n",
       "      <td>49.4</td>\n",
       "      <td>42.500000</td>\n",
       "      <td>42.75</td>\n",
       "    </tr>\n",
       "  </tbody>\n",
       "</table>\n",
       "<p>9590 rows × 6 columns</p>\n",
       "</div>"
      ],
      "text/plain": [
       "       attacking      skill  movement  power  mentality  defending\n",
       "0           85.8  79.000000      90.2   77.8  73.833333      28.25\n",
       "1           86.0  68.500000      81.6   84.8  80.666667      35.00\n",
       "2           87.6  70.500000      85.4   87.2  74.333333      28.50\n",
       "3           80.6  75.166667      90.2   71.8  77.000000      33.25\n",
       "6           82.2  68.166667      92.4   82.2  73.500000      32.00\n",
       "...          ...        ...       ...    ...        ...        ...\n",
       "15081       12.4  11.666667      34.0   35.4  17.166667      10.00\n",
       "15082       39.2  33.500000      62.4   48.2  47.166667      41.50\n",
       "15083       41.0  34.500000      54.0   41.4  40.666667      25.25\n",
       "15084       43.2  36.500000      60.0   48.8  46.500000      42.25\n",
       "15085       40.0  36.833333      56.6   49.4  42.500000      42.75\n",
       "\n",
       "[9590 rows x 6 columns]"
      ]
     },
     "execution_count": 387,
     "metadata": {},
     "output_type": "execute_result"
    }
   ],
   "source": [
    "feature_fw=fw_DF[['attacking','skill', 'movement','power', 'mentality','defending']]\n",
    "feature_fw"
   ]
  },
  {
   "cell_type": "code",
   "execution_count": 388,
   "id": "253a544b",
   "metadata": {},
   "outputs": [],
   "source": [
    "target_fw=fw_DF['overall']"
   ]
  },
  {
   "cell_type": "code",
   "execution_count": 389,
   "id": "5b635b9e",
   "metadata": {},
   "outputs": [
    {
     "data": {
      "text/plain": [
       "0        93\n",
       "1        92\n",
       "2        91\n",
       "3        91\n",
       "6        91\n",
       "         ..\n",
       "15081    47\n",
       "15082    47\n",
       "15083    47\n",
       "15084    47\n",
       "15085    47\n",
       "Name: overall, Length: 9590, dtype: int64"
      ]
     },
     "execution_count": 389,
     "metadata": {},
     "output_type": "execute_result"
    }
   ],
   "source": [
    "target_fw"
   ]
  },
  {
   "cell_type": "code",
   "execution_count": 390,
   "id": "6ee31bf2",
   "metadata": {},
   "outputs": [],
   "source": [
    "X_train, X_test, y_train, y_test = train_test_split(feature_fw, target_fw, test_size=0.5, random_state=10)"
   ]
  },
  {
   "cell_type": "code",
   "execution_count": 391,
   "id": "40c509b5",
   "metadata": {
    "scrolled": true
   },
   "outputs": [
    {
     "data": {
      "text/plain": [
       "((4795,), (4795, 6), (4795, 6), (4795,))"
      ]
     },
     "execution_count": 391,
     "metadata": {},
     "output_type": "execute_result"
    }
   ],
   "source": [
    "y_train.shape, X_train.shape, X_test.shape, y_test.shape"
   ]
  },
  {
   "cell_type": "code",
   "execution_count": null,
   "id": "dd86d8e7",
   "metadata": {},
   "outputs": [],
   "source": []
  },
  {
   "cell_type": "code",
   "execution_count": 392,
   "id": "98eba975",
   "metadata": {},
   "outputs": [],
   "source": [
    "from sklearn.preprocessing import PolynomialFeatures"
   ]
  },
  {
   "cell_type": "code",
   "execution_count": 393,
   "id": "b251773e",
   "metadata": {},
   "outputs": [],
   "source": [
    "# 차수 변수\n",
    "n_degree = 3"
   ]
  },
  {
   "cell_type": "code",
   "execution_count": 394,
   "id": "18d6ca8b",
   "metadata": {},
   "outputs": [],
   "source": [
    "# (1) 객체 생성\n",
    "poly=PolynomialFeatures(degree=n_degree)"
   ]
  },
  {
   "cell_type": "code",
   "execution_count": 395,
   "id": "9548e843",
   "metadata": {},
   "outputs": [
    {
     "data": {
      "text/html": [
       "<style>#sk-container-id-20 {color: black;}#sk-container-id-20 pre{padding: 0;}#sk-container-id-20 div.sk-toggleable {background-color: white;}#sk-container-id-20 label.sk-toggleable__label {cursor: pointer;display: block;width: 100%;margin-bottom: 0;padding: 0.3em;box-sizing: border-box;text-align: center;}#sk-container-id-20 label.sk-toggleable__label-arrow:before {content: \"▸\";float: left;margin-right: 0.25em;color: #696969;}#sk-container-id-20 label.sk-toggleable__label-arrow:hover:before {color: black;}#sk-container-id-20 div.sk-estimator:hover label.sk-toggleable__label-arrow:before {color: black;}#sk-container-id-20 div.sk-toggleable__content {max-height: 0;max-width: 0;overflow: hidden;text-align: left;background-color: #f0f8ff;}#sk-container-id-20 div.sk-toggleable__content pre {margin: 0.2em;color: black;border-radius: 0.25em;background-color: #f0f8ff;}#sk-container-id-20 input.sk-toggleable__control:checked~div.sk-toggleable__content {max-height: 200px;max-width: 100%;overflow: auto;}#sk-container-id-20 input.sk-toggleable__control:checked~label.sk-toggleable__label-arrow:before {content: \"▾\";}#sk-container-id-20 div.sk-estimator input.sk-toggleable__control:checked~label.sk-toggleable__label {background-color: #d4ebff;}#sk-container-id-20 div.sk-label input.sk-toggleable__control:checked~label.sk-toggleable__label {background-color: #d4ebff;}#sk-container-id-20 input.sk-hidden--visually {border: 0;clip: rect(1px 1px 1px 1px);clip: rect(1px, 1px, 1px, 1px);height: 1px;margin: -1px;overflow: hidden;padding: 0;position: absolute;width: 1px;}#sk-container-id-20 div.sk-estimator {font-family: monospace;background-color: #f0f8ff;border: 1px dotted black;border-radius: 0.25em;box-sizing: border-box;margin-bottom: 0.5em;}#sk-container-id-20 div.sk-estimator:hover {background-color: #d4ebff;}#sk-container-id-20 div.sk-parallel-item::after {content: \"\";width: 100%;border-bottom: 1px solid gray;flex-grow: 1;}#sk-container-id-20 div.sk-label:hover label.sk-toggleable__label {background-color: #d4ebff;}#sk-container-id-20 div.sk-serial::before {content: \"\";position: absolute;border-left: 1px solid gray;box-sizing: border-box;top: 0;bottom: 0;left: 50%;z-index: 0;}#sk-container-id-20 div.sk-serial {display: flex;flex-direction: column;align-items: center;background-color: white;padding-right: 0.2em;padding-left: 0.2em;position: relative;}#sk-container-id-20 div.sk-item {position: relative;z-index: 1;}#sk-container-id-20 div.sk-parallel {display: flex;align-items: stretch;justify-content: center;background-color: white;position: relative;}#sk-container-id-20 div.sk-item::before, #sk-container-id-20 div.sk-parallel-item::before {content: \"\";position: absolute;border-left: 1px solid gray;box-sizing: border-box;top: 0;bottom: 0;left: 50%;z-index: -1;}#sk-container-id-20 div.sk-parallel-item {display: flex;flex-direction: column;z-index: 1;position: relative;background-color: white;}#sk-container-id-20 div.sk-parallel-item:first-child::after {align-self: flex-end;width: 50%;}#sk-container-id-20 div.sk-parallel-item:last-child::after {align-self: flex-start;width: 50%;}#sk-container-id-20 div.sk-parallel-item:only-child::after {width: 0;}#sk-container-id-20 div.sk-dashed-wrapped {border: 1px dashed gray;margin: 0 0.4em 0.5em 0.4em;box-sizing: border-box;padding-bottom: 0.4em;background-color: white;}#sk-container-id-20 div.sk-label label {font-family: monospace;font-weight: bold;display: inline-block;line-height: 1.2em;}#sk-container-id-20 div.sk-label-container {text-align: center;}#sk-container-id-20 div.sk-container {/* jupyter's `normalize.less` sets `[hidden] { display: none; }` but bootstrap.min.css set `[hidden] { display: none !important; }` so we also need the `!important` here to be able to override the default hidden behavior on the sphinx rendered scikit-learn.org. See: https://github.com/scikit-learn/scikit-learn/issues/21755 */display: inline-block !important;position: relative;}#sk-container-id-20 div.sk-text-repr-fallback {display: none;}</style><div id=\"sk-container-id-20\" class=\"sk-top-container\"><div class=\"sk-text-repr-fallback\"><pre>PolynomialFeatures(degree=3)</pre><b>In a Jupyter environment, please rerun this cell to show the HTML representation or trust the notebook. <br />On GitHub, the HTML representation is unable to render, please try loading this page with nbviewer.org.</b></div><div class=\"sk-container\" hidden><div class=\"sk-item\"><div class=\"sk-estimator sk-toggleable\"><input class=\"sk-toggleable__control sk-hidden--visually\" id=\"sk-estimator-id-20\" type=\"checkbox\" checked><label for=\"sk-estimator-id-20\" class=\"sk-toggleable__label sk-toggleable__label-arrow\">PolynomialFeatures</label><div class=\"sk-toggleable__content\"><pre>PolynomialFeatures(degree=3)</pre></div></div></div></div></div>"
      ],
      "text/plain": [
       "PolynomialFeatures(degree=3)"
      ]
     },
     "execution_count": 395,
     "metadata": {},
     "output_type": "execute_result"
    }
   ],
   "source": [
    "# (2) 생성된 다항특성객체에 학습 진행 ===> 주어진 데이터의 피쳐를 2차원 변형\n",
    "# => x, x^2 , 1\n",
    "poly.fit(feature_fw, target_fw)"
   ]
  },
  {
   "cell_type": "code",
   "execution_count": 396,
   "id": "1bad5c67",
   "metadata": {},
   "outputs": [],
   "source": [
    "# (3) 변형하기\n",
    "poly_train=poly.transform(feature_fw)\n",
    "poly_test=poly.transform(X_test)"
   ]
  },
  {
   "cell_type": "code",
   "execution_count": 397,
   "id": "d368999c",
   "metadata": {},
   "outputs": [
    {
     "name": "stdout",
     "output_type": "stream",
     "text": [
      "6\n",
      "84\n"
     ]
    }
   ],
   "source": [
    "# 입력한 피쳐 확인\n",
    "print(poly.n_features_in_)\n",
    "\n",
    "# 생성된 피쳐 확인\n",
    "print(poly.n_output_features_)"
   ]
  },
  {
   "cell_type": "code",
   "execution_count": 398,
   "id": "820dd990",
   "metadata": {},
   "outputs": [
    {
     "name": "stdout",
     "output_type": "stream",
     "text": [
      "전 (4795, 6) => 후 (9590, 84)\n"
     ]
    }
   ],
   "source": [
    "# 변형 전후 형태(shape) 확인\n",
    "print(f'전 {X_train.shape} => 후 {poly_train.shape}')"
   ]
  },
  {
   "cell_type": "code",
   "execution_count": 399,
   "id": "3ba72ff8",
   "metadata": {},
   "outputs": [
    {
     "data": {
      "text/plain": [
       "(4795, 6)"
      ]
     },
     "execution_count": 399,
     "metadata": {},
     "output_type": "execute_result"
    }
   ],
   "source": [
    "X_train.shape"
   ]
  },
  {
   "cell_type": "code",
   "execution_count": 400,
   "id": "24e9dc30",
   "metadata": {
    "scrolled": true
   },
   "outputs": [
    {
     "data": {
      "text/plain": [
       "(9590, 84)"
      ]
     },
     "execution_count": 400,
     "metadata": {},
     "output_type": "execute_result"
    }
   ],
   "source": [
    "poly_train.shape"
   ]
  },
  {
   "cell_type": "code",
   "execution_count": null,
   "id": "b24e2118",
   "metadata": {},
   "outputs": [],
   "source": []
  },
  {
   "cell_type": "code",
   "execution_count": 401,
   "id": "9745794f",
   "metadata": {},
   "outputs": [],
   "source": [
    "reg=LinearRegression()"
   ]
  },
  {
   "cell_type": "code",
   "execution_count": 402,
   "id": "5731032c",
   "metadata": {},
   "outputs": [
    {
     "data": {
      "text/html": [
       "<style>#sk-container-id-21 {color: black;}#sk-container-id-21 pre{padding: 0;}#sk-container-id-21 div.sk-toggleable {background-color: white;}#sk-container-id-21 label.sk-toggleable__label {cursor: pointer;display: block;width: 100%;margin-bottom: 0;padding: 0.3em;box-sizing: border-box;text-align: center;}#sk-container-id-21 label.sk-toggleable__label-arrow:before {content: \"▸\";float: left;margin-right: 0.25em;color: #696969;}#sk-container-id-21 label.sk-toggleable__label-arrow:hover:before {color: black;}#sk-container-id-21 div.sk-estimator:hover label.sk-toggleable__label-arrow:before {color: black;}#sk-container-id-21 div.sk-toggleable__content {max-height: 0;max-width: 0;overflow: hidden;text-align: left;background-color: #f0f8ff;}#sk-container-id-21 div.sk-toggleable__content pre {margin: 0.2em;color: black;border-radius: 0.25em;background-color: #f0f8ff;}#sk-container-id-21 input.sk-toggleable__control:checked~div.sk-toggleable__content {max-height: 200px;max-width: 100%;overflow: auto;}#sk-container-id-21 input.sk-toggleable__control:checked~label.sk-toggleable__label-arrow:before {content: \"▾\";}#sk-container-id-21 div.sk-estimator input.sk-toggleable__control:checked~label.sk-toggleable__label {background-color: #d4ebff;}#sk-container-id-21 div.sk-label input.sk-toggleable__control:checked~label.sk-toggleable__label {background-color: #d4ebff;}#sk-container-id-21 input.sk-hidden--visually {border: 0;clip: rect(1px 1px 1px 1px);clip: rect(1px, 1px, 1px, 1px);height: 1px;margin: -1px;overflow: hidden;padding: 0;position: absolute;width: 1px;}#sk-container-id-21 div.sk-estimator {font-family: monospace;background-color: #f0f8ff;border: 1px dotted black;border-radius: 0.25em;box-sizing: border-box;margin-bottom: 0.5em;}#sk-container-id-21 div.sk-estimator:hover {background-color: #d4ebff;}#sk-container-id-21 div.sk-parallel-item::after {content: \"\";width: 100%;border-bottom: 1px solid gray;flex-grow: 1;}#sk-container-id-21 div.sk-label:hover label.sk-toggleable__label {background-color: #d4ebff;}#sk-container-id-21 div.sk-serial::before {content: \"\";position: absolute;border-left: 1px solid gray;box-sizing: border-box;top: 0;bottom: 0;left: 50%;z-index: 0;}#sk-container-id-21 div.sk-serial {display: flex;flex-direction: column;align-items: center;background-color: white;padding-right: 0.2em;padding-left: 0.2em;position: relative;}#sk-container-id-21 div.sk-item {position: relative;z-index: 1;}#sk-container-id-21 div.sk-parallel {display: flex;align-items: stretch;justify-content: center;background-color: white;position: relative;}#sk-container-id-21 div.sk-item::before, #sk-container-id-21 div.sk-parallel-item::before {content: \"\";position: absolute;border-left: 1px solid gray;box-sizing: border-box;top: 0;bottom: 0;left: 50%;z-index: -1;}#sk-container-id-21 div.sk-parallel-item {display: flex;flex-direction: column;z-index: 1;position: relative;background-color: white;}#sk-container-id-21 div.sk-parallel-item:first-child::after {align-self: flex-end;width: 50%;}#sk-container-id-21 div.sk-parallel-item:last-child::after {align-self: flex-start;width: 50%;}#sk-container-id-21 div.sk-parallel-item:only-child::after {width: 0;}#sk-container-id-21 div.sk-dashed-wrapped {border: 1px dashed gray;margin: 0 0.4em 0.5em 0.4em;box-sizing: border-box;padding-bottom: 0.4em;background-color: white;}#sk-container-id-21 div.sk-label label {font-family: monospace;font-weight: bold;display: inline-block;line-height: 1.2em;}#sk-container-id-21 div.sk-label-container {text-align: center;}#sk-container-id-21 div.sk-container {/* jupyter's `normalize.less` sets `[hidden] { display: none; }` but bootstrap.min.css set `[hidden] { display: none !important; }` so we also need the `!important` here to be able to override the default hidden behavior on the sphinx rendered scikit-learn.org. See: https://github.com/scikit-learn/scikit-learn/issues/21755 */display: inline-block !important;position: relative;}#sk-container-id-21 div.sk-text-repr-fallback {display: none;}</style><div id=\"sk-container-id-21\" class=\"sk-top-container\"><div class=\"sk-text-repr-fallback\"><pre>LinearRegression()</pre><b>In a Jupyter environment, please rerun this cell to show the HTML representation or trust the notebook. <br />On GitHub, the HTML representation is unable to render, please try loading this page with nbviewer.org.</b></div><div class=\"sk-container\" hidden><div class=\"sk-item\"><div class=\"sk-estimator sk-toggleable\"><input class=\"sk-toggleable__control sk-hidden--visually\" id=\"sk-estimator-id-21\" type=\"checkbox\" checked><label for=\"sk-estimator-id-21\" class=\"sk-toggleable__label sk-toggleable__label-arrow\">LinearRegression</label><div class=\"sk-toggleable__content\"><pre>LinearRegression()</pre></div></div></div></div></div>"
      ],
      "text/plain": [
       "LinearRegression()"
      ]
     },
     "execution_count": 402,
     "metadata": {},
     "output_type": "execute_result"
    }
   ],
   "source": [
    "reg.fit(poly_train, target_fw)"
   ]
  },
  {
   "cell_type": "code",
   "execution_count": 403,
   "id": "8fc78293",
   "metadata": {},
   "outputs": [
    {
     "data": {
      "text/plain": [
       "array([ 7.17754763e-11,  1.08145743e+00, -1.17690366e+00,  9.55738744e-02,\n",
       "       -8.72277403e-01,  3.56073368e-01, -2.26490222e-01, -1.95351644e-03,\n",
       "        4.57243777e-02, -2.85764359e-02, -3.43355643e-02, -4.98522785e-02,\n",
       "        3.69376738e-02, -3.20045518e-03, -9.95282199e-03,  5.29132275e-02,\n",
       "       -4.39888701e-02, -1.43589528e-03, -1.38392020e-02,  4.28726446e-02,\n",
       "        1.78943641e-02, -1.27592966e-02,  5.02751507e-03, -3.22030129e-02,\n",
       "        1.12207575e-02,  6.09037133e-02, -2.01699440e-02, -7.78300632e-03,\n",
       "        1.82410087e-04,  4.16879637e-04,  1.35242580e-04,  6.77199022e-05,\n",
       "       -1.85418637e-04, -6.53243419e-04, -2.50588981e-04,  1.91938327e-04,\n",
       "        7.32635255e-06, -2.25265747e-03,  8.58321351e-04,  1.64582594e-04,\n",
       "       -7.25545594e-04,  5.75108514e-04,  3.87784905e-05,  2.91597475e-04,\n",
       "        4.37692632e-04,  9.96954184e-05,  9.13189153e-04, -1.19197208e-04,\n",
       "       -5.26258162e-05,  5.81361797e-04, -4.69912378e-04, -3.34481843e-04,\n",
       "        3.83346284e-05, -1.54270318e-04,  2.60421694e-04, -6.56260548e-05,\n",
       "        3.52583024e-04, -4.32572638e-05, -3.72763664e-04,  4.55319307e-04,\n",
       "       -2.79863524e-05,  1.16909401e-03, -4.32672467e-04, -4.31247240e-05,\n",
       "        1.26836468e-04, -3.43175837e-04, -2.22871535e-04,  1.66989784e-04,\n",
       "        2.06595700e-04,  4.88349631e-04, -2.83500132e-04, -7.39873576e-04,\n",
       "        2.10429428e-04, -1.19656683e-05, -3.19212316e-05, -3.99400828e-05,\n",
       "       -1.16405965e-04, -4.80468848e-04,  3.67270086e-04, -8.50766166e-05,\n",
       "       -5.47355627e-04,  2.47874956e-04, -2.45806467e-04,  2.94155071e-04])"
      ]
     },
     "execution_count": 403,
     "metadata": {},
     "output_type": "execute_result"
    }
   ],
   "source": [
    "reg.coef_"
   ]
  },
  {
   "cell_type": "code",
   "execution_count": 404,
   "id": "a58c199e",
   "metadata": {},
   "outputs": [
    {
     "data": {
      "text/plain": [
       "60.32629631801868"
      ]
     },
     "execution_count": 404,
     "metadata": {},
     "output_type": "execute_result"
    }
   ],
   "source": [
    "reg.intercept_"
   ]
  },
  {
   "cell_type": "code",
   "execution_count": 405,
   "id": "8a580a6c",
   "metadata": {},
   "outputs": [],
   "source": [
    "train_score = reg.score(poly_train, target_fw)\n",
    "test_score = reg.score(poly_test, y_test)"
   ]
  },
  {
   "cell_type": "code",
   "execution_count": 406,
   "id": "6d8be544",
   "metadata": {},
   "outputs": [
    {
     "data": {
      "text/plain": [
       "' 훈련 결과 점수 : 0.8265963688743878, 테스트 결과 점수 : 0.8322967729333861'"
      ]
     },
     "execution_count": 406,
     "metadata": {},
     "output_type": "execute_result"
    }
   ],
   "source": [
    "f' 훈련 결과 점수 : {train_score}, 테스트 결과 점수 : {test_score}'"
   ]
  },
  {
   "cell_type": "code",
   "execution_count": 407,
   "id": "4cc9f9e5",
   "metadata": {},
   "outputs": [],
   "source": [
    "new_data=feature_fw"
   ]
  },
  {
   "cell_type": "code",
   "execution_count": 408,
   "id": "27cbc78a",
   "metadata": {},
   "outputs": [
    {
     "data": {
      "text/html": [
       "<div>\n",
       "<style scoped>\n",
       "    .dataframe tbody tr th:only-of-type {\n",
       "        vertical-align: middle;\n",
       "    }\n",
       "\n",
       "    .dataframe tbody tr th {\n",
       "        vertical-align: top;\n",
       "    }\n",
       "\n",
       "    .dataframe thead th {\n",
       "        text-align: right;\n",
       "    }\n",
       "</style>\n",
       "<table border=\"1\" class=\"dataframe\">\n",
       "  <thead>\n",
       "    <tr style=\"text-align: right;\">\n",
       "      <th></th>\n",
       "      <th>attacking</th>\n",
       "      <th>skill</th>\n",
       "      <th>movement</th>\n",
       "      <th>power</th>\n",
       "      <th>mentality</th>\n",
       "      <th>defending</th>\n",
       "    </tr>\n",
       "  </thead>\n",
       "  <tbody>\n",
       "    <tr>\n",
       "      <th>0</th>\n",
       "      <td>85.8</td>\n",
       "      <td>79.000000</td>\n",
       "      <td>90.2</td>\n",
       "      <td>77.8</td>\n",
       "      <td>73.833333</td>\n",
       "      <td>28.25</td>\n",
       "    </tr>\n",
       "    <tr>\n",
       "      <th>1</th>\n",
       "      <td>86.0</td>\n",
       "      <td>68.500000</td>\n",
       "      <td>81.6</td>\n",
       "      <td>84.8</td>\n",
       "      <td>80.666667</td>\n",
       "      <td>35.00</td>\n",
       "    </tr>\n",
       "    <tr>\n",
       "      <th>2</th>\n",
       "      <td>87.6</td>\n",
       "      <td>70.500000</td>\n",
       "      <td>85.4</td>\n",
       "      <td>87.2</td>\n",
       "      <td>74.333333</td>\n",
       "      <td>28.50</td>\n",
       "    </tr>\n",
       "    <tr>\n",
       "      <th>3</th>\n",
       "      <td>80.6</td>\n",
       "      <td>75.166667</td>\n",
       "      <td>90.2</td>\n",
       "      <td>71.8</td>\n",
       "      <td>77.000000</td>\n",
       "      <td>33.25</td>\n",
       "    </tr>\n",
       "    <tr>\n",
       "      <th>6</th>\n",
       "      <td>82.2</td>\n",
       "      <td>68.166667</td>\n",
       "      <td>92.4</td>\n",
       "      <td>82.2</td>\n",
       "      <td>73.500000</td>\n",
       "      <td>32.00</td>\n",
       "    </tr>\n",
       "    <tr>\n",
       "      <th>...</th>\n",
       "      <td>...</td>\n",
       "      <td>...</td>\n",
       "      <td>...</td>\n",
       "      <td>...</td>\n",
       "      <td>...</td>\n",
       "      <td>...</td>\n",
       "    </tr>\n",
       "    <tr>\n",
       "      <th>15081</th>\n",
       "      <td>12.4</td>\n",
       "      <td>11.666667</td>\n",
       "      <td>34.0</td>\n",
       "      <td>35.4</td>\n",
       "      <td>17.166667</td>\n",
       "      <td>10.00</td>\n",
       "    </tr>\n",
       "    <tr>\n",
       "      <th>15082</th>\n",
       "      <td>39.2</td>\n",
       "      <td>33.500000</td>\n",
       "      <td>62.4</td>\n",
       "      <td>48.2</td>\n",
       "      <td>47.166667</td>\n",
       "      <td>41.50</td>\n",
       "    </tr>\n",
       "    <tr>\n",
       "      <th>15083</th>\n",
       "      <td>41.0</td>\n",
       "      <td>34.500000</td>\n",
       "      <td>54.0</td>\n",
       "      <td>41.4</td>\n",
       "      <td>40.666667</td>\n",
       "      <td>25.25</td>\n",
       "    </tr>\n",
       "    <tr>\n",
       "      <th>15084</th>\n",
       "      <td>43.2</td>\n",
       "      <td>36.500000</td>\n",
       "      <td>60.0</td>\n",
       "      <td>48.8</td>\n",
       "      <td>46.500000</td>\n",
       "      <td>42.25</td>\n",
       "    </tr>\n",
       "    <tr>\n",
       "      <th>15085</th>\n",
       "      <td>40.0</td>\n",
       "      <td>36.833333</td>\n",
       "      <td>56.6</td>\n",
       "      <td>49.4</td>\n",
       "      <td>42.500000</td>\n",
       "      <td>42.75</td>\n",
       "    </tr>\n",
       "  </tbody>\n",
       "</table>\n",
       "<p>9590 rows × 6 columns</p>\n",
       "</div>"
      ],
      "text/plain": [
       "       attacking      skill  movement  power  mentality  defending\n",
       "0           85.8  79.000000      90.2   77.8  73.833333      28.25\n",
       "1           86.0  68.500000      81.6   84.8  80.666667      35.00\n",
       "2           87.6  70.500000      85.4   87.2  74.333333      28.50\n",
       "3           80.6  75.166667      90.2   71.8  77.000000      33.25\n",
       "6           82.2  68.166667      92.4   82.2  73.500000      32.00\n",
       "...          ...        ...       ...    ...        ...        ...\n",
       "15081       12.4  11.666667      34.0   35.4  17.166667      10.00\n",
       "15082       39.2  33.500000      62.4   48.2  47.166667      41.50\n",
       "15083       41.0  34.500000      54.0   41.4  40.666667      25.25\n",
       "15084       43.2  36.500000      60.0   48.8  46.500000      42.25\n",
       "15085       40.0  36.833333      56.6   49.4  42.500000      42.75\n",
       "\n",
       "[9590 rows x 6 columns]"
      ]
     },
     "execution_count": 408,
     "metadata": {},
     "output_type": "execute_result"
    }
   ],
   "source": [
    "new_data"
   ]
  },
  {
   "cell_type": "code",
   "execution_count": 409,
   "id": "81312ebf",
   "metadata": {
    "scrolled": true
   },
   "outputs": [],
   "source": [
    "# new_data = new_data.reshape(-1,1)"
   ]
  },
  {
   "cell_type": "code",
   "execution_count": 410,
   "id": "4020cc1e",
   "metadata": {},
   "outputs": [],
   "source": [
    "X_train_flattened = X_train.values.ravel()"
   ]
  },
  {
   "cell_type": "code",
   "execution_count": 411,
   "id": "0e3d7489",
   "metadata": {},
   "outputs": [
    {
     "data": {
      "text/plain": [
       "(28770,)"
      ]
     },
     "execution_count": 411,
     "metadata": {},
     "output_type": "execute_result"
    }
   ],
   "source": [
    "X_train_flattened.shape"
   ]
  },
  {
   "cell_type": "code",
   "execution_count": 412,
   "id": "121169a5",
   "metadata": {},
   "outputs": [
    {
     "data": {
      "text/plain": [
       "(4795, 6)"
      ]
     },
     "execution_count": 412,
     "metadata": {},
     "output_type": "execute_result"
    }
   ],
   "source": [
    "X_train.shape"
   ]
  },
  {
   "cell_type": "code",
   "execution_count": 413,
   "id": "3e08725c",
   "metadata": {
    "scrolled": false
   },
   "outputs": [
    {
     "data": {
      "text/plain": [
       "(4795,)"
      ]
     },
     "execution_count": 413,
     "metadata": {},
     "output_type": "execute_result"
    }
   ],
   "source": [
    "y_train.shape"
   ]
  },
  {
   "cell_type": "code",
   "execution_count": 414,
   "id": "f14635b1",
   "metadata": {},
   "outputs": [
    {
     "data": {
      "text/plain": [
       "(9590, 6)"
      ]
     },
     "execution_count": 414,
     "metadata": {},
     "output_type": "execute_result"
    }
   ],
   "source": [
    "new_data.shape"
   ]
  },
  {
   "cell_type": "code",
   "execution_count": 415,
   "id": "666fb1e7",
   "metadata": {},
   "outputs": [],
   "source": [
    "# new_data.T.iloc[1].shape"
   ]
  },
  {
   "cell_type": "code",
   "execution_count": 416,
   "id": "7aba07ea",
   "metadata": {},
   "outputs": [],
   "source": [
    "pre_y=reg.predict(poly_train)"
   ]
  },
  {
   "cell_type": "code",
   "execution_count": 417,
   "id": "f235936a",
   "metadata": {},
   "outputs": [
    {
     "data": {
      "text/plain": [
       "(9590,)"
      ]
     },
     "execution_count": 417,
     "metadata": {},
     "output_type": "execute_result"
    }
   ],
   "source": [
    "pre_y.shape"
   ]
  },
  {
   "cell_type": "code",
   "execution_count": 418,
   "id": "a54b80d7",
   "metadata": {},
   "outputs": [],
   "source": [
    "# pre_y=reg.predict(new_data)"
   ]
  },
  {
   "cell_type": "code",
   "execution_count": 419,
   "id": "455a8891",
   "metadata": {},
   "outputs": [
    {
     "data": {
      "text/plain": [
       "(9590,)"
      ]
     },
     "execution_count": 419,
     "metadata": {},
     "output_type": "execute_result"
    }
   ],
   "source": [
    "pre_y.shape"
   ]
  },
  {
   "cell_type": "code",
   "execution_count": 420,
   "id": "e6c0aa62",
   "metadata": {},
   "outputs": [
    {
     "data": {
      "text/plain": [
       "(2476, 1)"
      ]
     },
     "execution_count": 420,
     "metadata": {},
     "output_type": "execute_result"
    }
   ],
   "source": [
    "pre_y2.shape"
   ]
  },
  {
   "cell_type": "code",
   "execution_count": 421,
   "id": "030189a3",
   "metadata": {},
   "outputs": [
    {
     "data": {
      "text/plain": [
       "(9590, 6)"
      ]
     },
     "execution_count": 421,
     "metadata": {},
     "output_type": "execute_result"
    }
   ],
   "source": [
    "new_data.shape"
   ]
  },
  {
   "cell_type": "code",
   "execution_count": 422,
   "id": "591ee541",
   "metadata": {},
   "outputs": [],
   "source": [
    "pre_y1=pre_y.reshape(-1,1)"
   ]
  },
  {
   "cell_type": "code",
   "execution_count": 423,
   "id": "c47baafe",
   "metadata": {},
   "outputs": [],
   "source": [
    "pre_y2=pd.DataFrame(pre_y1)"
   ]
  },
  {
   "cell_type": "code",
   "execution_count": 424,
   "id": "b9b5c0b3",
   "metadata": {},
   "outputs": [
    {
     "data": {
      "text/html": [
       "<div>\n",
       "<style scoped>\n",
       "    .dataframe tbody tr th:only-of-type {\n",
       "        vertical-align: middle;\n",
       "    }\n",
       "\n",
       "    .dataframe tbody tr th {\n",
       "        vertical-align: top;\n",
       "    }\n",
       "\n",
       "    .dataframe thead th {\n",
       "        text-align: right;\n",
       "    }\n",
       "</style>\n",
       "<table border=\"1\" class=\"dataframe\">\n",
       "  <thead>\n",
       "    <tr style=\"text-align: right;\">\n",
       "      <th></th>\n",
       "      <th>0</th>\n",
       "    </tr>\n",
       "  </thead>\n",
       "  <tbody>\n",
       "    <tr>\n",
       "      <th>0</th>\n",
       "      <td>103.527954</td>\n",
       "    </tr>\n",
       "    <tr>\n",
       "      <th>1</th>\n",
       "      <td>94.490629</td>\n",
       "    </tr>\n",
       "    <tr>\n",
       "      <th>2</th>\n",
       "      <td>99.610405</td>\n",
       "    </tr>\n",
       "    <tr>\n",
       "      <th>3</th>\n",
       "      <td>96.734964</td>\n",
       "    </tr>\n",
       "    <tr>\n",
       "      <th>4</th>\n",
       "      <td>94.556335</td>\n",
       "    </tr>\n",
       "    <tr>\n",
       "      <th>...</th>\n",
       "      <td>...</td>\n",
       "    </tr>\n",
       "    <tr>\n",
       "      <th>9585</th>\n",
       "      <td>59.347590</td>\n",
       "    </tr>\n",
       "    <tr>\n",
       "      <th>9586</th>\n",
       "      <td>56.017337</td>\n",
       "    </tr>\n",
       "    <tr>\n",
       "      <th>9587</th>\n",
       "      <td>53.995343</td>\n",
       "    </tr>\n",
       "    <tr>\n",
       "      <th>9588</th>\n",
       "      <td>55.469514</td>\n",
       "    </tr>\n",
       "    <tr>\n",
       "      <th>9589</th>\n",
       "      <td>54.593141</td>\n",
       "    </tr>\n",
       "  </tbody>\n",
       "</table>\n",
       "<p>9590 rows × 1 columns</p>\n",
       "</div>"
      ],
      "text/plain": [
       "               0\n",
       "0     103.527954\n",
       "1      94.490629\n",
       "2      99.610405\n",
       "3      96.734964\n",
       "4      94.556335\n",
       "...          ...\n",
       "9585   59.347590\n",
       "9586   56.017337\n",
       "9587   53.995343\n",
       "9588   55.469514\n",
       "9589   54.593141\n",
       "\n",
       "[9590 rows x 1 columns]"
      ]
     },
     "execution_count": 424,
     "metadata": {},
     "output_type": "execute_result"
    }
   ],
   "source": [
    "pre_y2"
   ]
  },
  {
   "cell_type": "code",
   "execution_count": 425,
   "id": "c56b31df",
   "metadata": {},
   "outputs": [],
   "source": [
    "for_prey2=pd.concat([for_fw, pre_y2], axis=1)"
   ]
  },
  {
   "cell_type": "code",
   "execution_count": 426,
   "id": "7da891a6",
   "metadata": {},
   "outputs": [],
   "source": [
    "for_prey2=for_prey2.set_index('index')"
   ]
  },
  {
   "cell_type": "code",
   "execution_count": 427,
   "id": "2f3c1de3",
   "metadata": {},
   "outputs": [
    {
     "data": {
      "text/html": [
       "<div>\n",
       "<style scoped>\n",
       "    .dataframe tbody tr th:only-of-type {\n",
       "        vertical-align: middle;\n",
       "    }\n",
       "\n",
       "    .dataframe tbody tr th {\n",
       "        vertical-align: top;\n",
       "    }\n",
       "\n",
       "    .dataframe thead th {\n",
       "        text-align: right;\n",
       "    }\n",
       "</style>\n",
       "<table border=\"1\" class=\"dataframe\">\n",
       "  <thead>\n",
       "    <tr style=\"text-align: right;\">\n",
       "      <th></th>\n",
       "      <th>overall</th>\n",
       "      <th>pre_overall</th>\n",
       "    </tr>\n",
       "    <tr>\n",
       "      <th>index</th>\n",
       "      <th></th>\n",
       "      <th></th>\n",
       "    </tr>\n",
       "  </thead>\n",
       "  <tbody>\n",
       "    <tr>\n",
       "      <th>0</th>\n",
       "      <td>93</td>\n",
       "      <td>103.527954</td>\n",
       "    </tr>\n",
       "    <tr>\n",
       "      <th>1</th>\n",
       "      <td>92</td>\n",
       "      <td>94.490629</td>\n",
       "    </tr>\n",
       "    <tr>\n",
       "      <th>2</th>\n",
       "      <td>91</td>\n",
       "      <td>99.610405</td>\n",
       "    </tr>\n",
       "    <tr>\n",
       "      <th>3</th>\n",
       "      <td>91</td>\n",
       "      <td>96.734964</td>\n",
       "    </tr>\n",
       "    <tr>\n",
       "      <th>6</th>\n",
       "      <td>91</td>\n",
       "      <td>94.556335</td>\n",
       "    </tr>\n",
       "    <tr>\n",
       "      <th>...</th>\n",
       "      <td>...</td>\n",
       "      <td>...</td>\n",
       "    </tr>\n",
       "    <tr>\n",
       "      <th>15081</th>\n",
       "      <td>47</td>\n",
       "      <td>59.347590</td>\n",
       "    </tr>\n",
       "    <tr>\n",
       "      <th>15082</th>\n",
       "      <td>47</td>\n",
       "      <td>56.017337</td>\n",
       "    </tr>\n",
       "    <tr>\n",
       "      <th>15083</th>\n",
       "      <td>47</td>\n",
       "      <td>53.995343</td>\n",
       "    </tr>\n",
       "    <tr>\n",
       "      <th>15084</th>\n",
       "      <td>47</td>\n",
       "      <td>55.469514</td>\n",
       "    </tr>\n",
       "    <tr>\n",
       "      <th>15085</th>\n",
       "      <td>47</td>\n",
       "      <td>54.593141</td>\n",
       "    </tr>\n",
       "  </tbody>\n",
       "</table>\n",
       "<p>9590 rows × 2 columns</p>\n",
       "</div>"
      ],
      "text/plain": [
       "       overall  pre_overall\n",
       "index                      \n",
       "0           93   103.527954\n",
       "1           92    94.490629\n",
       "2           91    99.610405\n",
       "3           91    96.734964\n",
       "6           91    94.556335\n",
       "...        ...          ...\n",
       "15081       47    59.347590\n",
       "15082       47    56.017337\n",
       "15083       47    53.995343\n",
       "15084       47    55.469514\n",
       "15085       47    54.593141\n",
       "\n",
       "[9590 rows x 2 columns]"
      ]
     },
     "execution_count": 427,
     "metadata": {},
     "output_type": "execute_result"
    }
   ],
   "source": [
    "for_prey2=for_prey2.rename(columns={0:'pre_overall'})\n",
    "for_prey2"
   ]
  },
  {
   "cell_type": "code",
   "execution_count": 428,
   "id": "f105ed3a",
   "metadata": {},
   "outputs": [],
   "source": [
    "poly_gra=poly_train[0]"
   ]
  },
  {
   "cell_type": "code",
   "execution_count": 429,
   "id": "3cd4309b",
   "metadata": {},
   "outputs": [
    {
     "data": {
      "text/plain": [
       "array([[1.00000000e+00, 8.58000000e+01, 7.90000000e+01, ...,\n",
       "        1.54000951e+05, 5.89236146e+04, 2.25452656e+04],\n",
       "       [1.00000000e+00, 8.60000000e+01, 6.85000000e+01, ...,\n",
       "        2.27748889e+05, 9.88166667e+04, 4.28750000e+04],\n",
       "       [1.00000000e+00, 8.76000000e+01, 7.05000000e+01, ...,\n",
       "        1.57475167e+05, 6.03772500e+04, 2.31491250e+04],\n",
       "       ...,\n",
       "       [1.00000000e+00, 4.10000000e+01, 3.45000000e+01, ...,\n",
       "        4.17578889e+04, 2.59275417e+04, 1.60984531e+04],\n",
       "       [1.00000000e+00, 4.32000000e+01, 3.65000000e+01, ...,\n",
       "        9.13550625e+04, 8.30054062e+04, 7.54188906e+04],\n",
       "       [1.00000000e+00, 4.00000000e+01, 3.68333333e+01, ...,\n",
       "        7.72171875e+04, 7.76714062e+04, 7.81282969e+04]])"
      ]
     },
     "execution_count": 429,
     "metadata": {},
     "output_type": "execute_result"
    }
   ],
   "source": [
    "poly_train"
   ]
  },
  {
   "cell_type": "code",
   "execution_count": 430,
   "id": "9d19221b",
   "metadata": {},
   "outputs": [
    {
     "data": {
      "text/plain": [
       "(9590,)"
      ]
     },
     "execution_count": 430,
     "metadata": {},
     "output_type": "execute_result"
    }
   ],
   "source": [
    "poly_train.T[0].flatten().shape"
   ]
  },
  {
   "cell_type": "code",
   "execution_count": 431,
   "id": "8e3e4f3a",
   "metadata": {},
   "outputs": [
    {
     "data": {
      "text/plain": [
       "(9590,)"
      ]
     },
     "execution_count": 431,
     "metadata": {},
     "output_type": "execute_result"
    }
   ],
   "source": [
    "pre_y.flatten().shape"
   ]
  },
  {
   "cell_type": "code",
   "execution_count": 432,
   "id": "4c57764c",
   "metadata": {
    "scrolled": true
   },
   "outputs": [
    {
     "data": {
      "text/plain": [
       "<matplotlib.legend.Legend at 0x225e3fb2b80>"
      ]
     },
     "execution_count": 432,
     "metadata": {},
     "output_type": "execute_result"
    },
    {
     "data": {
      "image/png": "[encoded data removed]",
      "text/plain": [
       "<Figure size 640x480 with 1 Axes>"
      ]
     },
     "metadata": {},
     "output_type": "display_data"
    }
   ],
   "source": [
    "plt.scatter(X_train['attacking'], y_train, label='attacking',s=2)\n",
    "plt.scatter(X_train['skill'], y_train, label='skill',s=2)\n",
    "plt.scatter(X_train['power'], y_train, label='power',s=2)\n",
    "plt.scatter(X_train['mentality'], y_train, label='mentality',s=2)\n",
    "# plt.plot(poly_train.T[1].flatten(), pre_y.flatten(), color='r', label='reg line')\n",
    "plt.xlabel('attacking&skill&power&mentality')\n",
    "plt.ylabel('overall')\n",
    "plt.legend()"
   ]
  },
  {
   "cell_type": "markdown",
   "id": "de9c6fdc",
   "metadata": {},
   "source": [
    "## [골키퍼 선형회귀 예측]\n"
   ]
  },
  {
   "cell_type": "code",
   "execution_count": 433,
   "id": "4605e657",
   "metadata": {},
   "outputs": [
    {
     "data": {
      "text/html": [
       "<div>\n",
       "<style scoped>\n",
       "    .dataframe tbody tr th:only-of-type {\n",
       "        vertical-align: middle;\n",
       "    }\n",
       "\n",
       "    .dataframe tbody tr th {\n",
       "        vertical-align: top;\n",
       "    }\n",
       "\n",
       "    .dataframe thead th {\n",
       "        text-align: right;\n",
       "    }\n",
       "</style>\n",
       "<table border=\"1\" class=\"dataframe\">\n",
       "  <thead>\n",
       "    <tr style=\"text-align: right;\">\n",
       "      <th></th>\n",
       "      <th>overall</th>\n",
       "      <th>skill</th>\n",
       "      <th>movement</th>\n",
       "      <th>mentality</th>\n",
       "      <th>defending</th>\n",
       "      <th>power</th>\n",
       "      <th>goalkeeping</th>\n",
       "      <th>GK</th>\n",
       "    </tr>\n",
       "  </thead>\n",
       "  <tbody>\n",
       "    <tr>\n",
       "      <th>overall</th>\n",
       "      <td>1.000000</td>\n",
       "      <td>0.172325</td>\n",
       "      <td>0.348496</td>\n",
       "      <td>0.313807</td>\n",
       "      <td>0.131495</td>\n",
       "      <td>0.390995</td>\n",
       "      <td>0.244695</td>\n",
       "      <td>NaN</td>\n",
       "    </tr>\n",
       "    <tr>\n",
       "      <th>skill</th>\n",
       "      <td>0.172325</td>\n",
       "      <td>1.000000</td>\n",
       "      <td>0.792889</td>\n",
       "      <td>0.912892</td>\n",
       "      <td>0.827259</td>\n",
       "      <td>0.838678</td>\n",
       "      <td>-0.871954</td>\n",
       "      <td>NaN</td>\n",
       "    </tr>\n",
       "    <tr>\n",
       "      <th>movement</th>\n",
       "      <td>0.348496</td>\n",
       "      <td>0.792889</td>\n",
       "      <td>1.000000</td>\n",
       "      <td>0.807923</td>\n",
       "      <td>0.646227</td>\n",
       "      <td>0.829077</td>\n",
       "      <td>-0.615176</td>\n",
       "      <td>NaN</td>\n",
       "    </tr>\n",
       "    <tr>\n",
       "      <th>mentality</th>\n",
       "      <td>0.313807</td>\n",
       "      <td>0.912892</td>\n",
       "      <td>0.807923</td>\n",
       "      <td>1.000000</td>\n",
       "      <td>0.822644</td>\n",
       "      <td>0.878328</td>\n",
       "      <td>-0.752393</td>\n",
       "      <td>NaN</td>\n",
       "    </tr>\n",
       "    <tr>\n",
       "      <th>defending</th>\n",
       "      <td>0.131495</td>\n",
       "      <td>0.827259</td>\n",
       "      <td>0.646227</td>\n",
       "      <td>0.822644</td>\n",
       "      <td>1.000000</td>\n",
       "      <td>0.744210</td>\n",
       "      <td>-0.750840</td>\n",
       "      <td>NaN</td>\n",
       "    </tr>\n",
       "    <tr>\n",
       "      <th>power</th>\n",
       "      <td>0.390995</td>\n",
       "      <td>0.838678</td>\n",
       "      <td>0.829077</td>\n",
       "      <td>0.878328</td>\n",
       "      <td>0.744210</td>\n",
       "      <td>1.000000</td>\n",
       "      <td>-0.654733</td>\n",
       "      <td>NaN</td>\n",
       "    </tr>\n",
       "    <tr>\n",
       "      <th>goalkeeping</th>\n",
       "      <td>0.244695</td>\n",
       "      <td>-0.871954</td>\n",
       "      <td>-0.615176</td>\n",
       "      <td>-0.752393</td>\n",
       "      <td>-0.750840</td>\n",
       "      <td>-0.654733</td>\n",
       "      <td>1.000000</td>\n",
       "      <td>NaN</td>\n",
       "    </tr>\n",
       "    <tr>\n",
       "      <th>GK</th>\n",
       "      <td>NaN</td>\n",
       "      <td>NaN</td>\n",
       "      <td>NaN</td>\n",
       "      <td>NaN</td>\n",
       "      <td>NaN</td>\n",
       "      <td>NaN</td>\n",
       "      <td>NaN</td>\n",
       "      <td>NaN</td>\n",
       "    </tr>\n",
       "  </tbody>\n",
       "</table>\n",
       "</div>"
      ],
      "text/plain": [
       "              overall     skill  movement  mentality  defending     power  \\\n",
       "overall      1.000000  0.172325  0.348496   0.313807   0.131495  0.390995   \n",
       "skill        0.172325  1.000000  0.792889   0.912892   0.827259  0.838678   \n",
       "movement     0.348496  0.792889  1.000000   0.807923   0.646227  0.829077   \n",
       "mentality    0.313807  0.912892  0.807923   1.000000   0.822644  0.878328   \n",
       "defending    0.131495  0.827259  0.646227   0.822644   1.000000  0.744210   \n",
       "power        0.390995  0.838678  0.829077   0.878328   0.744210  1.000000   \n",
       "goalkeeping  0.244695 -0.871954 -0.615176  -0.752393  -0.750840 -0.654733   \n",
       "GK                NaN       NaN       NaN        NaN        NaN       NaN   \n",
       "\n",
       "             goalkeeping  GK  \n",
       "overall         0.244695 NaN  \n",
       "skill          -0.871954 NaN  \n",
       "movement       -0.615176 NaN  \n",
       "mentality      -0.752393 NaN  \n",
       "defending      -0.750840 NaN  \n",
       "power          -0.654733 NaN  \n",
       "goalkeeping     1.000000 NaN  \n",
       "GK                   NaN NaN  "
      ]
     },
     "execution_count": 433,
     "metadata": {},
     "output_type": "execute_result"
    }
   ],
   "source": [
    "gk_DF.corr()"
   ]
  },
  {
   "cell_type": "code",
   "execution_count": 434,
   "id": "d4423593",
   "metadata": {},
   "outputs": [
    {
     "data": {
      "text/html": [
       "<div>\n",
       "<style scoped>\n",
       "    .dataframe tbody tr th:only-of-type {\n",
       "        vertical-align: middle;\n",
       "    }\n",
       "\n",
       "    .dataframe tbody tr th {\n",
       "        vertical-align: top;\n",
       "    }\n",
       "\n",
       "    .dataframe thead th {\n",
       "        text-align: right;\n",
       "    }\n",
       "</style>\n",
       "<table border=\"1\" class=\"dataframe\">\n",
       "  <thead>\n",
       "    <tr style=\"text-align: right;\">\n",
       "      <th></th>\n",
       "      <th>overall</th>\n",
       "      <th>skill</th>\n",
       "      <th>movement</th>\n",
       "      <th>mentality</th>\n",
       "      <th>defending</th>\n",
       "      <th>power</th>\n",
       "      <th>goalkeeping</th>\n",
       "      <th>GK</th>\n",
       "    </tr>\n",
       "  </thead>\n",
       "  <tbody>\n",
       "    <tr>\n",
       "      <th>5</th>\n",
       "      <td>91</td>\n",
       "      <td>18.333333</td>\n",
       "      <td>61.4</td>\n",
       "      <td>34.666667</td>\n",
       "      <td>19.000000</td>\n",
       "      <td>53.6</td>\n",
       "      <td>87.4</td>\n",
       "      <td>1</td>\n",
       "    </tr>\n",
       "    <tr>\n",
       "      <th>7</th>\n",
       "      <td>90</td>\n",
       "      <td>28.333333</td>\n",
       "      <td>57.4</td>\n",
       "      <td>43.000000</td>\n",
       "      <td>12.666667</td>\n",
       "      <td>56.8</td>\n",
       "      <td>88.8</td>\n",
       "      <td>1</td>\n",
       "    </tr>\n",
       "    <tr>\n",
       "      <th>8</th>\n",
       "      <td>90</td>\n",
       "      <td>24.166667</td>\n",
       "      <td>51.2</td>\n",
       "      <td>40.166667</td>\n",
       "      <td>16.000000</td>\n",
       "      <td>53.6</td>\n",
       "      <td>87.8</td>\n",
       "      <td>1</td>\n",
       "    </tr>\n",
       "    <tr>\n",
       "      <th>11</th>\n",
       "      <td>89</td>\n",
       "      <td>68.000000</td>\n",
       "      <td>78.8</td>\n",
       "      <td>75.500000</td>\n",
       "      <td>31.000000</td>\n",
       "      <td>80.6</td>\n",
       "      <td>8.2</td>\n",
       "      <td>1</td>\n",
       "    </tr>\n",
       "    <tr>\n",
       "      <th>12</th>\n",
       "      <td>89</td>\n",
       "      <td>18.500000</td>\n",
       "      <td>57.0</td>\n",
       "      <td>31.333333</td>\n",
       "      <td>18.000000</td>\n",
       "      <td>49.8</td>\n",
       "      <td>84.2</td>\n",
       "      <td>1</td>\n",
       "    </tr>\n",
       "    <tr>\n",
       "      <th>...</th>\n",
       "      <td>...</td>\n",
       "      <td>...</td>\n",
       "      <td>...</td>\n",
       "      <td>...</td>\n",
       "      <td>...</td>\n",
       "      <td>...</td>\n",
       "      <td>...</td>\n",
       "      <td>...</td>\n",
       "    </tr>\n",
       "    <tr>\n",
       "      <th>14508</th>\n",
       "      <td>56</td>\n",
       "      <td>11.000000</td>\n",
       "      <td>40.6</td>\n",
       "      <td>15.833333</td>\n",
       "      <td>11.333333</td>\n",
       "      <td>35.0</td>\n",
       "      <td>55.4</td>\n",
       "      <td>1</td>\n",
       "    </tr>\n",
       "    <tr>\n",
       "      <th>14635</th>\n",
       "      <td>55</td>\n",
       "      <td>9.833333</td>\n",
       "      <td>33.0</td>\n",
       "      <td>18.500000</td>\n",
       "      <td>11.333333</td>\n",
       "      <td>31.0</td>\n",
       "      <td>54.0</td>\n",
       "      <td>1</td>\n",
       "    </tr>\n",
       "    <tr>\n",
       "      <th>14822</th>\n",
       "      <td>54</td>\n",
       "      <td>14.000000</td>\n",
       "      <td>34.0</td>\n",
       "      <td>25.333333</td>\n",
       "      <td>13.333333</td>\n",
       "      <td>38.4</td>\n",
       "      <td>53.8</td>\n",
       "      <td>1</td>\n",
       "    </tr>\n",
       "    <tr>\n",
       "      <th>14845</th>\n",
       "      <td>53</td>\n",
       "      <td>13.166667</td>\n",
       "      <td>36.2</td>\n",
       "      <td>20.166667</td>\n",
       "      <td>13.666667</td>\n",
       "      <td>36.6</td>\n",
       "      <td>52.6</td>\n",
       "      <td>1</td>\n",
       "    </tr>\n",
       "    <tr>\n",
       "      <th>14875</th>\n",
       "      <td>53</td>\n",
       "      <td>12.000000</td>\n",
       "      <td>24.4</td>\n",
       "      <td>21.166667</td>\n",
       "      <td>9.000000</td>\n",
       "      <td>33.4</td>\n",
       "      <td>54.6</td>\n",
       "      <td>1</td>\n",
       "    </tr>\n",
       "  </tbody>\n",
       "</table>\n",
       "<p>698 rows × 8 columns</p>\n",
       "</div>"
      ],
      "text/plain": [
       "       overall      skill  movement  mentality  defending  power  goalkeeping  \\\n",
       "5           91  18.333333      61.4  34.666667  19.000000   53.6         87.4   \n",
       "7           90  28.333333      57.4  43.000000  12.666667   56.8         88.8   \n",
       "8           90  24.166667      51.2  40.166667  16.000000   53.6         87.8   \n",
       "11          89  68.000000      78.8  75.500000  31.000000   80.6          8.2   \n",
       "12          89  18.500000      57.0  31.333333  18.000000   49.8         84.2   \n",
       "...        ...        ...       ...        ...        ...    ...          ...   \n",
       "14508       56  11.000000      40.6  15.833333  11.333333   35.0         55.4   \n",
       "14635       55   9.833333      33.0  18.500000  11.333333   31.0         54.0   \n",
       "14822       54  14.000000      34.0  25.333333  13.333333   38.4         53.8   \n",
       "14845       53  13.166667      36.2  20.166667  13.666667   36.6         52.6   \n",
       "14875       53  12.000000      24.4  21.166667   9.000000   33.4         54.6   \n",
       "\n",
       "       GK  \n",
       "5       1  \n",
       "7       1  \n",
       "8       1  \n",
       "11      1  \n",
       "12      1  \n",
       "...    ..  \n",
       "14508   1  \n",
       "14635   1  \n",
       "14822   1  \n",
       "14845   1  \n",
       "14875   1  \n",
       "\n",
       "[698 rows x 8 columns]"
      ]
     },
     "execution_count": 434,
     "metadata": {},
     "output_type": "execute_result"
    }
   ],
   "source": [
    "gk_DF"
   ]
  },
  {
   "cell_type": "code",
   "execution_count": 435,
   "id": "b7795d5f",
   "metadata": {},
   "outputs": [
    {
     "data": {
      "text/plain": [
       "('attacking', 'skill', 'movement', 'power', 'mentality', 'defending')"
      ]
     },
     "execution_count": 435,
     "metadata": {},
     "output_type": "execute_result"
    }
   ],
   "source": [
    "'attacking', 'skill', 'movement','power' ,'mentality','defending'"
   ]
  },
  {
   "cell_type": "code",
   "execution_count": 436,
   "id": "635918e9",
   "metadata": {},
   "outputs": [
    {
     "data": {
      "text/html": [
       "<div>\n",
       "<style scoped>\n",
       "    .dataframe tbody tr th:only-of-type {\n",
       "        vertical-align: middle;\n",
       "    }\n",
       "\n",
       "    .dataframe tbody tr th {\n",
       "        vertical-align: top;\n",
       "    }\n",
       "\n",
       "    .dataframe thead th {\n",
       "        text-align: right;\n",
       "    }\n",
       "</style>\n",
       "<table border=\"1\" class=\"dataframe\">\n",
       "  <thead>\n",
       "    <tr style=\"text-align: right;\">\n",
       "      <th></th>\n",
       "      <th>movement</th>\n",
       "      <th>power</th>\n",
       "      <th>mentality</th>\n",
       "      <th>goalkeeping</th>\n",
       "    </tr>\n",
       "  </thead>\n",
       "  <tbody>\n",
       "    <tr>\n",
       "      <th>5</th>\n",
       "      <td>61.4</td>\n",
       "      <td>53.6</td>\n",
       "      <td>34.666667</td>\n",
       "      <td>87.4</td>\n",
       "    </tr>\n",
       "    <tr>\n",
       "      <th>7</th>\n",
       "      <td>57.4</td>\n",
       "      <td>56.8</td>\n",
       "      <td>43.000000</td>\n",
       "      <td>88.8</td>\n",
       "    </tr>\n",
       "    <tr>\n",
       "      <th>8</th>\n",
       "      <td>51.2</td>\n",
       "      <td>53.6</td>\n",
       "      <td>40.166667</td>\n",
       "      <td>87.8</td>\n",
       "    </tr>\n",
       "    <tr>\n",
       "      <th>11</th>\n",
       "      <td>78.8</td>\n",
       "      <td>80.6</td>\n",
       "      <td>75.500000</td>\n",
       "      <td>8.2</td>\n",
       "    </tr>\n",
       "    <tr>\n",
       "      <th>12</th>\n",
       "      <td>57.0</td>\n",
       "      <td>49.8</td>\n",
       "      <td>31.333333</td>\n",
       "      <td>84.2</td>\n",
       "    </tr>\n",
       "    <tr>\n",
       "      <th>...</th>\n",
       "      <td>...</td>\n",
       "      <td>...</td>\n",
       "      <td>...</td>\n",
       "      <td>...</td>\n",
       "    </tr>\n",
       "    <tr>\n",
       "      <th>14508</th>\n",
       "      <td>40.6</td>\n",
       "      <td>35.0</td>\n",
       "      <td>15.833333</td>\n",
       "      <td>55.4</td>\n",
       "    </tr>\n",
       "    <tr>\n",
       "      <th>14635</th>\n",
       "      <td>33.0</td>\n",
       "      <td>31.0</td>\n",
       "      <td>18.500000</td>\n",
       "      <td>54.0</td>\n",
       "    </tr>\n",
       "    <tr>\n",
       "      <th>14822</th>\n",
       "      <td>34.0</td>\n",
       "      <td>38.4</td>\n",
       "      <td>25.333333</td>\n",
       "      <td>53.8</td>\n",
       "    </tr>\n",
       "    <tr>\n",
       "      <th>14845</th>\n",
       "      <td>36.2</td>\n",
       "      <td>36.6</td>\n",
       "      <td>20.166667</td>\n",
       "      <td>52.6</td>\n",
       "    </tr>\n",
       "    <tr>\n",
       "      <th>14875</th>\n",
       "      <td>24.4</td>\n",
       "      <td>33.4</td>\n",
       "      <td>21.166667</td>\n",
       "      <td>54.6</td>\n",
       "    </tr>\n",
       "  </tbody>\n",
       "</table>\n",
       "<p>698 rows × 4 columns</p>\n",
       "</div>"
      ],
      "text/plain": [
       "       movement  power  mentality  goalkeeping\n",
       "5          61.4   53.6  34.666667         87.4\n",
       "7          57.4   56.8  43.000000         88.8\n",
       "8          51.2   53.6  40.166667         87.8\n",
       "11         78.8   80.6  75.500000          8.2\n",
       "12         57.0   49.8  31.333333         84.2\n",
       "...         ...    ...        ...          ...\n",
       "14508      40.6   35.0  15.833333         55.4\n",
       "14635      33.0   31.0  18.500000         54.0\n",
       "14822      34.0   38.4  25.333333         53.8\n",
       "14845      36.2   36.6  20.166667         52.6\n",
       "14875      24.4   33.4  21.166667         54.6\n",
       "\n",
       "[698 rows x 4 columns]"
      ]
     },
     "execution_count": 436,
     "metadata": {},
     "output_type": "execute_result"
    }
   ],
   "source": [
    "feature_gk=gk_DF[['movement','power', 'mentality','goalkeeping']]\n",
    "feature_gk"
   ]
  },
  {
   "cell_type": "code",
   "execution_count": 437,
   "id": "12118271",
   "metadata": {},
   "outputs": [],
   "source": [
    "target_gk=gk_DF['overall']"
   ]
  },
  {
   "cell_type": "code",
   "execution_count": 438,
   "id": "98271e04",
   "metadata": {},
   "outputs": [
    {
     "data": {
      "text/plain": [
       "5        91\n",
       "7        90\n",
       "8        90\n",
       "11       89\n",
       "12       89\n",
       "         ..\n",
       "14508    56\n",
       "14635    55\n",
       "14822    54\n",
       "14845    53\n",
       "14875    53\n",
       "Name: overall, Length: 698, dtype: int64"
      ]
     },
     "execution_count": 438,
     "metadata": {},
     "output_type": "execute_result"
    }
   ],
   "source": [
    "target_gk"
   ]
  },
  {
   "cell_type": "code",
   "execution_count": 439,
   "id": "858f5906",
   "metadata": {},
   "outputs": [],
   "source": [
    "X_train, X_test, y_train, y_test = train_test_split(feature_gk, target_gk, test_size=0.5, random_state=10)"
   ]
  },
  {
   "cell_type": "code",
   "execution_count": 440,
   "id": "06a18847",
   "metadata": {
    "scrolled": true
   },
   "outputs": [
    {
     "data": {
      "text/plain": [
       "8460    66\n",
       "8839    66\n",
       "4201    71\n",
       "2106    74\n",
       "2898    73\n",
       "        ..\n",
       "5283    69\n",
       "4502    70\n",
       "8537    66\n",
       "1348    76\n",
       "3460    72\n",
       "Name: overall, Length: 349, dtype: int64"
      ]
     },
     "execution_count": 440,
     "metadata": {},
     "output_type": "execute_result"
    }
   ],
   "source": [
    "y_train"
   ]
  },
  {
   "cell_type": "code",
   "execution_count": null,
   "id": "ac30502e",
   "metadata": {},
   "outputs": [],
   "source": []
  },
  {
   "cell_type": "code",
   "execution_count": 441,
   "id": "5a5dfe57",
   "metadata": {},
   "outputs": [],
   "source": [
    "from sklearn.preprocessing import PolynomialFeatures"
   ]
  },
  {
   "cell_type": "code",
   "execution_count": 442,
   "id": "ebb1e076",
   "metadata": {},
   "outputs": [],
   "source": [
    "# 차수 변수\n",
    "n_degree = 2"
   ]
  },
  {
   "cell_type": "code",
   "execution_count": 443,
   "id": "9df55134",
   "metadata": {},
   "outputs": [],
   "source": [
    "# (1) 객체 생성\n",
    "poly=PolynomialFeatures(degree=n_degree)"
   ]
  },
  {
   "cell_type": "code",
   "execution_count": 444,
   "id": "729810d6",
   "metadata": {},
   "outputs": [
    {
     "data": {
      "text/html": [
       "<style>#sk-container-id-22 {color: black;}#sk-container-id-22 pre{padding: 0;}#sk-container-id-22 div.sk-toggleable {background-color: white;}#sk-container-id-22 label.sk-toggleable__label {cursor: pointer;display: block;width: 100%;margin-bottom: 0;padding: 0.3em;box-sizing: border-box;text-align: center;}#sk-container-id-22 label.sk-toggleable__label-arrow:before {content: \"▸\";float: left;margin-right: 0.25em;color: #696969;}#sk-container-id-22 label.sk-toggleable__label-arrow:hover:before {color: black;}#sk-container-id-22 div.sk-estimator:hover label.sk-toggleable__label-arrow:before {color: black;}#sk-container-id-22 div.sk-toggleable__content {max-height: 0;max-width: 0;overflow: hidden;text-align: left;background-color: #f0f8ff;}#sk-container-id-22 div.sk-toggleable__content pre {margin: 0.2em;color: black;border-radius: 0.25em;background-color: #f0f8ff;}#sk-container-id-22 input.sk-toggleable__control:checked~div.sk-toggleable__content {max-height: 200px;max-width: 100%;overflow: auto;}#sk-container-id-22 input.sk-toggleable__control:checked~label.sk-toggleable__label-arrow:before {content: \"▾\";}#sk-container-id-22 div.sk-estimator input.sk-toggleable__control:checked~label.sk-toggleable__label {background-color: #d4ebff;}#sk-container-id-22 div.sk-label input.sk-toggleable__control:checked~label.sk-toggleable__label {background-color: #d4ebff;}#sk-container-id-22 input.sk-hidden--visually {border: 0;clip: rect(1px 1px 1px 1px);clip: rect(1px, 1px, 1px, 1px);height: 1px;margin: -1px;overflow: hidden;padding: 0;position: absolute;width: 1px;}#sk-container-id-22 div.sk-estimator {font-family: monospace;background-color: #f0f8ff;border: 1px dotted black;border-radius: 0.25em;box-sizing: border-box;margin-bottom: 0.5em;}#sk-container-id-22 div.sk-estimator:hover {background-color: #d4ebff;}#sk-container-id-22 div.sk-parallel-item::after {content: \"\";width: 100%;border-bottom: 1px solid gray;flex-grow: 1;}#sk-container-id-22 div.sk-label:hover label.sk-toggleable__label {background-color: #d4ebff;}#sk-container-id-22 div.sk-serial::before {content: \"\";position: absolute;border-left: 1px solid gray;box-sizing: border-box;top: 0;bottom: 0;left: 50%;z-index: 0;}#sk-container-id-22 div.sk-serial {display: flex;flex-direction: column;align-items: center;background-color: white;padding-right: 0.2em;padding-left: 0.2em;position: relative;}#sk-container-id-22 div.sk-item {position: relative;z-index: 1;}#sk-container-id-22 div.sk-parallel {display: flex;align-items: stretch;justify-content: center;background-color: white;position: relative;}#sk-container-id-22 div.sk-item::before, #sk-container-id-22 div.sk-parallel-item::before {content: \"\";position: absolute;border-left: 1px solid gray;box-sizing: border-box;top: 0;bottom: 0;left: 50%;z-index: -1;}#sk-container-id-22 div.sk-parallel-item {display: flex;flex-direction: column;z-index: 1;position: relative;background-color: white;}#sk-container-id-22 div.sk-parallel-item:first-child::after {align-self: flex-end;width: 50%;}#sk-container-id-22 div.sk-parallel-item:last-child::after {align-self: flex-start;width: 50%;}#sk-container-id-22 div.sk-parallel-item:only-child::after {width: 0;}#sk-container-id-22 div.sk-dashed-wrapped {border: 1px dashed gray;margin: 0 0.4em 0.5em 0.4em;box-sizing: border-box;padding-bottom: 0.4em;background-color: white;}#sk-container-id-22 div.sk-label label {font-family: monospace;font-weight: bold;display: inline-block;line-height: 1.2em;}#sk-container-id-22 div.sk-label-container {text-align: center;}#sk-container-id-22 div.sk-container {/* jupyter's `normalize.less` sets `[hidden] { display: none; }` but bootstrap.min.css set `[hidden] { display: none !important; }` so we also need the `!important` here to be able to override the default hidden behavior on the sphinx rendered scikit-learn.org. See: https://github.com/scikit-learn/scikit-learn/issues/21755 */display: inline-block !important;position: relative;}#sk-container-id-22 div.sk-text-repr-fallback {display: none;}</style><div id=\"sk-container-id-22\" class=\"sk-top-container\"><div class=\"sk-text-repr-fallback\"><pre>PolynomialFeatures()</pre><b>In a Jupyter environment, please rerun this cell to show the HTML representation or trust the notebook. <br />On GitHub, the HTML representation is unable to render, please try loading this page with nbviewer.org.</b></div><div class=\"sk-container\" hidden><div class=\"sk-item\"><div class=\"sk-estimator sk-toggleable\"><input class=\"sk-toggleable__control sk-hidden--visually\" id=\"sk-estimator-id-22\" type=\"checkbox\" checked><label for=\"sk-estimator-id-22\" class=\"sk-toggleable__label sk-toggleable__label-arrow\">PolynomialFeatures</label><div class=\"sk-toggleable__content\"><pre>PolynomialFeatures()</pre></div></div></div></div></div>"
      ],
      "text/plain": [
       "PolynomialFeatures()"
      ]
     },
     "execution_count": 444,
     "metadata": {},
     "output_type": "execute_result"
    }
   ],
   "source": [
    "# (2) 생성된 다항특성객체에 학습 진행 ===> 주어진 데이터의 피쳐를 2차원 변형\n",
    "# => x, x^2 , 1\n",
    "poly.fit(feature_gk, target_gk)"
   ]
  },
  {
   "cell_type": "code",
   "execution_count": 445,
   "id": "02a54066",
   "metadata": {},
   "outputs": [],
   "source": [
    "# (3) 변형하기\n",
    "poly_train=poly.transform(feature_gk)\n",
    "poly_test=poly.transform(X_test)"
   ]
  },
  {
   "cell_type": "code",
   "execution_count": 446,
   "id": "f37d56d2",
   "metadata": {},
   "outputs": [
    {
     "name": "stdout",
     "output_type": "stream",
     "text": [
      "4\n",
      "15\n"
     ]
    }
   ],
   "source": [
    "# 입력한 피쳐 확인\n",
    "print(poly.n_features_in_)\n",
    "\n",
    "# 생성된 피쳐 확인\n",
    "print(poly.n_output_features_)"
   ]
  },
  {
   "cell_type": "code",
   "execution_count": 447,
   "id": "36670733",
   "metadata": {},
   "outputs": [
    {
     "name": "stdout",
     "output_type": "stream",
     "text": [
      "전 (349, 4) => 후 (698, 15)\n"
     ]
    }
   ],
   "source": [
    "# 변형 전후 형태(shape) 확인\n",
    "print(f'전 {X_train.shape} => 후 {poly_train.shape}')"
   ]
  },
  {
   "cell_type": "code",
   "execution_count": 448,
   "id": "ceb89d37",
   "metadata": {},
   "outputs": [
    {
     "data": {
      "text/plain": [
       "(349, 4)"
      ]
     },
     "execution_count": 448,
     "metadata": {},
     "output_type": "execute_result"
    }
   ],
   "source": [
    "X_train.shape"
   ]
  },
  {
   "cell_type": "code",
   "execution_count": 449,
   "id": "3b84982c",
   "metadata": {
    "scrolled": true
   },
   "outputs": [
    {
     "data": {
      "text/plain": [
       "array([[1.00000000e+00, 6.14000000e+01, 5.36000000e+01, 3.46666667e+01,\n",
       "        8.74000000e+01, 3.76996000e+03, 3.29104000e+03, 2.12853333e+03,\n",
       "        5.36636000e+03, 2.87296000e+03, 1.85813333e+03, 4.68464000e+03,\n",
       "        1.20177778e+03, 3.02986667e+03, 7.63876000e+03]])"
      ]
     },
     "execution_count": 449,
     "metadata": {},
     "output_type": "execute_result"
    }
   ],
   "source": [
    "poly_train[:1]"
   ]
  },
  {
   "cell_type": "code",
   "execution_count": null,
   "id": "46adf317",
   "metadata": {},
   "outputs": [],
   "source": []
  },
  {
   "cell_type": "code",
   "execution_count": 450,
   "id": "7d9f830f",
   "metadata": {},
   "outputs": [],
   "source": [
    "reg=LinearRegression()"
   ]
  },
  {
   "cell_type": "code",
   "execution_count": 451,
   "id": "ad6ca638",
   "metadata": {},
   "outputs": [
    {
     "data": {
      "text/html": [
       "<style>#sk-container-id-23 {color: black;}#sk-container-id-23 pre{padding: 0;}#sk-container-id-23 div.sk-toggleable {background-color: white;}#sk-container-id-23 label.sk-toggleable__label {cursor: pointer;display: block;width: 100%;margin-bottom: 0;padding: 0.3em;box-sizing: border-box;text-align: center;}#sk-container-id-23 label.sk-toggleable__label-arrow:before {content: \"▸\";float: left;margin-right: 0.25em;color: #696969;}#sk-container-id-23 label.sk-toggleable__label-arrow:hover:before {color: black;}#sk-container-id-23 div.sk-estimator:hover label.sk-toggleable__label-arrow:before {color: black;}#sk-container-id-23 div.sk-toggleable__content {max-height: 0;max-width: 0;overflow: hidden;text-align: left;background-color: #f0f8ff;}#sk-container-id-23 div.sk-toggleable__content pre {margin: 0.2em;color: black;border-radius: 0.25em;background-color: #f0f8ff;}#sk-container-id-23 input.sk-toggleable__control:checked~div.sk-toggleable__content {max-height: 200px;max-width: 100%;overflow: auto;}#sk-container-id-23 input.sk-toggleable__control:checked~label.sk-toggleable__label-arrow:before {content: \"▾\";}#sk-container-id-23 div.sk-estimator input.sk-toggleable__control:checked~label.sk-toggleable__label {background-color: #d4ebff;}#sk-container-id-23 div.sk-label input.sk-toggleable__control:checked~label.sk-toggleable__label {background-color: #d4ebff;}#sk-container-id-23 input.sk-hidden--visually {border: 0;clip: rect(1px 1px 1px 1px);clip: rect(1px, 1px, 1px, 1px);height: 1px;margin: -1px;overflow: hidden;padding: 0;position: absolute;width: 1px;}#sk-container-id-23 div.sk-estimator {font-family: monospace;background-color: #f0f8ff;border: 1px dotted black;border-radius: 0.25em;box-sizing: border-box;margin-bottom: 0.5em;}#sk-container-id-23 div.sk-estimator:hover {background-color: #d4ebff;}#sk-container-id-23 div.sk-parallel-item::after {content: \"\";width: 100%;border-bottom: 1px solid gray;flex-grow: 1;}#sk-container-id-23 div.sk-label:hover label.sk-toggleable__label {background-color: #d4ebff;}#sk-container-id-23 div.sk-serial::before {content: \"\";position: absolute;border-left: 1px solid gray;box-sizing: border-box;top: 0;bottom: 0;left: 50%;z-index: 0;}#sk-container-id-23 div.sk-serial {display: flex;flex-direction: column;align-items: center;background-color: white;padding-right: 0.2em;padding-left: 0.2em;position: relative;}#sk-container-id-23 div.sk-item {position: relative;z-index: 1;}#sk-container-id-23 div.sk-parallel {display: flex;align-items: stretch;justify-content: center;background-color: white;position: relative;}#sk-container-id-23 div.sk-item::before, #sk-container-id-23 div.sk-parallel-item::before {content: \"\";position: absolute;border-left: 1px solid gray;box-sizing: border-box;top: 0;bottom: 0;left: 50%;z-index: -1;}#sk-container-id-23 div.sk-parallel-item {display: flex;flex-direction: column;z-index: 1;position: relative;background-color: white;}#sk-container-id-23 div.sk-parallel-item:first-child::after {align-self: flex-end;width: 50%;}#sk-container-id-23 div.sk-parallel-item:last-child::after {align-self: flex-start;width: 50%;}#sk-container-id-23 div.sk-parallel-item:only-child::after {width: 0;}#sk-container-id-23 div.sk-dashed-wrapped {border: 1px dashed gray;margin: 0 0.4em 0.5em 0.4em;box-sizing: border-box;padding-bottom: 0.4em;background-color: white;}#sk-container-id-23 div.sk-label label {font-family: monospace;font-weight: bold;display: inline-block;line-height: 1.2em;}#sk-container-id-23 div.sk-label-container {text-align: center;}#sk-container-id-23 div.sk-container {/* jupyter's `normalize.less` sets `[hidden] { display: none; }` but bootstrap.min.css set `[hidden] { display: none !important; }` so we also need the `!important` here to be able to override the default hidden behavior on the sphinx rendered scikit-learn.org. See: https://github.com/scikit-learn/scikit-learn/issues/21755 */display: inline-block !important;position: relative;}#sk-container-id-23 div.sk-text-repr-fallback {display: none;}</style><div id=\"sk-container-id-23\" class=\"sk-top-container\"><div class=\"sk-text-repr-fallback\"><pre>LinearRegression()</pre><b>In a Jupyter environment, please rerun this cell to show the HTML representation or trust the notebook. <br />On GitHub, the HTML representation is unable to render, please try loading this page with nbviewer.org.</b></div><div class=\"sk-container\" hidden><div class=\"sk-item\"><div class=\"sk-estimator sk-toggleable\"><input class=\"sk-toggleable__control sk-hidden--visually\" id=\"sk-estimator-id-23\" type=\"checkbox\" checked><label for=\"sk-estimator-id-23\" class=\"sk-toggleable__label sk-toggleable__label-arrow\">LinearRegression</label><div class=\"sk-toggleable__content\"><pre>LinearRegression()</pre></div></div></div></div></div>"
      ],
      "text/plain": [
       "LinearRegression()"
      ]
     },
     "execution_count": 451,
     "metadata": {},
     "output_type": "execute_result"
    }
   ],
   "source": [
    "reg.fit(poly_train, target_gk)"
   ]
  },
  {
   "cell_type": "code",
   "execution_count": 452,
   "id": "9140bb55",
   "metadata": {},
   "outputs": [
    {
     "data": {
      "text/plain": [
       "array([ 0.        ,  0.1169641 ,  0.36095003,  0.34972087,  0.14048644,\n",
       "        0.00089025, -0.0022054 ,  0.00407306, -0.00280873,  0.00182049,\n",
       "       -0.00605828, -0.00362449,  0.00359157, -0.00719053,  0.0099038 ])"
      ]
     },
     "execution_count": 452,
     "metadata": {},
     "output_type": "execute_result"
    }
   ],
   "source": [
    "reg.coef_"
   ]
  },
  {
   "cell_type": "code",
   "execution_count": 453,
   "id": "fc15ce8c",
   "metadata": {},
   "outputs": [
    {
     "data": {
      "text/plain": [
       "14.199077923940273"
      ]
     },
     "execution_count": 453,
     "metadata": {},
     "output_type": "execute_result"
    }
   ],
   "source": [
    "reg.intercept_"
   ]
  },
  {
   "cell_type": "code",
   "execution_count": 454,
   "id": "c3c59235",
   "metadata": {},
   "outputs": [],
   "source": [
    "train_score = reg.score(poly_train, target_gk)\n",
    "test_score = reg.score(poly_test, y_test)"
   ]
  },
  {
   "cell_type": "code",
   "execution_count": null,
   "id": "a989c719",
   "metadata": {},
   "outputs": [],
   "source": []
  },
  {
   "cell_type": "code",
   "execution_count": 455,
   "id": "57c579b6",
   "metadata": {},
   "outputs": [
    {
     "data": {
      "text/plain": [
       "' 훈련 결과 점수 : 0.9522631232262229, 테스트 결과 점수 : 0.9423844268317313'"
      ]
     },
     "execution_count": 455,
     "metadata": {},
     "output_type": "execute_result"
    }
   ],
   "source": [
    "f' 훈련 결과 점수 : {train_score}, 테스트 결과 점수 : {test_score}'"
   ]
  },
  {
   "cell_type": "code",
   "execution_count": 456,
   "id": "95e525c2",
   "metadata": {},
   "outputs": [],
   "source": [
    "new_data=feature_gk"
   ]
  },
  {
   "cell_type": "code",
   "execution_count": 457,
   "id": "4e707bdc",
   "metadata": {},
   "outputs": [
    {
     "data": {
      "text/html": [
       "<div>\n",
       "<style scoped>\n",
       "    .dataframe tbody tr th:only-of-type {\n",
       "        vertical-align: middle;\n",
       "    }\n",
       "\n",
       "    .dataframe tbody tr th {\n",
       "        vertical-align: top;\n",
       "    }\n",
       "\n",
       "    .dataframe thead th {\n",
       "        text-align: right;\n",
       "    }\n",
       "</style>\n",
       "<table border=\"1\" class=\"dataframe\">\n",
       "  <thead>\n",
       "    <tr style=\"text-align: right;\">\n",
       "      <th></th>\n",
       "      <th>movement</th>\n",
       "      <th>power</th>\n",
       "      <th>mentality</th>\n",
       "      <th>goalkeeping</th>\n",
       "    </tr>\n",
       "  </thead>\n",
       "  <tbody>\n",
       "    <tr>\n",
       "      <th>5</th>\n",
       "      <td>61.4</td>\n",
       "      <td>53.6</td>\n",
       "      <td>34.666667</td>\n",
       "      <td>87.4</td>\n",
       "    </tr>\n",
       "    <tr>\n",
       "      <th>7</th>\n",
       "      <td>57.4</td>\n",
       "      <td>56.8</td>\n",
       "      <td>43.000000</td>\n",
       "      <td>88.8</td>\n",
       "    </tr>\n",
       "    <tr>\n",
       "      <th>8</th>\n",
       "      <td>51.2</td>\n",
       "      <td>53.6</td>\n",
       "      <td>40.166667</td>\n",
       "      <td>87.8</td>\n",
       "    </tr>\n",
       "    <tr>\n",
       "      <th>11</th>\n",
       "      <td>78.8</td>\n",
       "      <td>80.6</td>\n",
       "      <td>75.500000</td>\n",
       "      <td>8.2</td>\n",
       "    </tr>\n",
       "    <tr>\n",
       "      <th>12</th>\n",
       "      <td>57.0</td>\n",
       "      <td>49.8</td>\n",
       "      <td>31.333333</td>\n",
       "      <td>84.2</td>\n",
       "    </tr>\n",
       "    <tr>\n",
       "      <th>...</th>\n",
       "      <td>...</td>\n",
       "      <td>...</td>\n",
       "      <td>...</td>\n",
       "      <td>...</td>\n",
       "    </tr>\n",
       "    <tr>\n",
       "      <th>14508</th>\n",
       "      <td>40.6</td>\n",
       "      <td>35.0</td>\n",
       "      <td>15.833333</td>\n",
       "      <td>55.4</td>\n",
       "    </tr>\n",
       "    <tr>\n",
       "      <th>14635</th>\n",
       "      <td>33.0</td>\n",
       "      <td>31.0</td>\n",
       "      <td>18.500000</td>\n",
       "      <td>54.0</td>\n",
       "    </tr>\n",
       "    <tr>\n",
       "      <th>14822</th>\n",
       "      <td>34.0</td>\n",
       "      <td>38.4</td>\n",
       "      <td>25.333333</td>\n",
       "      <td>53.8</td>\n",
       "    </tr>\n",
       "    <tr>\n",
       "      <th>14845</th>\n",
       "      <td>36.2</td>\n",
       "      <td>36.6</td>\n",
       "      <td>20.166667</td>\n",
       "      <td>52.6</td>\n",
       "    </tr>\n",
       "    <tr>\n",
       "      <th>14875</th>\n",
       "      <td>24.4</td>\n",
       "      <td>33.4</td>\n",
       "      <td>21.166667</td>\n",
       "      <td>54.6</td>\n",
       "    </tr>\n",
       "  </tbody>\n",
       "</table>\n",
       "<p>698 rows × 4 columns</p>\n",
       "</div>"
      ],
      "text/plain": [
       "       movement  power  mentality  goalkeeping\n",
       "5          61.4   53.6  34.666667         87.4\n",
       "7          57.4   56.8  43.000000         88.8\n",
       "8          51.2   53.6  40.166667         87.8\n",
       "11         78.8   80.6  75.500000          8.2\n",
       "12         57.0   49.8  31.333333         84.2\n",
       "...         ...    ...        ...          ...\n",
       "14508      40.6   35.0  15.833333         55.4\n",
       "14635      33.0   31.0  18.500000         54.0\n",
       "14822      34.0   38.4  25.333333         53.8\n",
       "14845      36.2   36.6  20.166667         52.6\n",
       "14875      24.4   33.4  21.166667         54.6\n",
       "\n",
       "[698 rows x 4 columns]"
      ]
     },
     "execution_count": 457,
     "metadata": {},
     "output_type": "execute_result"
    }
   ],
   "source": [
    "new_data"
   ]
  },
  {
   "cell_type": "code",
   "execution_count": 458,
   "id": "00ebcdb6",
   "metadata": {
    "scrolled": true
   },
   "outputs": [],
   "source": [
    "# new_data = new_data.reshape(-1,2)"
   ]
  },
  {
   "cell_type": "code",
   "execution_count": 459,
   "id": "fd3b0ecc",
   "metadata": {},
   "outputs": [],
   "source": [
    "X_train_flattened = X_train.values.ravel()"
   ]
  },
  {
   "cell_type": "code",
   "execution_count": 460,
   "id": "d2611c61",
   "metadata": {},
   "outputs": [
    {
     "data": {
      "text/plain": [
       "(1396,)"
      ]
     },
     "execution_count": 460,
     "metadata": {},
     "output_type": "execute_result"
    }
   ],
   "source": [
    "X_train_flattened.shape"
   ]
  },
  {
   "cell_type": "code",
   "execution_count": 461,
   "id": "28040c11",
   "metadata": {},
   "outputs": [
    {
     "data": {
      "text/plain": [
       "(349, 4)"
      ]
     },
     "execution_count": 461,
     "metadata": {},
     "output_type": "execute_result"
    }
   ],
   "source": [
    "X_train.shape"
   ]
  },
  {
   "cell_type": "code",
   "execution_count": 462,
   "id": "a9acb6e2",
   "metadata": {
    "scrolled": false
   },
   "outputs": [
    {
     "data": {
      "text/plain": [
       "(349,)"
      ]
     },
     "execution_count": 462,
     "metadata": {},
     "output_type": "execute_result"
    }
   ],
   "source": [
    "y_train.shape"
   ]
  },
  {
   "cell_type": "code",
   "execution_count": 463,
   "id": "d7a86bf7",
   "metadata": {},
   "outputs": [
    {
     "data": {
      "text/plain": [
       "(698, 4)"
      ]
     },
     "execution_count": 463,
     "metadata": {},
     "output_type": "execute_result"
    }
   ],
   "source": [
    "new_data.shape"
   ]
  },
  {
   "cell_type": "code",
   "execution_count": 464,
   "id": "5cb471ca",
   "metadata": {},
   "outputs": [
    {
     "data": {
      "text/plain": [
       "(698,)"
      ]
     },
     "execution_count": 464,
     "metadata": {},
     "output_type": "execute_result"
    }
   ],
   "source": [
    "new_data.T.iloc[1].shape"
   ]
  },
  {
   "cell_type": "code",
   "execution_count": 465,
   "id": "6da709fb",
   "metadata": {},
   "outputs": [],
   "source": [
    "pre_y=reg.predict(poly_train)"
   ]
  },
  {
   "cell_type": "code",
   "execution_count": 466,
   "id": "a43c7e49",
   "metadata": {},
   "outputs": [
    {
     "data": {
      "text/plain": [
       "(698,)"
      ]
     },
     "execution_count": 466,
     "metadata": {},
     "output_type": "execute_result"
    }
   ],
   "source": [
    "pre_y.shape"
   ]
  },
  {
   "cell_type": "code",
   "execution_count": null,
   "id": "c3b1e341",
   "metadata": {},
   "outputs": [],
   "source": []
  },
  {
   "cell_type": "code",
   "execution_count": 467,
   "id": "91dfe8ae",
   "metadata": {},
   "outputs": [],
   "source": [
    "pre_y2=pre_y.reshape(-1,1)"
   ]
  },
  {
   "cell_type": "code",
   "execution_count": 468,
   "id": "d41c0698",
   "metadata": {},
   "outputs": [],
   "source": [
    "pre_y3=pd.DataFrame(pre_y2)"
   ]
  },
  {
   "cell_type": "code",
   "execution_count": 469,
   "id": "ae41e533",
   "metadata": {},
   "outputs": [
    {
     "data": {
      "text/html": [
       "<div>\n",
       "<style scoped>\n",
       "    .dataframe tbody tr th:only-of-type {\n",
       "        vertical-align: middle;\n",
       "    }\n",
       "\n",
       "    .dataframe tbody tr th {\n",
       "        vertical-align: top;\n",
       "    }\n",
       "\n",
       "    .dataframe thead th {\n",
       "        text-align: right;\n",
       "    }\n",
       "</style>\n",
       "<table border=\"1\" class=\"dataframe\">\n",
       "  <thead>\n",
       "    <tr style=\"text-align: right;\">\n",
       "      <th></th>\n",
       "      <th>0</th>\n",
       "    </tr>\n",
       "  </thead>\n",
       "  <tbody>\n",
       "    <tr>\n",
       "      <th>0</th>\n",
       "      <td>90.001213</td>\n",
       "    </tr>\n",
       "    <tr>\n",
       "      <th>1</th>\n",
       "      <td>90.483045</td>\n",
       "    </tr>\n",
       "    <tr>\n",
       "      <th>2</th>\n",
       "      <td>89.860834</td>\n",
       "    </tr>\n",
       "    <tr>\n",
       "      <th>3</th>\n",
       "      <td>83.254305</td>\n",
       "    </tr>\n",
       "    <tr>\n",
       "      <th>4</th>\n",
       "      <td>86.688076</td>\n",
       "    </tr>\n",
       "    <tr>\n",
       "      <th>...</th>\n",
       "      <td>...</td>\n",
       "    </tr>\n",
       "    <tr>\n",
       "      <th>693</th>\n",
       "      <td>56.369980</td>\n",
       "    </tr>\n",
       "    <tr>\n",
       "      <th>694</th>\n",
       "      <td>54.632266</td>\n",
       "    </tr>\n",
       "    <tr>\n",
       "      <th>695</th>\n",
       "      <td>55.448137</td>\n",
       "    </tr>\n",
       "    <tr>\n",
       "      <th>696</th>\n",
       "      <td>54.180130</td>\n",
       "    </tr>\n",
       "    <tr>\n",
       "      <th>697</th>\n",
       "      <td>55.238047</td>\n",
       "    </tr>\n",
       "  </tbody>\n",
       "</table>\n",
       "<p>698 rows × 1 columns</p>\n",
       "</div>"
      ],
      "text/plain": [
       "             0\n",
       "0    90.001213\n",
       "1    90.483045\n",
       "2    89.860834\n",
       "3    83.254305\n",
       "4    86.688076\n",
       "..         ...\n",
       "693  56.369980\n",
       "694  54.632266\n",
       "695  55.448137\n",
       "696  54.180130\n",
       "697  55.238047\n",
       "\n",
       "[698 rows x 1 columns]"
      ]
     },
     "execution_count": 469,
     "metadata": {},
     "output_type": "execute_result"
    }
   ],
   "source": [
    "pre_y3"
   ]
  },
  {
   "cell_type": "code",
   "execution_count": 470,
   "id": "d6ac65c9",
   "metadata": {},
   "outputs": [],
   "source": [
    "for_prey3=pd.concat([for_gk, pre_y3], axis=1)"
   ]
  },
  {
   "cell_type": "code",
   "execution_count": 471,
   "id": "a05963e5",
   "metadata": {},
   "outputs": [],
   "source": [
    "for_prey3=for_prey3.set_index('index')"
   ]
  },
  {
   "cell_type": "code",
   "execution_count": 472,
   "id": "1ef8d576",
   "metadata": {},
   "outputs": [
    {
     "data": {
      "text/html": [
       "<div>\n",
       "<style scoped>\n",
       "    .dataframe tbody tr th:only-of-type {\n",
       "        vertical-align: middle;\n",
       "    }\n",
       "\n",
       "    .dataframe tbody tr th {\n",
       "        vertical-align: top;\n",
       "    }\n",
       "\n",
       "    .dataframe thead th {\n",
       "        text-align: right;\n",
       "    }\n",
       "</style>\n",
       "<table border=\"1\" class=\"dataframe\">\n",
       "  <thead>\n",
       "    <tr style=\"text-align: right;\">\n",
       "      <th></th>\n",
       "      <th>overall</th>\n",
       "      <th>pre_overall</th>\n",
       "    </tr>\n",
       "    <tr>\n",
       "      <th>index</th>\n",
       "      <th></th>\n",
       "      <th></th>\n",
       "    </tr>\n",
       "  </thead>\n",
       "  <tbody>\n",
       "    <tr>\n",
       "      <th>5</th>\n",
       "      <td>91</td>\n",
       "      <td>90.001213</td>\n",
       "    </tr>\n",
       "    <tr>\n",
       "      <th>7</th>\n",
       "      <td>90</td>\n",
       "      <td>90.483045</td>\n",
       "    </tr>\n",
       "    <tr>\n",
       "      <th>8</th>\n",
       "      <td>90</td>\n",
       "      <td>89.860834</td>\n",
       "    </tr>\n",
       "    <tr>\n",
       "      <th>11</th>\n",
       "      <td>89</td>\n",
       "      <td>83.254305</td>\n",
       "    </tr>\n",
       "    <tr>\n",
       "      <th>12</th>\n",
       "      <td>89</td>\n",
       "      <td>86.688076</td>\n",
       "    </tr>\n",
       "    <tr>\n",
       "      <th>...</th>\n",
       "      <td>...</td>\n",
       "      <td>...</td>\n",
       "    </tr>\n",
       "    <tr>\n",
       "      <th>14508</th>\n",
       "      <td>56</td>\n",
       "      <td>56.369980</td>\n",
       "    </tr>\n",
       "    <tr>\n",
       "      <th>14635</th>\n",
       "      <td>55</td>\n",
       "      <td>54.632266</td>\n",
       "    </tr>\n",
       "    <tr>\n",
       "      <th>14822</th>\n",
       "      <td>54</td>\n",
       "      <td>55.448137</td>\n",
       "    </tr>\n",
       "    <tr>\n",
       "      <th>14845</th>\n",
       "      <td>53</td>\n",
       "      <td>54.180130</td>\n",
       "    </tr>\n",
       "    <tr>\n",
       "      <th>14875</th>\n",
       "      <td>53</td>\n",
       "      <td>55.238047</td>\n",
       "    </tr>\n",
       "  </tbody>\n",
       "</table>\n",
       "<p>698 rows × 2 columns</p>\n",
       "</div>"
      ],
      "text/plain": [
       "       overall  pre_overall\n",
       "index                      \n",
       "5           91    90.001213\n",
       "7           90    90.483045\n",
       "8           90    89.860834\n",
       "11          89    83.254305\n",
       "12          89    86.688076\n",
       "...        ...          ...\n",
       "14508       56    56.369980\n",
       "14635       55    54.632266\n",
       "14822       54    55.448137\n",
       "14845       53    54.180130\n",
       "14875       53    55.238047\n",
       "\n",
       "[698 rows x 2 columns]"
      ]
     },
     "execution_count": 472,
     "metadata": {},
     "output_type": "execute_result"
    }
   ],
   "source": [
    "for_prey3=for_prey3.rename(columns={0:'pre_overall'})\n",
    "for_prey3"
   ]
  },
  {
   "cell_type": "code",
   "execution_count": 473,
   "id": "51ea820c",
   "metadata": {},
   "outputs": [],
   "source": [
    "poly_gra=poly_train[0]"
   ]
  },
  {
   "cell_type": "code",
   "execution_count": 474,
   "id": "ccf9507f",
   "metadata": {},
   "outputs": [
    {
     "data": {
      "text/plain": [
       "array([[1.00000000e+00, 6.14000000e+01, 5.36000000e+01, ...,\n",
       "        1.20177778e+03, 3.02986667e+03, 7.63876000e+03],\n",
       "       [1.00000000e+00, 5.74000000e+01, 5.68000000e+01, ...,\n",
       "        1.84900000e+03, 3.81840000e+03, 7.88544000e+03],\n",
       "       [1.00000000e+00, 5.12000000e+01, 5.36000000e+01, ...,\n",
       "        1.61336111e+03, 3.52663333e+03, 7.70884000e+03],\n",
       "       ...,\n",
       "       [1.00000000e+00, 3.40000000e+01, 3.84000000e+01, ...,\n",
       "        6.41777778e+02, 1.36293333e+03, 2.89444000e+03],\n",
       "       [1.00000000e+00, 3.62000000e+01, 3.66000000e+01, ...,\n",
       "        4.06694444e+02, 1.06076667e+03, 2.76676000e+03],\n",
       "       [1.00000000e+00, 2.44000000e+01, 3.34000000e+01, ...,\n",
       "        4.48027778e+02, 1.15570000e+03, 2.98116000e+03]])"
      ]
     },
     "execution_count": 474,
     "metadata": {},
     "output_type": "execute_result"
    }
   ],
   "source": [
    "poly_train"
   ]
  },
  {
   "cell_type": "code",
   "execution_count": 475,
   "id": "78425aeb",
   "metadata": {},
   "outputs": [
    {
     "data": {
      "text/plain": [
       "(698,)"
      ]
     },
     "execution_count": 475,
     "metadata": {},
     "output_type": "execute_result"
    }
   ],
   "source": [
    "poly_train.T[0].flatten().shape"
   ]
  },
  {
   "cell_type": "code",
   "execution_count": 476,
   "id": "9d1e06a4",
   "metadata": {},
   "outputs": [
    {
     "data": {
      "text/plain": [
       "(698,)"
      ]
     },
     "execution_count": 476,
     "metadata": {},
     "output_type": "execute_result"
    }
   ],
   "source": [
    "pre_y.flatten().shape"
   ]
  },
  {
   "cell_type": "code",
   "execution_count": 477,
   "id": "49cd2192",
   "metadata": {
    "scrolled": true
   },
   "outputs": [
    {
     "data": {
      "text/plain": [
       "<matplotlib.legend.Legend at 0x225e4a99850>"
      ]
     },
     "execution_count": 477,
     "metadata": {},
     "output_type": "execute_result"
    },
    {
     "data": {
      "image/png": "[encoded data removed]",
      "text/plain": [
       "<Figure size 640x480 with 1 Axes>"
      ]
     },
     "metadata": {},
     "output_type": "display_data"
    }
   ],
   "source": [
    "plt.scatter(X_train['movement'], y_train, label='movement',s=2)\n",
    "plt.scatter(X_train['power'], y_train, label='power',s=2)\n",
    "plt.scatter(X_train['mentality'], y_train, label='mentality',s=2)\n",
    "plt.scatter(X_train['goalkeeping'], y_train, label='goalkeeping',s=2)\n",
    "# plt.plot(poly_train.T[1].flatten(), pre_y.flatten(), color='r', label='reg line')\n",
    "plt.xlabel('movement&power&mentality&goalkeeping')\n",
    "plt.ylabel('overall')\n",
    "plt.legend()"
   ]
  },
  {
   "cell_type": "code",
   "execution_count": null,
   "id": "f044edba",
   "metadata": {},
   "outputs": [],
   "source": []
  },
  {
   "cell_type": "code",
   "execution_count": 478,
   "id": "b45049d0",
   "metadata": {},
   "outputs": [],
   "source": [
    "for_prey=for_prey.reset_index()\n",
    "for_prey1=for_prey1.reset_index()\n",
    "for_prey2=for_prey2.reset_index()\n",
    "for_prey3=for_prey3.reset_index()"
   ]
  },
  {
   "cell_type": "code",
   "execution_count": 479,
   "id": "49a5ea1b",
   "metadata": {},
   "outputs": [],
   "source": [
    "overall_df=pd.concat([for_prey, for_prey1], axis=0)"
   ]
  },
  {
   "cell_type": "code",
   "execution_count": 480,
   "id": "80cb38cc",
   "metadata": {},
   "outputs": [
    {
     "data": {
      "text/plain": [
       "0"
      ]
     },
     "execution_count": 480,
     "metadata": {},
     "output_type": "execute_result"
    }
   ],
   "source": [
    "overall_df.duplicated().sum()"
   ]
  },
  {
   "cell_type": "code",
   "execution_count": 481,
   "id": "9661c019",
   "metadata": {},
   "outputs": [],
   "source": [
    "overall_df=pd.concat([overall_df, for_prey2], axis=0)"
   ]
  },
  {
   "cell_type": "code",
   "execution_count": 482,
   "id": "54e45816",
   "metadata": {},
   "outputs": [
    {
     "data": {
      "text/plain": [
       "0"
      ]
     },
     "execution_count": 482,
     "metadata": {},
     "output_type": "execute_result"
    }
   ],
   "source": [
    "overall_df.duplicated().sum()"
   ]
  },
  {
   "cell_type": "code",
   "execution_count": 483,
   "id": "79781408",
   "metadata": {
    "scrolled": true
   },
   "outputs": [
    {
     "data": {
      "text/html": [
       "<div>\n",
       "<style scoped>\n",
       "    .dataframe tbody tr th:only-of-type {\n",
       "        vertical-align: middle;\n",
       "    }\n",
       "\n",
       "    .dataframe tbody tr th {\n",
       "        vertical-align: top;\n",
       "    }\n",
       "\n",
       "    .dataframe thead th {\n",
       "        text-align: right;\n",
       "    }\n",
       "</style>\n",
       "<table border=\"1\" class=\"dataframe\">\n",
       "  <thead>\n",
       "    <tr style=\"text-align: right;\">\n",
       "      <th></th>\n",
       "      <th>index</th>\n",
       "      <th>overall</th>\n",
       "      <th>pre_overall</th>\n",
       "    </tr>\n",
       "  </thead>\n",
       "  <tbody>\n",
       "    <tr>\n",
       "      <th>0</th>\n",
       "      <td>15</td>\n",
       "      <td>89</td>\n",
       "      <td>86.924492</td>\n",
       "    </tr>\n",
       "    <tr>\n",
       "      <th>1</th>\n",
       "      <td>22</td>\n",
       "      <td>88</td>\n",
       "      <td>88.459787</td>\n",
       "    </tr>\n",
       "    <tr>\n",
       "      <th>2</th>\n",
       "      <td>39</td>\n",
       "      <td>87</td>\n",
       "      <td>86.725885</td>\n",
       "    </tr>\n",
       "    <tr>\n",
       "      <th>3</th>\n",
       "      <td>42</td>\n",
       "      <td>87</td>\n",
       "      <td>83.532495</td>\n",
       "    </tr>\n",
       "    <tr>\n",
       "      <th>4</th>\n",
       "      <td>44</td>\n",
       "      <td>87</td>\n",
       "      <td>82.045125</td>\n",
       "    </tr>\n",
       "    <tr>\n",
       "      <th>...</th>\n",
       "      <td>...</td>\n",
       "      <td>...</td>\n",
       "      <td>...</td>\n",
       "    </tr>\n",
       "    <tr>\n",
       "      <th>693</th>\n",
       "      <td>14508</td>\n",
       "      <td>56</td>\n",
       "      <td>56.369980</td>\n",
       "    </tr>\n",
       "    <tr>\n",
       "      <th>694</th>\n",
       "      <td>14635</td>\n",
       "      <td>55</td>\n",
       "      <td>54.632266</td>\n",
       "    </tr>\n",
       "    <tr>\n",
       "      <th>695</th>\n",
       "      <td>14822</td>\n",
       "      <td>54</td>\n",
       "      <td>55.448137</td>\n",
       "    </tr>\n",
       "    <tr>\n",
       "      <th>696</th>\n",
       "      <td>14845</td>\n",
       "      <td>53</td>\n",
       "      <td>54.180130</td>\n",
       "    </tr>\n",
       "    <tr>\n",
       "      <th>697</th>\n",
       "      <td>14875</td>\n",
       "      <td>53</td>\n",
       "      <td>55.238047</td>\n",
       "    </tr>\n",
       "  </tbody>\n",
       "</table>\n",
       "<p>15086 rows × 3 columns</p>\n",
       "</div>"
      ],
      "text/plain": [
       "     index  overall  pre_overall\n",
       "0       15       89    86.924492\n",
       "1       22       88    88.459787\n",
       "2       39       87    86.725885\n",
       "3       42       87    83.532495\n",
       "4       44       87    82.045125\n",
       "..     ...      ...          ...\n",
       "693  14508       56    56.369980\n",
       "694  14635       55    54.632266\n",
       "695  14822       54    55.448137\n",
       "696  14845       53    54.180130\n",
       "697  14875       53    55.238047\n",
       "\n",
       "[15086 rows x 3 columns]"
      ]
     },
     "execution_count": 483,
     "metadata": {},
     "output_type": "execute_result"
    }
   ],
   "source": [
    "overall_df=pd.concat([overall_df, for_prey3], axis=0)\n",
    "overall_df"
   ]
  },
  {
   "cell_type": "code",
   "execution_count": 484,
   "id": "e08b1b01",
   "metadata": {},
   "outputs": [
    {
     "data": {
      "text/plain": [
       "0"
      ]
     },
     "execution_count": 484,
     "metadata": {},
     "output_type": "execute_result"
    }
   ],
   "source": [
    "overall_df.duplicated().sum()"
   ]
  },
  {
   "cell_type": "code",
   "execution_count": 485,
   "id": "f2480588",
   "metadata": {},
   "outputs": [],
   "source": [
    "sorted_df = overall_df.sort_values(by='index')"
   ]
  },
  {
   "cell_type": "code",
   "execution_count": 486,
   "id": "1793fdde",
   "metadata": {
    "scrolled": true
   },
   "outputs": [
    {
     "data": {
      "text/html": [
       "<div>\n",
       "<style scoped>\n",
       "    .dataframe tbody tr th:only-of-type {\n",
       "        vertical-align: middle;\n",
       "    }\n",
       "\n",
       "    .dataframe tbody tr th {\n",
       "        vertical-align: top;\n",
       "    }\n",
       "\n",
       "    .dataframe thead th {\n",
       "        text-align: right;\n",
       "    }\n",
       "</style>\n",
       "<table border=\"1\" class=\"dataframe\">\n",
       "  <thead>\n",
       "    <tr style=\"text-align: right;\">\n",
       "      <th></th>\n",
       "      <th>index</th>\n",
       "      <th>overall</th>\n",
       "      <th>pre_overall</th>\n",
       "    </tr>\n",
       "  </thead>\n",
       "  <tbody>\n",
       "    <tr>\n",
       "      <th>0</th>\n",
       "      <td>0</td>\n",
       "      <td>93</td>\n",
       "      <td>103.527954</td>\n",
       "    </tr>\n",
       "    <tr>\n",
       "      <th>1</th>\n",
       "      <td>1</td>\n",
       "      <td>92</td>\n",
       "      <td>94.490629</td>\n",
       "    </tr>\n",
       "    <tr>\n",
       "      <th>2</th>\n",
       "      <td>2</td>\n",
       "      <td>91</td>\n",
       "      <td>99.610405</td>\n",
       "    </tr>\n",
       "    <tr>\n",
       "      <th>3</th>\n",
       "      <td>3</td>\n",
       "      <td>91</td>\n",
       "      <td>96.734964</td>\n",
       "    </tr>\n",
       "    <tr>\n",
       "      <th>0</th>\n",
       "      <td>4</td>\n",
       "      <td>91</td>\n",
       "      <td>85.483292</td>\n",
       "    </tr>\n",
       "    <tr>\n",
       "      <th>...</th>\n",
       "      <td>...</td>\n",
       "      <td>...</td>\n",
       "      <td>...</td>\n",
       "    </tr>\n",
       "    <tr>\n",
       "      <th>9585</th>\n",
       "      <td>15081</td>\n",
       "      <td>47</td>\n",
       "      <td>59.347590</td>\n",
       "    </tr>\n",
       "    <tr>\n",
       "      <th>9586</th>\n",
       "      <td>15082</td>\n",
       "      <td>47</td>\n",
       "      <td>56.017337</td>\n",
       "    </tr>\n",
       "    <tr>\n",
       "      <th>9587</th>\n",
       "      <td>15083</td>\n",
       "      <td>47</td>\n",
       "      <td>53.995343</td>\n",
       "    </tr>\n",
       "    <tr>\n",
       "      <th>9588</th>\n",
       "      <td>15084</td>\n",
       "      <td>47</td>\n",
       "      <td>55.469514</td>\n",
       "    </tr>\n",
       "    <tr>\n",
       "      <th>9589</th>\n",
       "      <td>15085</td>\n",
       "      <td>47</td>\n",
       "      <td>54.593141</td>\n",
       "    </tr>\n",
       "  </tbody>\n",
       "</table>\n",
       "<p>15086 rows × 3 columns</p>\n",
       "</div>"
      ],
      "text/plain": [
       "      index  overall  pre_overall\n",
       "0         0       93   103.527954\n",
       "1         1       92    94.490629\n",
       "2         2       91    99.610405\n",
       "3         3       91    96.734964\n",
       "0         4       91    85.483292\n",
       "...     ...      ...          ...\n",
       "9585  15081       47    59.347590\n",
       "9586  15082       47    56.017337\n",
       "9587  15083       47    53.995343\n",
       "9588  15084       47    55.469514\n",
       "9589  15085       47    54.593141\n",
       "\n",
       "[15086 rows x 3 columns]"
      ]
     },
     "execution_count": 486,
     "metadata": {},
     "output_type": "execute_result"
    }
   ],
   "source": [
    "sorted_df"
   ]
  },
  {
   "cell_type": "code",
   "execution_count": 487,
   "id": "70cc465e",
   "metadata": {},
   "outputs": [],
   "source": [
    "sorted_df['pre_overall'] = sorted_df['pre_overall'].round(0)"
   ]
  },
  {
   "cell_type": "code",
   "execution_count": 488,
   "id": "a775d441",
   "metadata": {},
   "outputs": [
    {
     "data": {
      "text/html": [
       "<div>\n",
       "<style scoped>\n",
       "    .dataframe tbody tr th:only-of-type {\n",
       "        vertical-align: middle;\n",
       "    }\n",
       "\n",
       "    .dataframe tbody tr th {\n",
       "        vertical-align: top;\n",
       "    }\n",
       "\n",
       "    .dataframe thead th {\n",
       "        text-align: right;\n",
       "    }\n",
       "</style>\n",
       "<table border=\"1\" class=\"dataframe\">\n",
       "  <thead>\n",
       "    <tr style=\"text-align: right;\">\n",
       "      <th></th>\n",
       "      <th>index</th>\n",
       "      <th>overall</th>\n",
       "      <th>pre_overall</th>\n",
       "    </tr>\n",
       "  </thead>\n",
       "  <tbody>\n",
       "    <tr>\n",
       "      <th>0</th>\n",
       "      <td>0</td>\n",
       "      <td>93</td>\n",
       "      <td>104</td>\n",
       "    </tr>\n",
       "    <tr>\n",
       "      <th>1</th>\n",
       "      <td>1</td>\n",
       "      <td>92</td>\n",
       "      <td>94</td>\n",
       "    </tr>\n",
       "    <tr>\n",
       "      <th>2</th>\n",
       "      <td>2</td>\n",
       "      <td>91</td>\n",
       "      <td>100</td>\n",
       "    </tr>\n",
       "    <tr>\n",
       "      <th>3</th>\n",
       "      <td>3</td>\n",
       "      <td>91</td>\n",
       "      <td>97</td>\n",
       "    </tr>\n",
       "    <tr>\n",
       "      <th>0</th>\n",
       "      <td>4</td>\n",
       "      <td>91</td>\n",
       "      <td>85</td>\n",
       "    </tr>\n",
       "    <tr>\n",
       "      <th>...</th>\n",
       "      <td>...</td>\n",
       "      <td>...</td>\n",
       "      <td>...</td>\n",
       "    </tr>\n",
       "    <tr>\n",
       "      <th>9585</th>\n",
       "      <td>15081</td>\n",
       "      <td>47</td>\n",
       "      <td>59</td>\n",
       "    </tr>\n",
       "    <tr>\n",
       "      <th>9586</th>\n",
       "      <td>15082</td>\n",
       "      <td>47</td>\n",
       "      <td>56</td>\n",
       "    </tr>\n",
       "    <tr>\n",
       "      <th>9587</th>\n",
       "      <td>15083</td>\n",
       "      <td>47</td>\n",
       "      <td>54</td>\n",
       "    </tr>\n",
       "    <tr>\n",
       "      <th>9588</th>\n",
       "      <td>15084</td>\n",
       "      <td>47</td>\n",
       "      <td>55</td>\n",
       "    </tr>\n",
       "    <tr>\n",
       "      <th>9589</th>\n",
       "      <td>15085</td>\n",
       "      <td>47</td>\n",
       "      <td>55</td>\n",
       "    </tr>\n",
       "  </tbody>\n",
       "</table>\n",
       "<p>15086 rows × 3 columns</p>\n",
       "</div>"
      ],
      "text/plain": [
       "      index  overall  pre_overall\n",
       "0         0       93          104\n",
       "1         1       92           94\n",
       "2         2       91          100\n",
       "3         3       91           97\n",
       "0         4       91           85\n",
       "...     ...      ...          ...\n",
       "9585  15081       47           59\n",
       "9586  15082       47           56\n",
       "9587  15083       47           54\n",
       "9588  15084       47           55\n",
       "9589  15085       47           55\n",
       "\n",
       "[15086 rows x 3 columns]"
      ]
     },
     "execution_count": 488,
     "metadata": {},
     "output_type": "execute_result"
    }
   ],
   "source": [
    "sorted_df=sorted_df.astype('int64')\n",
    "sorted_df"
   ]
  },
  {
   "cell_type": "code",
   "execution_count": null,
   "id": "eb967ec0",
   "metadata": {},
   "outputs": [],
   "source": [
    "sorted_df.to_csv(\"player_overall23.csv\")"
   ]
  },
  {
   "cell_type": "code",
   "execution_count": null,
   "id": "7a19c033",
   "metadata": {},
   "outputs": [],
   "source": []
  }
 ],
 "metadata": {
  "kernelspec": {
   "display_name": "Python 3 (ipykernel)",
   "language": "python",
   "name": "python3"
  },
  "language_info": {
   "codemirror_mode": {
    "name": "ipython",
    "version": 3
   },
   "file_extension": ".py",
   "mimetype": "text/x-python",
   "name": "python",
   "nbconvert_exporter": "python",
   "pygments_lexer": "ipython3",
   "version": "3.9.17"
  }
 },
 "nbformat": 4,
 "nbformat_minor": 5
}
